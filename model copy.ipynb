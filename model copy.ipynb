{
 "cells": [
  {
   "attachments": {},
   "cell_type": "markdown",
   "metadata": {},
   "source": [
    "# **Import Data**"
   ]
  },
  {
   "cell_type": "code",
   "execution_count": 32,
   "metadata": {},
   "outputs": [],
   "source": [
    "import pandas as pd\n",
    "\n",
    "# Import data\n",
    "legit = pd.read_csv(\"datasets/unb-university/Benign_list_big_final.csv\")\n",
    "phishing = pd.read_csv(\"datasets/unb-university/phishing_dataset.csv\")\n",
    "malware = pd.read_csv(\"datasets/unb-university/Malware_dataset.csv\")\n",
    "spam = pd.read_csv(\"datasets/unb-university/spam_dataset.csv\")"
   ]
  },
  {
   "cell_type": "code",
   "execution_count": 33,
   "metadata": {},
   "outputs": [],
   "source": [
    "legit.columns = ['url']\n",
    "phishing.columns = ['url']\n",
    "malware.columns = ['url']\n",
    "spam.columns = ['url']\n",
    "\n",
    "malicious = pd.concat([phishing, malware, spam])"
   ]
  },
  {
   "attachments": {},
   "cell_type": "markdown",
   "metadata": {},
   "source": [
    "# **Prepare Data**"
   ]
  },
  {
   "cell_type": "code",
   "execution_count": 34,
   "metadata": {},
   "outputs": [
    {
     "name": "stdout",
     "output_type": "stream",
     "text": [
      "Legit null values: url    0\n",
      "dtype: int64\n",
      "\n",
      "Malicious null values: url    0\n",
      "dtype: int64\n"
     ]
    }
   ],
   "source": [
    "# Check null values\n",
    "print(f\"Legit null values: {legit.isnull().sum()}\")\n",
    "print()\n",
    "print(f\"Malicious null values: {malicious.isnull().sum()}\")"
   ]
  },
  {
   "cell_type": "code",
   "execution_count": 35,
   "metadata": {},
   "outputs": [
    {
     "name": "stdout",
     "output_type": "stream",
     "text": [
      "Legit's duplicates num: 0\n",
      "Malicious duplicates num: 8962\n",
      "\n",
      "After dropping duplicates\n",
      "Legit's duplicates num: 0\n",
      "Malicious duplicates num: 0\n"
     ]
    }
   ],
   "source": [
    "# Drop duplicates\n",
    "print(f\"Legit's duplicates num: {legit.duplicated().sum()}\")\n",
    "print(f\"Malicious duplicates num: {malicious.duplicated().sum()}\")\n",
    "\n",
    "legit = legit.drop_duplicates()\n",
    "malicious = malicious.drop_duplicates()\n",
    "print()\n",
    "print(\"After dropping duplicates\")\n",
    "\n",
    "print(f\"Legit's duplicates num: {legit.duplicated().sum()}\")\n",
    "print(f\"Malicious duplicates num: {malicious.duplicated().sum()}\")"
   ]
  },
  {
   "cell_type": "code",
   "execution_count": 36,
   "metadata": {},
   "outputs": [
    {
     "name": "stdout",
     "output_type": "stream",
     "text": [
      "(35377, 1)\n",
      "(24566, 1)\n"
     ]
    }
   ],
   "source": [
    "# Check if there is imbalance\n",
    "print(legit.shape)\n",
    "print(malicious.shape)"
   ]
  },
  {
   "cell_type": "code",
   "execution_count": 37,
   "metadata": {},
   "outputs": [
    {
     "data": {
      "text/plain": [
       "(10811, 1)"
      ]
     },
     "execution_count": 37,
     "metadata": {},
     "output_type": "execute_result"
    }
   ],
   "source": [
    "# Add the right amount of phishing urls data from phishtank\n",
    "phishtank = pd.read_csv('datasets/phishtank-phishing-urls.csv')\n",
    "\n",
    "# Get the missing amount\n",
    "legit_mal_diff = int(len(legit.index) - len(malicious.index))\n",
    "\n",
    "# Randomly select the urls from phishtank dataset\n",
    "phishtank = phishtank.sample(n=legit_mal_diff,random_state=42)\n",
    "phishtank.shape"
   ]
  },
  {
   "cell_type": "code",
   "execution_count": 38,
   "metadata": {},
   "outputs": [
    {
     "name": "stdout",
     "output_type": "stream",
     "text": [
      "(35377, 1)\n",
      "(35377, 1)\n"
     ]
    }
   ],
   "source": [
    "malicious_added = pd.concat([malicious, phishtank])\n",
    "\n",
    "print(legit.shape)\n",
    "print(malicious_added.shape)"
   ]
  },
  {
   "cell_type": "code",
   "execution_count": 39,
   "metadata": {},
   "outputs": [],
   "source": [
    "# add a 'label' column to the dataframes\n",
    "legit[\"label\"] = 0\n",
    "malicious_added[\"label\"] = 1"
   ]
  },
  {
   "cell_type": "code",
   "execution_count": 40,
   "metadata": {},
   "outputs": [
    {
     "name": "stdout",
     "output_type": "stream",
     "text": [
      "(70754, 2)\n"
     ]
    }
   ],
   "source": [
    "# combine the two dataframes\n",
    "df = pd.concat([legit, malicious_added], ignore_index=True)\n",
    "\n",
    "# shuffle the dataframe's rows randomly\n",
    "df = df.sample(frac=1, random_state=42) # Set random_state to an integer for reproducibility\n",
    "df.reset_index(drop=True, inplace=True)\n",
    "\n",
    "print(df.shape)"
   ]
  },
  {
   "cell_type": "code",
   "execution_count": 41,
   "metadata": {},
   "outputs": [
    {
     "data": {
      "text/plain": [
       "<Axes: xlabel='label', ylabel='count'>"
      ]
     },
     "execution_count": 41,
     "metadata": {},
     "output_type": "execute_result"
    },
    {
     "data": {
      "image/png": "[encoded data removed]",
      "text/plain": [
       "<Figure size 640x480 with 1 Axes>"
      ]
     },
     "metadata": {},
     "output_type": "display_data"
    }
   ],
   "source": [
    "import seaborn as sns\n",
    "\n",
    "# print the counts for each category\n",
    "sns.countplot(x=df[\"label\"])"
   ]
  },
  {
   "cell_type": "code",
   "execution_count": 42,
   "metadata": {},
   "outputs": [
    {
     "name": "stdout",
     "output_type": "stream",
     "text": [
      "url      0\n",
      "label    0\n",
      "dtype: int64\n"
     ]
    },
    {
     "name": "stdout",
     "output_type": "stream",
     "text": [
      "1\n"
     ]
    }
   ],
   "source": [
    "print(df.isnull().sum())\n",
    "print(df.duplicated().sum())"
   ]
  },
  {
   "attachments": {},
   "cell_type": "markdown",
   "metadata": {},
   "source": [
    "# **Extracting Features**"
   ]
  },
  {
   "cell_type": "code",
   "execution_count": 43,
   "metadata": {},
   "outputs": [],
   "source": [
    "# importing required packages for this section\n",
    "from urllib.parse import urlparse\n",
    "import ipaddress\n",
    "import re\n",
    "\n",
    "# 1.Domain of the URL (Domain) \n",
    "def getDomain(url):  \n",
    "    domain = urlparse(url).netloc\n",
    "    if re.match(r\"^www.\",domain):\n",
    "            domain = domain.replace(\"www.\",\"\")\n",
    "    return domain\n",
    "\n",
    "# 2.Checks for IP address in URL (Have_IP)\n",
    "def havingIP(url):\n",
    "    try:\n",
    "        ipaddress.ip_address(url)\n",
    "        ip = 1\n",
    "    except:\n",
    "        ip = 0\n",
    "    return ip\n",
    "\n",
    "# 3.Checks the presence of @ in URL (Have_At)\n",
    "def haveAtSign(url):\n",
    "    if \"@\" in url:\n",
    "        at = 1\n",
    "    else:\n",
    "        at = 0    \n",
    "    return at\n",
    "\n",
    "# 4.Finding the length of URL and categorizing (URL_Length)\n",
    "def getLength(url):\n",
    "    if len(url) < 54:\n",
    "        return 1\n",
    "    else:\n",
    "        return 0\n",
    "\n",
    "# 5.Gives number of '/' in URL (URL_Depth)\n",
    "def getDepth(url):\n",
    "    s = urlparse(url).path.split('/')\n",
    "    depth = 0\n",
    "    for j in range(len(s)):\n",
    "        if len(s[j]) != 0:\n",
    "            depth = depth+1\n",
    "    return depth\n",
    "\n",
    "# 6.Checking for redirection '//' in the url (Redirection)\n",
    "def redirection(url):\n",
    "    pos = url.rfind('//')\n",
    "    if pos > 6:\n",
    "        if pos > 7:\n",
    "            return 1\n",
    "        else:\n",
    "            return 0\n",
    "    else:\n",
    "        return 0\n",
    "\n",
    "# 7.Existence of “HTTPS” Token in the Domain Part of the URL (https_Domain)\n",
    "def httpDomain(url):\n",
    "    domain = urlparse(url).netloc\n",
    "    if 'https' in domain:\n",
    "        return 1\n",
    "    else:\n",
    "        return 0\n",
    "    \n",
    "\n",
    "# Combine them in to one function\n",
    "def featureExtraction(url,label):\n",
    "    \n",
    "    features = []\n",
    "    features.append(url)\n",
    "    #Address bar based features (10)\n",
    "    features.append(getDomain(url))\n",
    "    features.append(havingIP(url))\n",
    "    features.append(haveAtSign(url))\n",
    "    features.append(getLength(url))\n",
    "    features.append(getDepth(url))\n",
    "    features.append(redirection(url))\n",
    "    features.append(httpDomain(url))\n",
    "    features.append(label)\n",
    "\n",
    "    return features"
   ]
  },
  {
   "cell_type": "code",
   "execution_count": 44,
   "metadata": {},
   "outputs": [],
   "source": [
    "features = []\n",
    "\n",
    "for i in range(len(df)):\n",
    "    url = df['url'][i]\n",
    "    label = df['label'][i]\n",
    "    features.append(featureExtraction(url,label))"
   ]
  },
  {
   "cell_type": "code",
   "execution_count": 45,
   "metadata": {},
   "outputs": [
    {
     "data": {
      "text/html": [
       "<div>\n",
       "<style scoped>\n",
       "    .dataframe tbody tr th:only-of-type {\n",
       "        vertical-align: middle;\n",
       "    }\n",
       "\n",
       "    .dataframe tbody tr th {\n",
       "        vertical-align: top;\n",
       "    }\n",
       "\n",
       "    .dataframe thead th {\n",
       "        text-align: right;\n",
       "    }\n",
       "</style>\n",
       "<table border=\"1\" class=\"dataframe\">\n",
       "  <thead>\n",
       "    <tr style=\"text-align: right;\">\n",
       "      <th></th>\n",
       "      <th>url</th>\n",
       "      <th>Domain</th>\n",
       "      <th>Have_IP</th>\n",
       "      <th>Have_At</th>\n",
       "      <th>URL_Length</th>\n",
       "      <th>URL_Depth</th>\n",
       "      <th>Redirection</th>\n",
       "      <th>https_Domain</th>\n",
       "      <th>label</th>\n",
       "    </tr>\n",
       "  </thead>\n",
       "  <tbody>\n",
       "    <tr>\n",
       "      <th>0</th>\n",
       "      <td>http://mylust.com/videos/235749/japanese-anime...</td>\n",
       "      <td>mylust.com</td>\n",
       "      <td>0</td>\n",
       "      <td>0</td>\n",
       "      <td>0</td>\n",
       "      <td>3</td>\n",
       "      <td>0</td>\n",
       "      <td>0</td>\n",
       "      <td>0</td>\n",
       "    </tr>\n",
       "    <tr>\n",
       "      <th>1</th>\n",
       "      <td>http://troikacapital.ru/glavnoe_upravlenie_min...</td>\n",
       "      <td>troikacapital.ru</td>\n",
       "      <td>0</td>\n",
       "      <td>0</td>\n",
       "      <td>0</td>\n",
       "      <td>1</td>\n",
       "      <td>0</td>\n",
       "      <td>0</td>\n",
       "      <td>1</td>\n",
       "    </tr>\n",
       "  </tbody>\n",
       "</table>\n",
       "</div>"
      ],
      "text/plain": [
       "                                                 url            Domain  \\\n",
       "0  http://mylust.com/videos/235749/japanese-anime...        mylust.com   \n",
       "1  http://troikacapital.ru/glavnoe_upravlenie_min...  troikacapital.ru   \n",
       "\n",
       "   Have_IP  Have_At  URL_Length  URL_Depth  Redirection  https_Domain  label  \n",
       "0        0        0           0          3            0             0      0  \n",
       "1        0        0           0          1            0             0      1  "
      ]
     },
     "execution_count": 45,
     "metadata": {},
     "output_type": "execute_result"
    }
   ],
   "source": [
    "feature_names = ['url', 'Domain', 'Have_IP', 'Have_At', 'URL_Length', 'URL_Depth','Redirection','https_Domain', 'label']\n",
    "\n",
    "df = pd.DataFrame(features, columns= feature_names)\n",
    "df.head(2)"
   ]
  },
  {
   "attachments": {},
   "cell_type": "markdown",
   "metadata": {},
   "source": [
    "# **EDA**"
   ]
  },
  {
   "cell_type": "code",
   "execution_count": 46,
   "metadata": {},
   "outputs": [
    {
     "data": {
      "text/plain": [
       "<Axes: xlabel='https_Domain', ylabel='count'>"
      ]
     },
     "execution_count": 46,
     "metadata": {},
     "output_type": "execute_result"
    },
    {
     "data": {
      "image/png": "[encoded data removed]",
      "text/plain": [
       "<Figure size 1800x1000 with 6 Axes>"
      ]
     },
     "metadata": {},
     "output_type": "display_data"
    }
   ],
   "source": [
    "import seaborn as sns\n",
    "import matplotlib.pyplot as plt\n",
    "\n",
    "fig, axes = plt.subplots(2, 3, figsize=(18, 10))\n",
    "\n",
    "fig.suptitle('All Features')\n",
    "\n",
    "iris = sns.load_dataset(\"iris\")\n",
    "\n",
    "sns.countplot(ax=axes[0, 0], data=df, x=\"Have_IP\", hue=\"label\")\n",
    "sns.countplot(ax=axes[0, 1], data=df, x=\"Have_At\", hue=\"label\")\n",
    "sns.countplot(ax=axes[0, 2], data=df, x=\"URL_Length\", hue=\"label\")\n",
    "sns.countplot(ax=axes[1, 0], data=df, x=\"URL_Depth\", hue=\"label\")\n",
    "sns.countplot(ax=axes[1, 1], data=df, x=\"Redirection\", hue=\"label\")\n",
    "sns.countplot(ax=axes[1, 2], data=df, x=\"https_Domain\", hue=\"label\")"
   ]
  },
  {
   "cell_type": "code",
   "execution_count": 47,
   "metadata": {},
   "outputs": [],
   "source": [
    "# Features can be used: URL_Length, URL_Depth"
   ]
  },
  {
   "attachments": {},
   "cell_type": "markdown",
   "metadata": {},
   "source": [
    "# **Vectorizing and Labeling**"
   ]
  },
  {
   "cell_type": "code",
   "execution_count": 48,
   "metadata": {},
   "outputs": [],
   "source": [
    "url_df = df['url']\n",
    "domain_df = df['Domain']\n",
    "feature_df = df[['URL_Length', 'URL_Depth']]\n",
    "label_df = df['label']"
   ]
  },
  {
   "cell_type": "code",
   "execution_count": 49,
   "metadata": {},
   "outputs": [],
   "source": [
    "from sklearn.feature_extraction.text import CountVectorizer\n",
    "from sklearn.preprocessing import StandardScaler\n",
    "import scipy.sparse as sp\n",
    "import numpy as np\n",
    "\n",
    "# Vectorize URLs\n",
    "vectorizer_url = CountVectorizer()\n",
    "url_vec = vectorizer_url.fit_transform(url_df)\n",
    "\n",
    "# Vectorize Domains\n",
    "vectorizer_domain = CountVectorizer()\n",
    "domain_vec = vectorizer_domain.fit_transform(domain_df)\n",
    "\n",
    "# Convert other features to arrays\n",
    "features_arr = np.asarray(feature_df)\n",
    "scaler = StandardScaler()\n",
    "features_arr_scaled = scaler.fit_transform(features_arr)\n",
    "\n",
    "# Concatenate url_vec, domain_vec, and features_arr as sparse matrices\n",
    "combined_features_arr = sp.hstack((url_vec, domain_vec, sp.csr_matrix(features_arr_scaled)), format='csr')\n",
    "\n",
    "# Label to array\n",
    "label_arr = np.asarray(label_df)"
   ]
  },
  {
   "attachments": {},
   "cell_type": "markdown",
   "metadata": {},
   "source": [
    "# **Train Test Split**"
   ]
  },
  {
   "cell_type": "code",
   "execution_count": 50,
   "metadata": {},
   "outputs": [
    {
     "name": "stdout",
     "output_type": "stream",
     "text": [
      "Train:  53065\n",
      "Test:  17689\n"
     ]
    }
   ],
   "source": [
    "from sklearn.model_selection import train_test_split\n",
    "\n",
    "x_train, x_test, y_train, y_test = train_test_split(combined_features_arr, label_arr, test_size=0.25, random_state=42)\n",
    "\n",
    "print('Train: ', x_train.shape[0])\n",
    "print('Test: ', x_test.shape[0])"
   ]
  },
  {
   "cell_type": "code",
   "execution_count": 51,
   "metadata": {},
   "outputs": [
    {
     "name": "stdout",
     "output_type": "stream",
     "text": [
      "Train:\n",
      "Label 0 count: 26595\n",
      "Label 1 count: 26470\n"
     ]
    }
   ],
   "source": [
    "# Calculate the distribution of target labels in the training set\n",
    "train_label_counts = {\n",
    "    '0': (y_train == 0).sum(),\n",
    "    '1': (y_train == 1).sum()\n",
    "}\n",
    "\n",
    "print('Train:')\n",
    "print('Label 0 count:', train_label_counts['0'])\n",
    "print('Label 1 count:', train_label_counts['1'])"
   ]
  },
  {
   "attachments": {},
   "cell_type": "markdown",
   "metadata": {},
   "source": [
    "# **Logistic Regression**"
   ]
  },
  {
   "cell_type": "code",
   "execution_count": 52,
   "metadata": {},
   "outputs": [],
   "source": [
    "# modeling lbfgs\n",
    "from sklearn.linear_model import LogisticRegression\n",
    "\n",
    "logreg = LogisticRegression(C= 0.01, class_weight= 'balanced', max_iter= 500, penalty= 'l2', random_state=42)\n",
    "lr_lbfgs = logreg.fit(x_train,y_train)"
   ]
  },
  {
   "cell_type": "code",
   "execution_count": 53,
   "metadata": {},
   "outputs": [
    {
     "name": "stdout",
     "output_type": "stream",
     "text": [
      "[0 0 1 ... 1 1 0]\n"
     ]
    }
   ],
   "source": [
    "y_pred_lr=logreg.predict(x_test)\n",
    "print(y_pred_lr)"
   ]
  },
  {
   "cell_type": "code",
   "execution_count": 54,
   "metadata": {},
   "outputs": [
    {
     "name": "stdout",
     "output_type": "stream",
     "text": [
      "Accuracy: 0.97\n",
      "F1 score: 0.97\n",
      "Jaccard score: 0.9461639058413251\n"
     ]
    }
   ],
   "source": [
    "from sklearn.metrics import accuracy_score, f1_score, jaccard_score\n",
    "\n",
    "# Calculate accuracy\n",
    "accuracy = accuracy_score(y_test, y_pred_lr)\n",
    "print(f\"Accuracy: {accuracy:.2f}\")\n",
    "\n",
    "# Calculate f1 score\n",
    "f1 = f1_score(y_test, y_pred_lr)\n",
    "print(f\"F1 score: {f1:.2f}\")\n",
    "\n",
    "# Calculate jaccard score\n",
    "print(f\"Jaccard score: {jaccard_score(y_test, y_pred_lr,pos_label=0)}\")\n"
   ]
  },
  {
   "cell_type": "code",
   "execution_count": 55,
   "metadata": {},
   "outputs": [
    {
     "data": {
      "text/plain": [
       "Text(0.5, 427.9555555555555, 'Predicted label')"
      ]
     },
     "execution_count": 55,
     "metadata": {},
     "output_type": "execute_result"
    },
    {
     "data": {
      "image/png": "[encoded data removed]",
      "text/plain": [
       "<Figure size 640x480 with 2 Axes>"
      ]
     },
     "metadata": {},
     "output_type": "display_data"
    }
   ],
   "source": [
    "from sklearn import metrics\n",
    "cnf_matrix = metrics.confusion_matrix(y_test, y_pred_lr)\n",
    "\n",
    "import numpy as np\n",
    "import matplotlib.pyplot as plt\n",
    "import seaborn as sns\n",
    "class_names=[] # name  of classes\n",
    "fig, ax = plt.subplots()\n",
    "tick_marks = np.arange(len(class_names))\n",
    "plt.xticks(tick_marks, class_names)\n",
    "plt.yticks(tick_marks, class_names)\n",
    "# create heatmap\n",
    "sns.heatmap(pd.DataFrame(cnf_matrix), annot=True, cmap=\"YlGnBu\" ,fmt='g')\n",
    "ax.xaxis.set_label_position(\"top\")\n",
    "plt.tight_layout()\n",
    "plt.title('Confusion matrix Logistic Regression', y=1.1)\n",
    "plt.ylabel('Actual label')\n",
    "plt.xlabel('Predicted label')"
   ]
  },
  {
   "cell_type": "markdown",
   "metadata": {},
   "source": [
    "# **Naive Bayes**"
   ]
  },
  {
   "cell_type": "code",
   "execution_count": null,
   "metadata": {},
   "outputs": [],
   "source": [
    "from sklearn.naive_bayes()"
   ]
  },
  {
   "attachments": {},
   "cell_type": "markdown",
   "metadata": {},
   "source": [
    "# **Testing**"
   ]
  },
  {
   "cell_type": "code",
   "execution_count": 56,
   "metadata": {},
   "outputs": [
    {
     "data": {
      "text/html": [
       "<div>\n",
       "<style scoped>\n",
       "    .dataframe tbody tr th:only-of-type {\n",
       "        vertical-align: middle;\n",
       "    }\n",
       "\n",
       "    .dataframe tbody tr th {\n",
       "        vertical-align: top;\n",
       "    }\n",
       "\n",
       "    .dataframe thead th {\n",
       "        text-align: right;\n",
       "    }\n",
       "</style>\n",
       "<table border=\"1\" class=\"dataframe\">\n",
       "  <thead>\n",
       "    <tr style=\"text-align: right;\">\n",
       "      <th></th>\n",
       "      <th>x</th>\n",
       "      <th>y</th>\n",
       "      <th>Unnamed: 2</th>\n",
       "      <th>Unnamed: 3</th>\n",
       "      <th>Unnamed: 4</th>\n",
       "    </tr>\n",
       "  </thead>\n",
       "  <tbody>\n",
       "    <tr>\n",
       "      <th>0</th>\n",
       "      <td>http://newmatdesign.ro/wp-admin/wewe/YAHOO/ya....</td>\n",
       "      <td>1</td>\n",
       "      <td>NaN</td>\n",
       "      <td>NaN</td>\n",
       "      <td>NaN</td>\n",
       "    </tr>\n",
       "    <tr>\n",
       "      <th>1</th>\n",
       "      <td>http://ca.linkedin.com/directory/people/ca/pou...</td>\n",
       "      <td>0</td>\n",
       "      <td>NaN</td>\n",
       "      <td>NaN</td>\n",
       "      <td>NaN</td>\n",
       "    </tr>\n",
       "    <tr>\n",
       "      <th>2</th>\n",
       "      <td>http://www.ccent.com.au/index.php?option=com_m...</td>\n",
       "      <td>1</td>\n",
       "      <td>NaN</td>\n",
       "      <td>NaN</td>\n",
       "      <td>NaN</td>\n",
       "    </tr>\n",
       "  </tbody>\n",
       "</table>\n",
       "</div>"
      ],
      "text/plain": [
       "                                                   x  y  Unnamed: 2  \\\n",
       "0  http://newmatdesign.ro/wp-admin/wewe/YAHOO/ya....  1         NaN   \n",
       "1  http://ca.linkedin.com/directory/people/ca/pou...  0         NaN   \n",
       "2  http://www.ccent.com.au/index.php?option=com_m...  1         NaN   \n",
       "\n",
       "  Unnamed: 3  Unnamed: 4  \n",
       "0        NaN         NaN  \n",
       "1        NaN         NaN  \n",
       "2        NaN         NaN  "
      ]
     },
     "execution_count": 56,
     "metadata": {},
     "output_type": "execute_result"
    }
   ],
   "source": [
    "test_df = pd.read_csv('datasets/publish-test.csv')\n",
    "test_df.head(3)"
   ]
  },
  {
   "cell_type": "code",
   "execution_count": 57,
   "metadata": {},
   "outputs": [
    {
     "name": "stderr",
     "output_type": "stream",
     "text": [
      "C:\\Users\\Admin\\AppData\\Local\\Temp\\ipykernel_15964\\3745391195.py:6: SettingWithCopyWarning: \n",
      "A value is trying to be set on a copy of a slice from a DataFrame\n",
      "\n",
      "See the caveats in the documentation: https://pandas.pydata.org/pandas-docs/stable/user_guide/indexing.html#returning-a-view-versus-a-copy\n",
      "  test.drop(indexValue , inplace=True)\n"
     ]
    },
    {
     "data": {
      "text/plain": [
       "(99, 2)"
      ]
     },
     "execution_count": 57,
     "metadata": {},
     "output_type": "execute_result"
    }
   ],
   "source": [
    "test = test_df[['x','y']]\n",
    "\n",
    "test.isnull().sum()\n",
    "test.dropna()\n",
    "indexValue = test[test['y'] == 'continue=to&amp'].index\n",
    "test.drop(indexValue , inplace=True)\n",
    "test.reset_index(drop=True, inplace=True)\n",
    "\n",
    "test.shape"
   ]
  },
  {
   "cell_type": "code",
   "execution_count": 58,
   "metadata": {},
   "outputs": [],
   "source": [
    "x_t = test['x']\n",
    "y_t = test['y'].astype(int)\n",
    "\n",
    "features = []\n",
    "\n",
    "for i in range(len(test)):\n",
    "    url = x_t[i]\n",
    "    label = y_t[i]\n",
    "    features.append(featureExtraction(url,label))\n",
    "\n",
    "#converting the list to dataframe\n",
    "feature_names = ['url', 'Domain', 'Have_IP', 'Have_At', 'URL_Length', 'URL_Depth','Redirection','https_Domain', 'label']\n",
    "df = pd.DataFrame(features, columns= feature_names)\n",
    "\n",
    "url_df = df['url']\n",
    "domain_df = df['Domain']\n",
    "feature_df = df[['URL_Length', 'URL_Depth']]\n",
    "label_df = df['label']"
   ]
  },
  {
   "cell_type": "code",
   "execution_count": 59,
   "metadata": {},
   "outputs": [],
   "source": [
    "# Vectorize URLs\n",
    "url_vec = vectorizer_url.transform(url_df)\n",
    "\n",
    "# Vectorize Domains\n",
    "domain_vec = vectorizer_domain.transform(domain_df)\n",
    "\n",
    "features_arr = np.asarray(feature_df)\n",
    "features_arr_scaled = scaler.transform(features_arr)\n",
    "\n",
    "combined_features_arr = sp.hstack((url_vec, domain_vec, sp.csr_matrix(features_arr_scaled)), format='csr')\n",
    "\n",
    "y_t = np.asarray(label_df)"
   ]
  },
  {
   "attachments": {},
   "cell_type": "markdown",
   "metadata": {},
   "source": [
    "## Logistic Regression"
   ]
  },
  {
   "cell_type": "code",
   "execution_count": 60,
   "metadata": {},
   "outputs": [
    {
     "name": "stdout",
     "output_type": "stream",
     "text": [
      "Jaccard score: 0.34\n",
      "Accuracy: 0.67\n",
      "F1 score: 0.75\n"
     ]
    }
   ],
   "source": [
    "y_t_pred_lr = logreg.predict(combined_features_arr)\n",
    "\n",
    "print(f\"Jaccard score: {jaccard_score(y_t, y_t_pred_lr,pos_label=0)}\")\n",
    "\n",
    "accuracy = accuracy_score(y_t, y_t_pred_lr)\n",
    "print(f\"Accuracy: {accuracy:.2f}\")\n",
    "\n",
    "f1 = f1_score(y_t, y_t_pred_lr)\n",
    "print(f\"F1 score: {f1:.2f}\")"
   ]
  },
  {
   "cell_type": "code",
   "execution_count": 61,
   "metadata": {},
   "outputs": [
    {
     "data": {
      "text/plain": [
       "Text(0.5, 427.9555555555555, 'Predicted label')"
      ]
     },
     "execution_count": 61,
     "metadata": {},
     "output_type": "execute_result"
    },
    {
     "data": {
      "image/png": "[encoded data removed]",
      "text/plain": [
       "<Figure size 640x480 with 2 Axes>"
      ]
     },
     "metadata": {},
     "output_type": "display_data"
    }
   ],
   "source": [
    "cnf_matrix = metrics.confusion_matrix(y_t, y_t_pred_lr)\n",
    "cnf_matrix\n",
    "\n",
    "class_names=[] # name  of classes\n",
    "fig, ax = plt.subplots()\n",
    "tick_marks = np.arange(len(class_names))\n",
    "plt.xticks(tick_marks, class_names)\n",
    "plt.yticks(tick_marks, class_names)\n",
    "# create heatmap\n",
    "sns.heatmap(pd.DataFrame(cnf_matrix), annot=True, cmap=\"YlGnBu\" ,fmt='g')\n",
    "ax.xaxis.set_label_position(\"top\")\n",
    "plt.tight_layout()\n",
    "plt.title('Confusion matrix Logistic Regression', y=1.1)\n",
    "plt.ylabel('Actual label')\n",
    "plt.xlabel('Predicted label')"
   ]
  }
 ],
 "metadata": {
  "kernelspec": {
   "display_name": "Python 3",
   "language": "python",
   "name": "python3"
  },
  "language_info": {
   "codemirror_mode": {
    "name": "ipython",
    "version": 3
   },
   "file_extension": ".py",
   "mimetype": "text/x-python",
   "name": "python",
   "nbconvert_exporter": "python",
   "pygments_lexer": "ipython3",
   "version": "3.11.5"
  },
  "orig_nbformat": 4
 },
 "nbformat": 4,
 "nbformat_minor": 2
}
