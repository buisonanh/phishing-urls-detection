{
  "cells": [
    {
      "attachments": {},
      "cell_type": "markdown",
      "metadata": {
        "colab_type": "text",
        "id": "view-in-github"
      },
      "source": [
        "<a href=\"https://colab.research.google.com/github/buisonanh/phishing_urls_detection/blob/main/phishing_urls_detection.ipynb\" target=\"_parent\"><img src=\"https://colab.research.google.com/assets/colab-badge.svg\" alt=\"Open In Colab\"/></a>"
      ]
    },
    {
      "cell_type": "code",
      "execution_count": 1,
      "metadata": {},
      "outputs": [],
      "source": [
        "import numpy as np\n",
        "import pandas as pd"
      ]
    },
    {
      "attachments": {},
      "cell_type": "markdown",
      "metadata": {},
      "source": [
        "# **Import Data**"
      ]
    },
    {
      "cell_type": "code",
      "execution_count": 2,
      "metadata": {
        "id": "ucaCAx2ydjro"
      },
      "outputs": [],
      "source": [
        "# Import data\n",
        "legit = pd.read_csv(\"datasets/URL/Benign_list_big_final.csv\")\n",
        "phishing = pd.read_csv(\"datasets/URL/phishing_dataset.csv\")\n",
        "phishing2 = pd.read_csv(\"datasets/phishing_urls.csv\")\n",
        "malware = pd.read_csv(\"datasets/URL/Malware_dataset.csv\")\n",
        "spam = pd.read_csv(\"datasets/URL/spam_dataset.csv\")\n"
      ]
    },
    {
      "cell_type": "code",
      "execution_count": 3,
      "metadata": {},
      "outputs": [],
      "source": [
        "legit.columns = ['url']\n",
        "\n",
        "phishing.columns = ['url']\n",
        "malware.columns = ['url']\n",
        "spam.columns = ['url']\n",
        "\n",
        "malicious = pd.concat([phishing, malware, spam])"
      ]
    },
    {
      "attachments": {},
      "cell_type": "markdown",
      "metadata": {
        "id": "rFFy1FBGlkdn"
      },
      "source": [
        "# **Prepare Data**"
      ]
    },
    {
      "cell_type": "code",
      "execution_count": 4,
      "metadata": {},
      "outputs": [
        {
          "name": "stdout",
          "output_type": "stream",
          "text": [
            "Legit null values: url    0\n",
            "dtype: int64\n",
            "\n",
            "Malicious null values: url    0\n",
            "dtype: int64\n"
          ]
        }
      ],
      "source": [
        "# Check null values\n",
        "print(f\"Legit null values: {legit.isnull().sum()}\")\n",
        "print()\n",
        "print(f\"Malicious null values: {malicious.isnull().sum()}\")"
      ]
    },
    {
      "cell_type": "code",
      "execution_count": 5,
      "metadata": {
        "colab": {
          "base_uri": "https://localhost:8080/"
        },
        "id": "61RZtIB5dXFR",
        "outputId": "7cf9d6f6-bf29-49e0-ecea-b40201294b30"
      },
      "outputs": [
        {
          "name": "stdout",
          "output_type": "stream",
          "text": [
            "Legit's duplicates num: 0\n",
            "Malicious duplicates num: 8962\n",
            "(35377, 1)\n",
            "(24566, 1)\n",
            "Legit's duplicates num: 0\n",
            "Malicious duplicates num: 0\n"
          ]
        }
      ],
      "source": [
        "# Drop duplicates\n",
        "print(f\"Legit's duplicates num: {legit.duplicated().sum()}\")\n",
        "print(f\"Malicious duplicates num: {malicious.duplicated().sum()}\")\n",
        "legit = legit.drop_duplicates()\n",
        "malicious = malicious.drop_duplicates()\n",
        "\n",
        "print(legit.shape)\n",
        "print(malicious.shape)\n",
        "\n",
        "print(f\"Legit's duplicates num: {legit.duplicated().sum()}\")\n",
        "print(f\"Malicious duplicates num: {malicious.duplicated().sum()}\")"
      ]
    },
    {
      "cell_type": "code",
      "execution_count": 6,
      "metadata": {
        "colab": {
          "base_uri": "https://localhost:8080/"
        },
        "id": "ygRqJDN1cZkE",
        "outputId": "db3cd048-3285-45ff-a69d-09921f14abb1"
      },
      "outputs": [],
      "source": [
        "# add a 'label' column to the dataframes\n",
        "legit[\"label\"] = 0\n",
        "malicious[\"label\"] = 1"
      ]
    },
    {
      "cell_type": "code",
      "execution_count": 7,
      "metadata": {},
      "outputs": [
        {
          "name": "stdout",
          "output_type": "stream",
          "text": [
            "(59943, 2)\n"
          ]
        }
      ],
      "source": [
        "# combine the two dataframes\n",
        "df = pd.concat([legit, malicious], ignore_index=True)\n",
        "\n",
        "# shuffle the dataframe's rows randomly\n",
        "df = df.sample(frac=1, random_state=42) # Set random_state to an integer for reproducibility\n",
        "\n",
        "print(df.shape)"
      ]
    },
    {
      "cell_type": "code",
      "execution_count": 8,
      "metadata": {
        "colab": {
          "base_uri": "https://localhost:8080/"
        },
        "id": "sW3v5rwGjrIq",
        "outputId": "2af6768a-ba35-4f65-ed85-f099da29d912"
      },
      "outputs": [
        {
          "name": "stdout",
          "output_type": "stream",
          "text": [
            "label\n",
            "0    35377\n",
            "1    24566\n",
            "Name: count, dtype: int64\n"
          ]
        }
      ],
      "source": [
        "# print the counts for each category\n",
        "counts = df[\"label\"].value_counts()\n",
        "print(counts)"
      ]
    },
    {
      "cell_type": "code",
      "execution_count": 9,
      "metadata": {},
      "outputs": [
        {
          "name": "stdout",
          "output_type": "stream",
          "text": [
            "url      0\n",
            "label    0\n",
            "dtype: int64\n"
          ]
        }
      ],
      "source": [
        "print(df.isnull().sum())"
      ]
    },
    {
      "attachments": {},
      "cell_type": "markdown",
      "metadata": {},
      "source": [
        "## Fixing Imbalance"
      ]
    },
    {
      "cell_type": "code",
      "execution_count": 10,
      "metadata": {},
      "outputs": [
        {
          "data": {
            "text/plain": [
              "\"\\nfrom imblearn.under_sampling import RandomUnderSampler\\n\\n# Create an instance of RandomUnderSampler\\nrus = RandomUnderSampler()\\n\\nX = df['url']\\ny = df['label']\\n\\n# Oversample the data\\nX_resampled, y_resampled = rus.fit_resample(X.values.reshape(-1, 1), y)\\n\\n# Create a new balanced dataframe\\ndf = pd.DataFrame({'url': X_resampled.flatten(), 'label': y_resampled})\\n\\nprint(df['label'].value_counts())\\n\""
            ]
          },
          "execution_count": 10,
          "metadata": {},
          "output_type": "execute_result"
        }
      ],
      "source": [
        "\"\"\"\n",
        "from imblearn.under_sampling import RandomUnderSampler\n",
        "\n",
        "# Create an instance of RandomUnderSampler\n",
        "rus = RandomUnderSampler()\n",
        "\n",
        "X = df['url']\n",
        "y = df['label']\n",
        "\n",
        "# Oversample the data\n",
        "X_resampled, y_resampled = rus.fit_resample(X.values.reshape(-1, 1), y)\n",
        "\n",
        "# Create a new balanced dataframe\n",
        "df = pd.DataFrame({'url': X_resampled.flatten(), 'label': y_resampled})\n",
        "\n",
        "print(df['label'].value_counts())\n",
        "\"\"\""
      ]
    },
    {
      "attachments": {},
      "cell_type": "markdown",
      "metadata": {},
      "source": [
        "# **Extracting Features**"
      ]
    },
    {
      "cell_type": "code",
      "execution_count": 11,
      "metadata": {},
      "outputs": [],
      "source": [
        "# importing required packages for this section\n",
        "from urllib.parse import urlparse\n",
        "import ipaddress\n",
        "import re\n",
        "\n",
        "# 1.Domain of the URL (Domain) \n",
        "def getDomain(url):  \n",
        "    domain = urlparse(url).netloc\n",
        "    if re.match(r\"^www.\",domain):\n",
        "            domain = domain.replace(\"www.\",\"\")\n",
        "    return domain\n",
        "\n",
        "# 2.Checks for IP address in URL (Have_IP)\n",
        "def havingIP(url):\n",
        "    try:\n",
        "        ipaddress.ip_address(url)\n",
        "        ip = 1\n",
        "    except:\n",
        "        ip = 0\n",
        "    return ip\n",
        "\n",
        "# 3.Checks the presence of @ in URL (Have_At)\n",
        "def haveAtSign(url):\n",
        "    if \"@\" in url:\n",
        "        at = 1\n",
        "    else:\n",
        "        at = 0    \n",
        "    return at\n",
        "\n",
        "# 4.Finding the length of URL and categorizing (URL_Length)\n",
        "def getLength(url):\n",
        "    if len(url) < 54:\n",
        "        return 1\n",
        "    else:\n",
        "        return 0\n",
        "\n",
        "# 5.Gives number of '/' in URL (URL_Depth)\n",
        "def getDepth(url):\n",
        "    s = urlparse(url).path.split('/')\n",
        "    depth = 0\n",
        "    for j in range(len(s)):\n",
        "        if len(s[j]) != 0:\n",
        "            depth = depth+1\n",
        "    return depth\n",
        "\n",
        "# 6.Checking for redirection '//' in the url (Redirection)\n",
        "def redirection(url):\n",
        "    pos = url.rfind('//')\n",
        "    if pos > 6:\n",
        "        if pos > 7:\n",
        "            return 1\n",
        "        else:\n",
        "            return 0\n",
        "    else:\n",
        "        return 0\n",
        "\n",
        "# 7.Existence of “HTTPS” Token in the Domain Part of the URL (https_Domain)\n",
        "def httpDomain(url):\n",
        "    domain = urlparse(url).netloc\n",
        "    if 'https' in domain:\n",
        "        return 1\n",
        "    else:\n",
        "        return 0"
      ]
    },
    {
      "cell_type": "code",
      "execution_count": 12,
      "metadata": {},
      "outputs": [],
      "source": [
        "def featureExtraction(url,label):\n",
        "    \n",
        "    features = []\n",
        "    features.append(url)\n",
        "    #Address bar based features (10)\n",
        "    features.append(getDomain(url))\n",
        "    features.append(havingIP(url))\n",
        "    features.append(haveAtSign(url))\n",
        "    features.append(getLength(url))\n",
        "    features.append(getDepth(url))\n",
        "    features.append(redirection(url))\n",
        "    features.append(httpDomain(url))\n",
        "    features.append(label)\n",
        "\n",
        "    return features"
      ]
    },
    {
      "cell_type": "code",
      "execution_count": 13,
      "metadata": {},
      "outputs": [],
      "source": [
        "df.reset_index(drop=True, inplace=True)"
      ]
    },
    {
      "cell_type": "code",
      "execution_count": 14,
      "metadata": {},
      "outputs": [],
      "source": [
        "features = []\n",
        "\n",
        "for i in range(len(df)):\n",
        "    url = df['url'][i]\n",
        "    label = df['label'][i]\n",
        "\n",
        "    features.append(featureExtraction(url,label))"
      ]
    },
    {
      "cell_type": "code",
      "execution_count": 15,
      "metadata": {},
      "outputs": [
        {
          "data": {
            "text/html": [
              "<div>\n",
              "<style scoped>\n",
              "    .dataframe tbody tr th:only-of-type {\n",
              "        vertical-align: middle;\n",
              "    }\n",
              "\n",
              "    .dataframe tbody tr th {\n",
              "        vertical-align: top;\n",
              "    }\n",
              "\n",
              "    .dataframe thead th {\n",
              "        text-align: right;\n",
              "    }\n",
              "</style>\n",
              "<table border=\"1\" class=\"dataframe\">\n",
              "  <thead>\n",
              "    <tr style=\"text-align: right;\">\n",
              "      <th></th>\n",
              "      <th>url</th>\n",
              "      <th>Domain</th>\n",
              "      <th>Have_IP</th>\n",
              "      <th>Have_At</th>\n",
              "      <th>URL_Length</th>\n",
              "      <th>URL_Depth</th>\n",
              "      <th>Redirection</th>\n",
              "      <th>https_Domain</th>\n",
              "      <th>label</th>\n",
              "    </tr>\n",
              "  </thead>\n",
              "  <tbody>\n",
              "    <tr>\n",
              "      <th>1</th>\n",
              "      <td>https://medium.com/human-parts/i-was-diagnosed...</td>\n",
              "      <td>medium.com</td>\n",
              "      <td>0</td>\n",
              "      <td>0</td>\n",
              "      <td>0</td>\n",
              "      <td>2</td>\n",
              "      <td>0</td>\n",
              "      <td>0</td>\n",
              "      <td>0</td>\n",
              "    </tr>\n",
              "    <tr>\n",
              "      <th>2</th>\n",
              "      <td>http://adservers.co.uk/scr/clk.aspx?ec=o03Ct0J...</td>\n",
              "      <td>adservers.co.uk</td>\n",
              "      <td>0</td>\n",
              "      <td>0</td>\n",
              "      <td>0</td>\n",
              "      <td>2</td>\n",
              "      <td>0</td>\n",
              "      <td>0</td>\n",
              "      <td>1</td>\n",
              "    </tr>\n",
              "    <tr>\n",
              "      <th>3</th>\n",
              "      <td>http://venturebeat.com/2015/01/29/facebook-inv...</td>\n",
              "      <td>venturebeat.com</td>\n",
              "      <td>0</td>\n",
              "      <td>0</td>\n",
              "      <td>0</td>\n",
              "      <td>4</td>\n",
              "      <td>0</td>\n",
              "      <td>0</td>\n",
              "      <td>0</td>\n",
              "    </tr>\n",
              "    <tr>\n",
              "      <th>4</th>\n",
              "      <td>http://www.hydro-jamet.big.net.pl/electron/qpy...</td>\n",
              "      <td>hydro-jamet.big.net.pl</td>\n",
              "      <td>0</td>\n",
              "      <td>0</td>\n",
              "      <td>0</td>\n",
              "      <td>2</td>\n",
              "      <td>0</td>\n",
              "      <td>0</td>\n",
              "      <td>1</td>\n",
              "    </tr>\n",
              "    <tr>\n",
              "      <th>5</th>\n",
              "      <td>http://ahds.ac.uk/ictguides/methods/method.jsp...</td>\n",
              "      <td>ahds.ac.uk</td>\n",
              "      <td>0</td>\n",
              "      <td>0</td>\n",
              "      <td>0</td>\n",
              "      <td>3</td>\n",
              "      <td>0</td>\n",
              "      <td>0</td>\n",
              "      <td>1</td>\n",
              "    </tr>\n",
              "    <tr>\n",
              "      <th>...</th>\n",
              "      <td>...</td>\n",
              "      <td>...</td>\n",
              "      <td>...</td>\n",
              "      <td>...</td>\n",
              "      <td>...</td>\n",
              "      <td>...</td>\n",
              "      <td>...</td>\n",
              "      <td>...</td>\n",
              "      <td>...</td>\n",
              "    </tr>\n",
              "    <tr>\n",
              "      <th>9995</th>\n",
              "      <td>http://extratorrent.cc/torrent/4190913/Black.O...</td>\n",
              "      <td>extratorrent.cc</td>\n",
              "      <td>0</td>\n",
              "      <td>0</td>\n",
              "      <td>0</td>\n",
              "      <td>3</td>\n",
              "      <td>0</td>\n",
              "      <td>0</td>\n",
              "      <td>0</td>\n",
              "    </tr>\n",
              "    <tr>\n",
              "      <th>9996</th>\n",
              "      <td>http://us.battle.net.ok.ttweb.asia/login/en/lo...</td>\n",
              "      <td>us.battle.net.ok.ttweb.asia</td>\n",
              "      <td>0</td>\n",
              "      <td>0</td>\n",
              "      <td>0</td>\n",
              "      <td>3</td>\n",
              "      <td>1</td>\n",
              "      <td>0</td>\n",
              "      <td>1</td>\n",
              "    </tr>\n",
              "    <tr>\n",
              "      <th>9997</th>\n",
              "      <td>http://www.thesmetimes.com/redirecct/Yahoo-PLA...</td>\n",
              "      <td>thesmetimes.com</td>\n",
              "      <td>0</td>\n",
              "      <td>0</td>\n",
              "      <td>0</td>\n",
              "      <td>4</td>\n",
              "      <td>0</td>\n",
              "      <td>0</td>\n",
              "      <td>1</td>\n",
              "    </tr>\n",
              "    <tr>\n",
              "      <th>9998</th>\n",
              "      <td>http://aboutscotland.co.uk/argylls/93norleans....</td>\n",
              "      <td>aboutscotland.co.uk</td>\n",
              "      <td>0</td>\n",
              "      <td>0</td>\n",
              "      <td>1</td>\n",
              "      <td>2</td>\n",
              "      <td>0</td>\n",
              "      <td>0</td>\n",
              "      <td>1</td>\n",
              "    </tr>\n",
              "    <tr>\n",
              "      <th>9999</th>\n",
              "      <td>http://archive.yorkpress.co.uk/2003/10/7/25840...</td>\n",
              "      <td>archive.yorkpress.co.uk</td>\n",
              "      <td>0</td>\n",
              "      <td>0</td>\n",
              "      <td>1</td>\n",
              "      <td>4</td>\n",
              "      <td>0</td>\n",
              "      <td>0</td>\n",
              "      <td>1</td>\n",
              "    </tr>\n",
              "  </tbody>\n",
              "</table>\n",
              "<p>9999 rows × 9 columns</p>\n",
              "</div>"
            ],
            "text/plain": [
              "                                                    url  \\\n",
              "1     https://medium.com/human-parts/i-was-diagnosed...   \n",
              "2     http://adservers.co.uk/scr/clk.aspx?ec=o03Ct0J...   \n",
              "3     http://venturebeat.com/2015/01/29/facebook-inv...   \n",
              "4     http://www.hydro-jamet.big.net.pl/electron/qpy...   \n",
              "5     http://ahds.ac.uk/ictguides/methods/method.jsp...   \n",
              "...                                                 ...   \n",
              "9995  http://extratorrent.cc/torrent/4190913/Black.O...   \n",
              "9996  http://us.battle.net.ok.ttweb.asia/login/en/lo...   \n",
              "9997  http://www.thesmetimes.com/redirecct/Yahoo-PLA...   \n",
              "9998  http://aboutscotland.co.uk/argylls/93norleans....   \n",
              "9999  http://archive.yorkpress.co.uk/2003/10/7/25840...   \n",
              "\n",
              "                           Domain  Have_IP  Have_At  URL_Length  URL_Depth  \\\n",
              "1                      medium.com        0        0           0          2   \n",
              "2                 adservers.co.uk        0        0           0          2   \n",
              "3                 venturebeat.com        0        0           0          4   \n",
              "4          hydro-jamet.big.net.pl        0        0           0          2   \n",
              "5                      ahds.ac.uk        0        0           0          3   \n",
              "...                           ...      ...      ...         ...        ...   \n",
              "9995              extratorrent.cc        0        0           0          3   \n",
              "9996  us.battle.net.ok.ttweb.asia        0        0           0          3   \n",
              "9997              thesmetimes.com        0        0           0          4   \n",
              "9998          aboutscotland.co.uk        0        0           1          2   \n",
              "9999      archive.yorkpress.co.uk        0        0           1          4   \n",
              "\n",
              "      Redirection  https_Domain  label  \n",
              "1               0             0      0  \n",
              "2               0             0      1  \n",
              "3               0             0      0  \n",
              "4               0             0      1  \n",
              "5               0             0      1  \n",
              "...           ...           ...    ...  \n",
              "9995            0             0      0  \n",
              "9996            1             0      1  \n",
              "9997            0             0      1  \n",
              "9998            0             0      1  \n",
              "9999            0             0      1  \n",
              "\n",
              "[9999 rows x 9 columns]"
            ]
          },
          "execution_count": 15,
          "metadata": {},
          "output_type": "execute_result"
        }
      ],
      "source": [
        "#converting the list to dataframe\n",
        "feature_names = ['url', 'Domain', 'Have_IP', 'Have_At', 'URL_Length', 'URL_Depth','Redirection','https_Domain', 'label']\n",
        "\n",
        "df = pd.DataFrame(features, columns= feature_names)\n",
        "df[1:10000]"
      ]
    },
    {
      "cell_type": "code",
      "execution_count": 16,
      "metadata": {},
      "outputs": [],
      "source": [
        "# delete symbols\n",
        "import re\n",
        "df[\"url\"] = df[\"url\"].apply(lambda x: re.sub('[/\\.;?=https:\\']', ' ', x))"
      ]
    },
    {
      "attachments": {},
      "cell_type": "markdown",
      "metadata": {},
      "source": [
        "# **EDA**"
      ]
    },
    {
      "cell_type": "code",
      "execution_count": 17,
      "metadata": {},
      "outputs": [
        {
          "data": {
            "text/plain": [
              "<Axes: xlabel='https_Domain', ylabel='count'>"
            ]
          },
          "execution_count": 17,
          "metadata": {},
          "output_type": "execute_result"
        },
        {
          "data": {
            "image/png": "[encoded data removed]",
            "text/plain": [
              "<Figure size 1800x1000 with 6 Axes>"
            ]
          },
          "metadata": {},
          "output_type": "display_data"
        }
      ],
      "source": [
        "import seaborn as sns\n",
        "import numpy as np\n",
        "import pandas as pd\n",
        "import matplotlib.pyplot as plt\n",
        "\n",
        "fig, axes = plt.subplots(2, 3, figsize=(18, 10))\n",
        "\n",
        "fig.suptitle('All Features')\n",
        "\n",
        "iris = sns.load_dataset(\"iris\")\n",
        "\n",
        "sns.countplot(ax=axes[0, 0], data=df, x=\"Have_IP\", hue=\"label\")\n",
        "sns.countplot(ax=axes[0, 1], data=df, x=\"Have_At\", hue=\"label\")\n",
        "sns.countplot(ax=axes[0, 2], data=df, x=\"URL_Length\", hue=\"label\")\n",
        "sns.countplot(ax=axes[1, 0], data=df, x=\"URL_Depth\", hue=\"label\")\n",
        "sns.countplot(ax=axes[1, 1], data=df, x=\"Redirection\", hue=\"label\")\n",
        "sns.countplot(ax=axes[1, 2], data=df, x=\"https_Domain\", hue=\"label\")"
      ]
    },
    {
      "attachments": {},
      "cell_type": "markdown",
      "metadata": {},
      "source": [
        "##### Features to be used: Domain, URL_Length, URL_Depth, Redirection \n",
        "##### Useless features: Have_IP, Have_At, https_Domain"
      ]
    },
    {
      "attachments": {},
      "cell_type": "markdown",
      "metadata": {
        "id": "l66mBeYUlzJD"
      },
      "source": [
        "# **Vectorizing and Encoding**"
      ]
    },
    {
      "cell_type": "code",
      "execution_count": 18,
      "metadata": {},
      "outputs": [],
      "source": [
        "# Data selection\n",
        "url_df = df['url']\n",
        "domain_df = df['Domain']\n",
        "depth_df = df['URL_Depth']\n",
        "feature_df = df[['Redirection', 'URL_Length']]\n",
        "label_df = df['label']"
      ]
    },
    {
      "cell_type": "code",
      "execution_count": 19,
      "metadata": {},
      "outputs": [
        {
          "data": {
            "text/plain": [
              "array([[ 0.97880968],\n",
              "       [-0.63483858],\n",
              "       [-0.63483858],\n",
              "       [ 0.44092693],\n",
              "       [-0.63483858]])"
            ]
          },
          "execution_count": 19,
          "metadata": {},
          "output_type": "execute_result"
        }
      ],
      "source": [
        "from sklearn import preprocessing\n",
        "\n",
        "depth_arr = np.asarray(depth_df)\n",
        "\n",
        "# Reshape depth_arr to a 2D array\n",
        "depth_arr_2d = np.reshape(depth_arr, (-1, 1))\n",
        "\n",
        "# Apply StandardScaler\n",
        "scaler_depth = preprocessing.StandardScaler().fit(depth_arr_2d)\n",
        "\n",
        "depth_scaled = scaler_depth.transform(depth_arr_2d)\n",
        "\n",
        "depth_scaled[:5]"
      ]
    },
    {
      "cell_type": "code",
      "execution_count": null,
      "metadata": {},
      "outputs": [],
      "source": []
    },
    {
      "cell_type": "code",
      "execution_count": 20,
      "metadata": {
        "colab": {
          "base_uri": "https://localhost:8080/"
        },
        "id": "eiigc8zw2d4j",
        "outputId": "c481ce39-5cad-4498-fec4-419c04197e67"
      },
      "outputs": [],
      "source": [
        "# Transform data\n",
        "from sklearn.feature_extraction.text import CountVectorizer\n",
        "\n",
        "import scipy.sparse as sp\n",
        "\n",
        "# Vectorize URLs\n",
        "vectorizer_url = CountVectorizer()\n",
        "url_vec = vectorizer_url.fit_transform(url_df)\n",
        "\n",
        "# Vectorize Domains\n",
        "vectorizer_domain = CountVectorizer()\n",
        "domain_vec = vectorizer_domain.fit_transform(domain_df)\n",
        "\n",
        "features_arr = np.asarray(feature_df)\n",
        "\n",
        "# Concatenate url_vec, domain_vec, and features_arr as sparse matrices\n",
        "combined_features_arr = sp.hstack((url_vec, domain_vec, sp.csr_matrix(features_arr), depth_scaled), format='csr')\n",
        "\n",
        "# Encode label column\n",
        "label_arr = np.asarray(label_df)\n"
      ]
    },
    {
      "cell_type": "code",
      "execution_count": 21,
      "metadata": {
        "id": "dsH6yl90WvFm"
      },
      "outputs": [
        {
          "data": {
            "text/plain": [
              "array([1, 0, 1, ..., 0, 0, 1], dtype=int64)"
            ]
          },
          "execution_count": 21,
          "metadata": {},
          "output_type": "execute_result"
        }
      ],
      "source": [
        "label_arr"
      ]
    },
    {
      "cell_type": "code",
      "execution_count": 22,
      "metadata": {
        "colab": {
          "base_uri": "https://localhost:8080/",
          "height": 52
        },
        "id": "K4SxyWzzkNGQ",
        "outputId": "1a806007-d5e7-40a1-ed92-d9affb4c650a"
      },
      "outputs": [
        {
          "data": {
            "text/plain": [
              "'\\nfrom imblearn.over_sampling import RandomOverSampler\\n\\n# create a RandomOverSampler object and fit it to the data\\noversampler = RandomOverSampler(random_state=42)\\ncombined_features_arr_balanced, label_arr_balanced = oversampler.fit_resample(combined_features_arr, label_arr)\\n\\n# check the new class distribution\\npd.Series(label_arr_balanced).value_counts()\\n'"
            ]
          },
          "execution_count": 22,
          "metadata": {},
          "output_type": "execute_result"
        }
      ],
      "source": [
        "\"\"\"\n",
        "from imblearn.over_sampling import RandomOverSampler\n",
        "\n",
        "# create a RandomOverSampler object and fit it to the data\n",
        "oversampler = RandomOverSampler(random_state=42)\n",
        "combined_features_arr_balanced, label_arr_balanced = oversampler.fit_resample(combined_features_arr, label_arr)\n",
        "\n",
        "# check the new class distribution\n",
        "pd.Series(label_arr_balanced).value_counts()\n",
        "\"\"\""
      ]
    },
    {
      "attachments": {},
      "cell_type": "markdown",
      "metadata": {
        "id": "XdUAR9DHmOS3"
      },
      "source": [
        "# **Logistic Regression**"
      ]
    },
    {
      "cell_type": "code",
      "execution_count": 23,
      "metadata": {
        "colab": {
          "base_uri": "https://localhost:8080/"
        },
        "id": "yjaPOK6E2d4k",
        "outputId": "3c75c98e-373d-4045-9bf7-bd77c0c39059"
      },
      "outputs": [
        {
          "name": "stdout",
          "output_type": "stream",
          "text": [
            "Train:  44957\n",
            "Test:  14986\n"
          ]
        }
      ],
      "source": [
        "# chia tap train, test\n",
        "from sklearn.model_selection import train_test_split\n",
        "\n",
        "x_train, x_test, y_train, y_test = train_test_split(combined_features_arr, label_arr, test_size=0.25, random_state=42)\n",
        "\n",
        "print('Train: ', x_train.shape[0])\n",
        "print('Test: ', x_test.shape[0])"
      ]
    },
    {
      "cell_type": "code",
      "execution_count": 24,
      "metadata": {
        "id": "MuV0ihfU-45s"
      },
      "outputs": [],
      "source": [
        "\n",
        "# modeling lbfgs\n",
        "from sklearn.linear_model import LogisticRegression\n",
        "\n",
        "logreg = LogisticRegression(C= 0.01, class_weight= None, max_iter= 500, penalty= 'l2', random_state=42)\n",
        "lr_lbfgs = logreg.fit(x_train,y_train)\n"
      ]
    },
    {
      "cell_type": "code",
      "execution_count": 25,
      "metadata": {
        "colab": {
          "base_uri": "https://localhost:8080/",
          "height": 87
        },
        "id": "6AufC_QjD8s6",
        "outputId": "0289c089-ebcb-423b-9339-f42063c39d11"
      },
      "outputs": [
        {
          "data": {
            "text/plain": [
              "'\\nfrom sklearn.model_selection import GridSearchCV\\n\\nparam_grid = {\\'C\\': [0.001, 0.01, 0.1, 1, 10],\\n              \\'penalty\\': [\\'l1\\', \\'l2\\'],\\n              \\'max_iter\\': [100, 500, 1000],\\n              \\'class_weight\\': [None, \\'balanced\\']}\\n\\ngrid_search = GridSearchCV(LogisticRegression(solver=\\'lbfgs\\'),\\n                           param_grid,\\n                           cv=5,\\n                           scoring=\\'accuracy\\',\\n                           n_jobs=-1)\\n\\ngrid_search.fit(x_train, y_train)\\n\\nprint(f\"Best parameters: {grid_search.best_params_}\")\\nprint(f\"Best cross-validation score: {grid_search.best_score_}\")\\n\\n\\n# Output:\\n# Best parameters: {\\'C\\': 10, \\'class_weight\\': \\'balanced\\', \\'max_iter\\': 100, \\'penalty\\': \\'l2\\'}\\n# Best cross-validation score: 0.9966857228917331\\n'"
            ]
          },
          "execution_count": 25,
          "metadata": {},
          "output_type": "execute_result"
        }
      ],
      "source": [
        "\"\"\"\n",
        "from sklearn.model_selection import GridSearchCV\n",
        "\n",
        "param_grid = {'C': [0.001, 0.01, 0.1, 1, 10],\n",
        "              'penalty': ['l1', 'l2'],\n",
        "              'max_iter': [100, 500, 1000],\n",
        "              'class_weight': [None, 'balanced']}\n",
        "\n",
        "grid_search = GridSearchCV(LogisticRegression(solver='lbfgs'),\n",
        "                           param_grid,\n",
        "                           cv=5,\n",
        "                           scoring='accuracy',\n",
        "                           n_jobs=-1)\n",
        "\n",
        "grid_search.fit(x_train, y_train)\n",
        "\n",
        "print(f\"Best parameters: {grid_search.best_params_}\")\n",
        "print(f\"Best cross-validation score: {grid_search.best_score_}\")\n",
        "\n",
        "\n",
        "# Output:\n",
        "# Best parameters: {'C': 10, 'class_weight': 'balanced', 'max_iter': 100, 'penalty': 'l2'}\n",
        "# Best cross-validation score: 0.9966857228917331\n",
        "\"\"\""
      ]
    },
    {
      "cell_type": "code",
      "execution_count": 26,
      "metadata": {
        "colab": {
          "base_uri": "https://localhost:8080/"
        },
        "id": "76e9ATr9HpmE",
        "outputId": "39222ab4-2a60-42a2-c53d-3e6b4d9b4d43"
      },
      "outputs": [
        {
          "name": "stdout",
          "output_type": "stream",
          "text": [
            "[1 1 1 ... 0 0 1]\n"
          ]
        }
      ],
      "source": [
        "y_pred=logreg.predict(x_test)\n",
        "print(y_pred)"
      ]
    },
    {
      "cell_type": "code",
      "execution_count": 27,
      "metadata": {
        "colab": {
          "base_uri": "https://localhost:8080/"
        },
        "id": "WNN7_ctNHwWN",
        "outputId": "6cc4ff7d-7e4a-45ae-b407-4f1f67b505e2"
      },
      "outputs": [
        {
          "name": "stdout",
          "output_type": "stream",
          "text": [
            "Jaccard score: 0.9543185763888888\n"
          ]
        }
      ],
      "source": [
        "from sklearn.metrics import jaccard_score\n",
        "print(f\"Jaccard score: {jaccard_score(y_test, y_pred,pos_label=0)}\")"
      ]
    },
    {
      "cell_type": "code",
      "execution_count": 28,
      "metadata": {
        "colab": {
          "base_uri": "https://localhost:8080/"
        },
        "id": "rFJtuw8LVpTU",
        "outputId": "fe9f98ac-eac4-4df6-ca4a-e439218007c4"
      },
      "outputs": [
        {
          "name": "stdout",
          "output_type": "stream",
          "text": [
            "Accuracy: 0.97\n",
            "F1 score: 0.96\n"
          ]
        }
      ],
      "source": [
        "from sklearn.metrics import accuracy_score, f1_score\n",
        "\n",
        "accuracy = accuracy_score(y_test, y_pred)\n",
        "f1 = f1_score(y_test, y_pred)\n",
        "\n",
        "print(f\"Accuracy: {accuracy:.2f}\")\n",
        "print(f\"F1 score: {f1:.2f}\")\n"
      ]
    },
    {
      "cell_type": "code",
      "execution_count": 29,
      "metadata": {
        "colab": {
          "base_uri": "https://localhost:8080/"
        },
        "id": "_hOcoglSJtfd",
        "outputId": "76380e59-aa79-4897-a953-500739b35b16"
      },
      "outputs": [
        {
          "data": {
            "text/plain": [
              "array([[8795,   59],\n",
              "       [ 362, 5770]], dtype=int64)"
            ]
          },
          "execution_count": 29,
          "metadata": {},
          "output_type": "execute_result"
        }
      ],
      "source": [
        "from sklearn import metrics\n",
        "cnf_matrix = metrics.confusion_matrix(y_test, y_pred)\n",
        "cnf_matrix"
      ]
    },
    {
      "cell_type": "code",
      "execution_count": 30,
      "metadata": {
        "colab": {
          "base_uri": "https://localhost:8080/",
          "height": 568
        },
        "id": "RNyusU6MH5m6",
        "outputId": "b0a8299d-4d0e-4475-b839-b3b82fdf6a37"
      },
      "outputs": [
        {
          "data": {
            "text/plain": [
              "Text(0.5, 427.9555555555555, 'Predicted label')"
            ]
          },
          "execution_count": 30,
          "metadata": {},
          "output_type": "execute_result"
        },
        {
          "data": {
            "image/png": "[encoded data removed]",
            "text/plain": [
              "<Figure size 640x480 with 2 Axes>"
            ]
          },
          "metadata": {},
          "output_type": "display_data"
        }
      ],
      "source": [
        "import numpy as np\n",
        "import matplotlib.pyplot as plt\n",
        "import seaborn as sns\n",
        "class_names=[] # name  of classes\n",
        "fig, ax = plt.subplots()\n",
        "tick_marks = np.arange(len(class_names))\n",
        "plt.xticks(tick_marks, class_names)\n",
        "plt.yticks(tick_marks, class_names)\n",
        "# create heatmap\n",
        "sns.heatmap(pd.DataFrame(cnf_matrix), annot=True, cmap=\"YlGnBu\" ,fmt='g')\n",
        "ax.xaxis.set_label_position(\"top\")\n",
        "plt.tight_layout()\n",
        "plt.title('Confusion matrix', y=1.1)\n",
        "plt.ylabel('Actual label')\n",
        "plt.xlabel('Predicted label')"
      ]
    },
    {
      "attachments": {},
      "cell_type": "markdown",
      "metadata": {
        "id": "rC6GNhbJ8PLl"
      },
      "source": [
        "# **(Test)**"
      ]
    },
    {
      "cell_type": "code",
      "execution_count": 31,
      "metadata": {
        "colab": {
          "base_uri": "https://localhost:8080/",
          "height": 990
        },
        "id": "FxjxRK0T8Od4",
        "outputId": "55f466b3-1b4e-4742-c69f-a1b8b57abc57"
      },
      "outputs": [
        {
          "data": {
            "text/html": [
              "<div>\n",
              "<style scoped>\n",
              "    .dataframe tbody tr th:only-of-type {\n",
              "        vertical-align: middle;\n",
              "    }\n",
              "\n",
              "    .dataframe tbody tr th {\n",
              "        vertical-align: top;\n",
              "    }\n",
              "\n",
              "    .dataframe thead th {\n",
              "        text-align: right;\n",
              "    }\n",
              "</style>\n",
              "<table border=\"1\" class=\"dataframe\">\n",
              "  <thead>\n",
              "    <tr style=\"text-align: right;\">\n",
              "      <th></th>\n",
              "      <th>x</th>\n",
              "      <th>y</th>\n",
              "      <th>Unnamed: 2</th>\n",
              "      <th>Unnamed: 3</th>\n",
              "      <th>Unnamed: 4</th>\n",
              "    </tr>\n",
              "  </thead>\n",
              "  <tbody>\n",
              "    <tr>\n",
              "      <th>0</th>\n",
              "      <td>http://newmatdesign.ro/wp-admin/wewe/YAHOO/ya....</td>\n",
              "      <td>1</td>\n",
              "      <td>NaN</td>\n",
              "      <td>NaN</td>\n",
              "      <td>NaN</td>\n",
              "    </tr>\n",
              "    <tr>\n",
              "      <th>1</th>\n",
              "      <td>http://ca.linkedin.com/directory/people/ca/pou...</td>\n",
              "      <td>0</td>\n",
              "      <td>NaN</td>\n",
              "      <td>NaN</td>\n",
              "      <td>NaN</td>\n",
              "    </tr>\n",
              "    <tr>\n",
              "      <th>2</th>\n",
              "      <td>http://www.ccent.com.au/index.php?option=com_m...</td>\n",
              "      <td>1</td>\n",
              "      <td>NaN</td>\n",
              "      <td>NaN</td>\n",
              "      <td>NaN</td>\n",
              "    </tr>\n",
              "    <tr>\n",
              "      <th>3</th>\n",
              "      <td>http://applerugs.co.uk/rugs/product_info.php?p...</td>\n",
              "      <td>1</td>\n",
              "      <td>NaN</td>\n",
              "      <td>NaN</td>\n",
              "      <td>NaN</td>\n",
              "    </tr>\n",
              "    <tr>\n",
              "      <th>4</th>\n",
              "      <td>http://mo-artworks.com/blog/diverse-videos/ein...</td>\n",
              "      <td>1</td>\n",
              "      <td>NaN</td>\n",
              "      <td>NaN</td>\n",
              "      <td>NaN</td>\n",
              "    </tr>\n",
              "    <tr>\n",
              "      <th>5</th>\n",
              "      <td>http://spoke.com/info/pF2WnMN/ZachTrimmer</td>\n",
              "      <td>0</td>\n",
              "      <td>NaN</td>\n",
              "      <td>NaN</td>\n",
              "      <td>NaN</td>\n",
              "    </tr>\n",
              "    <tr>\n",
              "      <th>6</th>\n",
              "      <td>http://www.ricardoitalo.com.br/portal/index.ph...</td>\n",
              "      <td>1</td>\n",
              "      <td>NaN</td>\n",
              "      <td>NaN</td>\n",
              "      <td>NaN</td>\n",
              "    </tr>\n",
              "    <tr>\n",
              "      <th>7</th>\n",
              "      <td>http://sexshop-bg.biz/products?page=shop.produ...</td>\n",
              "      <td>1</td>\n",
              "      <td>NaN</td>\n",
              "      <td>NaN</td>\n",
              "      <td>NaN</td>\n",
              "    </tr>\n",
              "    <tr>\n",
              "      <th>8</th>\n",
              "      <td>http://www.beriva.lt/index.html?di=akcijos&amp;R=1...</td>\n",
              "      <td>1</td>\n",
              "      <td>NaN</td>\n",
              "      <td>NaN</td>\n",
              "      <td>NaN</td>\n",
              "    </tr>\n",
              "    <tr>\n",
              "      <th>9</th>\n",
              "      <td>http://ma.facevena.xyz/app/facebook.com/?lang=...</td>\n",
              "      <td>1</td>\n",
              "      <td>NaN</td>\n",
              "      <td>NaN</td>\n",
              "      <td>NaN</td>\n",
              "    </tr>\n",
              "    <tr>\n",
              "      <th>10</th>\n",
              "      <td>http://videosurf.com/dru-onyx-167504</td>\n",
              "      <td>0</td>\n",
              "      <td>NaN</td>\n",
              "      <td>NaN</td>\n",
              "      <td>NaN</td>\n",
              "    </tr>\n",
              "    <tr>\n",
              "      <th>11</th>\n",
              "      <td>http://familia-dacostagoa.blogspot.com/2009/03...</td>\n",
              "      <td>0</td>\n",
              "      <td>NaN</td>\n",
              "      <td>NaN</td>\n",
              "      <td>NaN</td>\n",
              "    </tr>\n",
              "    <tr>\n",
              "      <th>12</th>\n",
              "      <td>http://web.minorleaguebaseball.com/news/page.j...</td>\n",
              "      <td>0</td>\n",
              "      <td>NaN</td>\n",
              "      <td>NaN</td>\n",
              "      <td>NaN</td>\n",
              "    </tr>\n",
              "    <tr>\n",
              "      <th>13</th>\n",
              "      <td>http://www.nubiafarias.com/v1/index.php?option...</td>\n",
              "      <td>1</td>\n",
              "      <td>NaN</td>\n",
              "      <td>NaN</td>\n",
              "      <td>NaN</td>\n",
              "    </tr>\n",
              "    <tr>\n",
              "      <th>14</th>\n",
              "      <td>http://en.wikipedia.org/wiki/William_Shirley</td>\n",
              "      <td>0</td>\n",
              "      <td>NaN</td>\n",
              "      <td>NaN</td>\n",
              "      <td>NaN</td>\n",
              "    </tr>\n",
              "    <tr>\n",
              "      <th>15</th>\n",
              "      <td>http://avweb.com/avwebbiz/news/Heli_Expo_Next_...</td>\n",
              "      <td>0</td>\n",
              "      <td>NaN</td>\n",
              "      <td>NaN</td>\n",
              "      <td>NaN</td>\n",
              "    </tr>\n",
              "    <tr>\n",
              "      <th>16</th>\n",
              "      <td>http://www.userp.org.br/index.php?option=com_c...</td>\n",
              "      <td>1</td>\n",
              "      <td>NaN</td>\n",
              "      <td>NaN</td>\n",
              "      <td>NaN</td>\n",
              "    </tr>\n",
              "    <tr>\n",
              "      <th>17</th>\n",
              "      <td>http://www.futurdecastello.es/index.php?option...</td>\n",
              "      <td>1</td>\n",
              "      <td>NaN</td>\n",
              "      <td>NaN</td>\n",
              "      <td>NaN</td>\n",
              "    </tr>\n",
              "    <tr>\n",
              "      <th>18</th>\n",
              "      <td>http://sever-gorod.ru/index.php/2010-08-04-17-...</td>\n",
              "      <td>1</td>\n",
              "      <td>NaN</td>\n",
              "      <td>NaN</td>\n",
              "      <td>NaN</td>\n",
              "    </tr>\n",
              "    <tr>\n",
              "      <th>19</th>\n",
              "      <td>http://cdou.ru/mhr53p</td>\n",
              "      <td>1</td>\n",
              "      <td>NaN</td>\n",
              "      <td>NaN</td>\n",
              "      <td>NaN</td>\n",
              "    </tr>\n",
              "    <tr>\n",
              "      <th>20</th>\n",
              "      <td>http://brotherteeshow.com/</td>\n",
              "      <td>0</td>\n",
              "      <td>NaN</td>\n",
              "      <td>NaN</td>\n",
              "      <td>NaN</td>\n",
              "    </tr>\n",
              "    <tr>\n",
              "      <th>21</th>\n",
              "      <td>http://magicaltouch.co/487ygfh</td>\n",
              "      <td>1</td>\n",
              "      <td>NaN</td>\n",
              "      <td>NaN</td>\n",
              "      <td>NaN</td>\n",
              "    </tr>\n",
              "    <tr>\n",
              "      <th>22</th>\n",
              "      <td>http://nlbpa.com/paige__satchel.html</td>\n",
              "      <td>0</td>\n",
              "      <td>NaN</td>\n",
              "      <td>NaN</td>\n",
              "      <td>NaN</td>\n",
              "    </tr>\n",
              "    <tr>\n",
              "      <th>23</th>\n",
              "      <td>http://daymix.com/Jimmy-Rollins/</td>\n",
              "      <td>0</td>\n",
              "      <td>NaN</td>\n",
              "      <td>NaN</td>\n",
              "      <td>NaN</td>\n",
              "    </tr>\n",
              "    <tr>\n",
              "      <th>24</th>\n",
              "      <td>http://lyrics007.com/Gabrielle%20Destroismaiso...</td>\n",
              "      <td>0</td>\n",
              "      <td>NaN</td>\n",
              "      <td>NaN</td>\n",
              "      <td>NaN</td>\n",
              "    </tr>\n",
              "    <tr>\n",
              "      <th>25</th>\n",
              "      <td>http://westseattle.komonews.com/news/transport...</td>\n",
              "      <td>0</td>\n",
              "      <td>NaN</td>\n",
              "      <td>NaN</td>\n",
              "      <td>NaN</td>\n",
              "    </tr>\n",
              "    <tr>\n",
              "      <th>26</th>\n",
              "      <td>http://absoluteastronomy.com/topics/Pennsylvan...</td>\n",
              "      <td>0</td>\n",
              "      <td>NaN</td>\n",
              "      <td>NaN</td>\n",
              "      <td>NaN</td>\n",
              "    </tr>\n",
              "    <tr>\n",
              "      <th>27</th>\n",
              "      <td>http://www.easyphonia.com/rates-by-country/m</td>\n",
              "      <td>1</td>\n",
              "      <td>NaN</td>\n",
              "      <td>NaN</td>\n",
              "      <td>NaN</td>\n",
              "    </tr>\n",
              "    <tr>\n",
              "      <th>28</th>\n",
              "      <td>http://emgn.com/entertainment/what-does-a-week...</td>\n",
              "      <td>0</td>\n",
              "      <td>NaN</td>\n",
              "      <td>NaN</td>\n",
              "      <td>NaN</td>\n",
              "    </tr>\n",
              "    <tr>\n",
              "      <th>29</th>\n",
              "      <td>http://uk.ask.com/wiki/England_national_footba...</td>\n",
              "      <td>0</td>\n",
              "      <td>NaN</td>\n",
              "      <td>NaN</td>\n",
              "      <td>NaN</td>\n",
              "    </tr>\n",
              "  </tbody>\n",
              "</table>\n",
              "</div>"
            ],
            "text/plain": [
              "                                                    x  y  Unnamed: 2  \\\n",
              "0   http://newmatdesign.ro/wp-admin/wewe/YAHOO/ya....  1         NaN   \n",
              "1   http://ca.linkedin.com/directory/people/ca/pou...  0         NaN   \n",
              "2   http://www.ccent.com.au/index.php?option=com_m...  1         NaN   \n",
              "3   http://applerugs.co.uk/rugs/product_info.php?p...  1         NaN   \n",
              "4   http://mo-artworks.com/blog/diverse-videos/ein...  1         NaN   \n",
              "5           http://spoke.com/info/pF2WnMN/ZachTrimmer  0         NaN   \n",
              "6   http://www.ricardoitalo.com.br/portal/index.ph...  1         NaN   \n",
              "7   http://sexshop-bg.biz/products?page=shop.produ...  1         NaN   \n",
              "8   http://www.beriva.lt/index.html?di=akcijos&R=1...  1         NaN   \n",
              "9   http://ma.facevena.xyz/app/facebook.com/?lang=...  1         NaN   \n",
              "10               http://videosurf.com/dru-onyx-167504  0         NaN   \n",
              "11  http://familia-dacostagoa.blogspot.com/2009/03...  0         NaN   \n",
              "12  http://web.minorleaguebaseball.com/news/page.j...  0         NaN   \n",
              "13  http://www.nubiafarias.com/v1/index.php?option...  1         NaN   \n",
              "14       http://en.wikipedia.org/wiki/William_Shirley  0         NaN   \n",
              "15  http://avweb.com/avwebbiz/news/Heli_Expo_Next_...  0         NaN   \n",
              "16  http://www.userp.org.br/index.php?option=com_c...  1         NaN   \n",
              "17  http://www.futurdecastello.es/index.php?option...  1         NaN   \n",
              "18  http://sever-gorod.ru/index.php/2010-08-04-17-...  1         NaN   \n",
              "19                              http://cdou.ru/mhr53p  1         NaN   \n",
              "20                         http://brotherteeshow.com/  0         NaN   \n",
              "21                     http://magicaltouch.co/487ygfh  1         NaN   \n",
              "22               http://nlbpa.com/paige__satchel.html  0         NaN   \n",
              "23                   http://daymix.com/Jimmy-Rollins/  0         NaN   \n",
              "24  http://lyrics007.com/Gabrielle%20Destroismaiso...  0         NaN   \n",
              "25  http://westseattle.komonews.com/news/transport...  0         NaN   \n",
              "26  http://absoluteastronomy.com/topics/Pennsylvan...  0         NaN   \n",
              "27       http://www.easyphonia.com/rates-by-country/m  1         NaN   \n",
              "28  http://emgn.com/entertainment/what-does-a-week...  0         NaN   \n",
              "29  http://uk.ask.com/wiki/England_national_footba...  0         NaN   \n",
              "\n",
              "   Unnamed: 3  Unnamed: 4  \n",
              "0         NaN         NaN  \n",
              "1         NaN         NaN  \n",
              "2         NaN         NaN  \n",
              "3         NaN         NaN  \n",
              "4         NaN         NaN  \n",
              "5         NaN         NaN  \n",
              "6         NaN         NaN  \n",
              "7         NaN         NaN  \n",
              "8         NaN         NaN  \n",
              "9         NaN         NaN  \n",
              "10        NaN         NaN  \n",
              "11        NaN         NaN  \n",
              "12        NaN         NaN  \n",
              "13        NaN         NaN  \n",
              "14        NaN         NaN  \n",
              "15        NaN         NaN  \n",
              "16        NaN         NaN  \n",
              "17        NaN         NaN  \n",
              "18        NaN         NaN  \n",
              "19        NaN         NaN  \n",
              "20        NaN         NaN  \n",
              "21        NaN         NaN  \n",
              "22        NaN         NaN  \n",
              "23        NaN         NaN  \n",
              "24        NaN         NaN  \n",
              "25        NaN         NaN  \n",
              "26        NaN         NaN  \n",
              "27        NaN         NaN  \n",
              "28        NaN         NaN  \n",
              "29        NaN         NaN  "
            ]
          },
          "execution_count": 31,
          "metadata": {},
          "output_type": "execute_result"
        }
      ],
      "source": [
        "test_df = pd.read_csv('datasets/publish_test.csv')\n",
        "test_df.head(30)"
      ]
    },
    {
      "cell_type": "code",
      "execution_count": 32,
      "metadata": {
        "colab": {
          "base_uri": "https://localhost:8080/"
        },
        "id": "DBI0Pr3h-a3v",
        "outputId": "a7e9385d-f951-4005-a1b2-3332ebe31820"
      },
      "outputs": [
        {
          "name": "stdout",
          "output_type": "stream",
          "text": [
            "<class 'pandas.core.frame.DataFrame'>\n",
            "RangeIndex: 100 entries, 0 to 99\n",
            "Data columns (total 2 columns):\n",
            " #   Column  Non-Null Count  Dtype \n",
            "---  ------  --------------  ----- \n",
            " 0   x       100 non-null    object\n",
            " 1   y       100 non-null    object\n",
            "dtypes: object(2)\n",
            "memory usage: 1.7+ KB\n"
          ]
        }
      ],
      "source": [
        "test = test_df[['x','y']]\n",
        "\n",
        "test.isnull().sum()\n",
        "test.dropna()\n",
        "\n",
        "test.info()"
      ]
    },
    {
      "cell_type": "code",
      "execution_count": 33,
      "metadata": {
        "colab": {
          "base_uri": "https://localhost:8080/"
        },
        "id": "AZHUsOgPDYyR",
        "outputId": "1b724e0c-3786-46e0-e8a2-4fc6ea2b6dc6"
      },
      "outputs": [
        {
          "name": "stderr",
          "output_type": "stream",
          "text": [
            "C:\\Users\\Admin\\AppData\\Local\\Temp\\ipykernel_13972\\599984414.py:2: SettingWithCopyWarning: \n",
            "A value is trying to be set on a copy of a slice from a DataFrame\n",
            "\n",
            "See the caveats in the documentation: https://pandas.pydata.org/pandas-docs/stable/user_guide/indexing.html#returning-a-view-versus-a-copy\n",
            "  test.drop(indexValue , inplace=True)\n"
          ]
        },
        {
          "data": {
            "text/html": [
              "<div>\n",
              "<style scoped>\n",
              "    .dataframe tbody tr th:only-of-type {\n",
              "        vertical-align: middle;\n",
              "    }\n",
              "\n",
              "    .dataframe tbody tr th {\n",
              "        vertical-align: top;\n",
              "    }\n",
              "\n",
              "    .dataframe thead th {\n",
              "        text-align: right;\n",
              "    }\n",
              "</style>\n",
              "<table border=\"1\" class=\"dataframe\">\n",
              "  <thead>\n",
              "    <tr style=\"text-align: right;\">\n",
              "      <th></th>\n",
              "      <th>x</th>\n",
              "      <th>y</th>\n",
              "    </tr>\n",
              "  </thead>\n",
              "  <tbody>\n",
              "    <tr>\n",
              "      <th>0</th>\n",
              "      <td>http://newmatdesign.ro/wp-admin/wewe/YAHOO/ya....</td>\n",
              "      <td>1</td>\n",
              "    </tr>\n",
              "    <tr>\n",
              "      <th>1</th>\n",
              "      <td>http://ca.linkedin.com/directory/people/ca/pou...</td>\n",
              "      <td>0</td>\n",
              "    </tr>\n",
              "    <tr>\n",
              "      <th>2</th>\n",
              "      <td>http://www.ccent.com.au/index.php?option=com_m...</td>\n",
              "      <td>1</td>\n",
              "    </tr>\n",
              "    <tr>\n",
              "      <th>3</th>\n",
              "      <td>http://applerugs.co.uk/rugs/product_info.php?p...</td>\n",
              "      <td>1</td>\n",
              "    </tr>\n",
              "    <tr>\n",
              "      <th>4</th>\n",
              "      <td>http://mo-artworks.com/blog/diverse-videos/ein...</td>\n",
              "      <td>1</td>\n",
              "    </tr>\n",
              "    <tr>\n",
              "      <th>...</th>\n",
              "      <td>...</td>\n",
              "      <td>...</td>\n",
              "    </tr>\n",
              "    <tr>\n",
              "      <th>94</th>\n",
              "      <td>http://www.x-lonne.nl/fotoboek/image?format=ra...</td>\n",
              "      <td>1</td>\n",
              "    </tr>\n",
              "    <tr>\n",
              "      <th>95</th>\n",
              "      <td>http://www.redcitysoul.co.uk/index.php/compone...</td>\n",
              "      <td>1</td>\n",
              "    </tr>\n",
              "    <tr>\n",
              "      <th>96</th>\n",
              "      <td>http://www.babolna.eu/index.php?option=com_sob...</td>\n",
              "      <td>1</td>\n",
              "    </tr>\n",
              "    <tr>\n",
              "      <th>97</th>\n",
              "      <td>http://www.ninopizzaria.com.br/index.php?optio...</td>\n",
              "      <td>1</td>\n",
              "    </tr>\n",
              "    <tr>\n",
              "      <th>98</th>\n",
              "      <td>http://webcamsocial.com/index.php?option=com_c...</td>\n",
              "      <td>1</td>\n",
              "    </tr>\n",
              "  </tbody>\n",
              "</table>\n",
              "<p>99 rows × 2 columns</p>\n",
              "</div>"
            ],
            "text/plain": [
              "                                                    x  y\n",
              "0   http://newmatdesign.ro/wp-admin/wewe/YAHOO/ya....  1\n",
              "1   http://ca.linkedin.com/directory/people/ca/pou...  0\n",
              "2   http://www.ccent.com.au/index.php?option=com_m...  1\n",
              "3   http://applerugs.co.uk/rugs/product_info.php?p...  1\n",
              "4   http://mo-artworks.com/blog/diverse-videos/ein...  1\n",
              "..                                                ... ..\n",
              "94  http://www.x-lonne.nl/fotoboek/image?format=ra...  1\n",
              "95  http://www.redcitysoul.co.uk/index.php/compone...  1\n",
              "96  http://www.babolna.eu/index.php?option=com_sob...  1\n",
              "97  http://www.ninopizzaria.com.br/index.php?optio...  1\n",
              "98  http://webcamsocial.com/index.php?option=com_c...  1\n",
              "\n",
              "[99 rows x 2 columns]"
            ]
          },
          "execution_count": 33,
          "metadata": {},
          "output_type": "execute_result"
        }
      ],
      "source": [
        "indexValue = test[test['y'] == 'continue=to&amp'].index\n",
        "test.drop(indexValue , inplace=True)\n",
        "\n",
        "test.reset_index(drop=True, inplace=True)\n",
        "\n",
        "test[:100]"
      ]
    },
    {
      "cell_type": "code",
      "execution_count": 34,
      "metadata": {},
      "outputs": [
        {
          "name": "stdout",
          "output_type": "stream",
          "text": [
            "  (0, 33630)\t1.0\n",
            "  (0, 44893)\t1.0\n",
            "  (0, 56991)\t1.0\n",
            "  (0, 65777)\t1.0\n",
            "  (0, 75452)\t1.0\n",
            "  (0, 83320)\t1.0\n",
            "  (0, 83376)\t1.0\n",
            "  (0, 90336)\t1.0\n",
            "  (0, 92108)\t1.0\n",
            "  (0, 92109)\t0.4409269270053537\n",
            "  (1, 41301)\t2.0\n",
            "  (1, 43062)\t1.0\n",
            "  (1, 45579)\t1.0\n",
            "  (1, 49634)\t1.0\n",
            "  (1, 63014)\t1.0\n",
            "  (1, 63595)\t1.0\n",
            "  (1, 65777)\t1.0\n",
            "  (1, 70449)\t1.0\n",
            "  (1, 86349)\t1.0\n",
            "  (1, 86655)\t1.0\n",
            "  (1, 92109)\t0.4409269270053537\n",
            "  (2, 36562)\t1.0\n",
            "  (2, 41879)\t1.0\n",
            "  (2, 43062)\t2.0\n",
            "  (2, 43091)\t1.0\n",
            "  :\t:\n",
            "  (97, 43062)\t2.0\n",
            "  (97, 43091)\t1.0\n",
            "  (97, 57846)\t1.0\n",
            "  (97, 58316)\t1.0\n",
            "  (97, 63587)\t1.0\n",
            "  (97, 67162)\t1.0\n",
            "  (97, 69707)\t1.0\n",
            "  (97, 82510)\t1.0\n",
            "  (97, 82692)\t1.0\n",
            "  (97, 86256)\t1.0\n",
            "  (97, 86655)\t1.0\n",
            "  (97, 92109)\t-1.1727213361808924\n",
            "  (98, 7090)\t1.0\n",
            "  (98, 22250)\t1.0\n",
            "  (98, 43062)\t1.0\n",
            "  (98, 49137)\t1.0\n",
            "  (98, 50093)\t1.0\n",
            "  (98, 54673)\t1.0\n",
            "  (98, 57846)\t1.0\n",
            "  (98, 58316)\t1.0\n",
            "  (98, 68332)\t1.0\n",
            "  (98, 80980)\t1.0\n",
            "  (98, 81858)\t1.0\n",
            "  (98, 86655)\t1.0\n",
            "  (98, 92109)\t-1.1727213361808924\n"
          ]
        }
      ],
      "source": [
        "x_t = test['x']\n",
        "y_t = test['y'].astype(int)\n",
        "\n",
        "features = []\n",
        "\n",
        "for i in range(0, 99):\n",
        "    url = x_t[i]\n",
        "    label = y_t[i]\n",
        "\n",
        "\n",
        "    features.append(featureExtraction(url,label))\n",
        "\n",
        "\n",
        "#converting the list to dataframe\n",
        "feature_names = ['url', 'Domain', 'Have_IP', 'Have_At', 'URL_Length', 'URL_Depth','Redirection','https_Domain', 'label']\n",
        "\n",
        "df = pd.DataFrame(features, columns= feature_names)\n",
        "\n",
        "\n",
        "# delete symbols\n",
        "import re\n",
        "df[\"url\"] = df[\"url\"].apply(lambda x: re.sub('[/\\.;?=https:\\']', ' ', x))\n",
        "\n",
        "\n",
        "# Data selection\n",
        "url_df = df['url']\n",
        "domain_df = df['Domain']\n",
        "depth_df = df['URL_Depth']\n",
        "feature_df = df[['Redirection', 'URL_Length']]\n",
        "label_df = df['label']\n",
        "\n",
        "# Scale depth feature\n",
        "depth_arr = np.asarray(depth_df)\n",
        "# Reshape depth_arr to a 2D array\n",
        "depth_arr_2d = np.reshape(depth_arr, (-1, 1))\n",
        "# Apply StandardScaler\n",
        "depth_scaled = scaler_depth.transform(depth_arr_2d)\n",
        "\n",
        "\n",
        "import scipy.sparse as sp\n",
        "\n",
        "# Vectorize URLs\n",
        "url_vec = vectorizer_url.transform(url_df)\n",
        "\n",
        "\n",
        "# Vectorize Domains\n",
        "domain_vec = vectorizer_domain.transform(domain_df)\n",
        "\n",
        "features_arr = np.asarray(feature_df)\n",
        "\n",
        "# Concatenate url_vec, domain_vec, and features_arr as sparse matrices\n",
        "combined_features_arr = sp.hstack((url_vec, domain_vec, sp.csr_matrix(features_arr), depth_scaled), format='csr')\n",
        "print(combined_features_arr)\n",
        "\n",
        "# Encode label column\n",
        "y_t = np.asarray(label_df)"
      ]
    },
    {
      "cell_type": "code",
      "execution_count": 35,
      "metadata": {},
      "outputs": [
        {
          "data": {
            "text/plain": [
              "92110"
            ]
          },
          "execution_count": 35,
          "metadata": {},
          "output_type": "execute_result"
        }
      ],
      "source": [
        "logreg.coef_.shape[1]"
      ]
    },
    {
      "cell_type": "code",
      "execution_count": 36,
      "metadata": {
        "colab": {
          "base_uri": "https://localhost:8080/"
        },
        "id": "1gB8NAz89Rbj",
        "outputId": "f428b357-d851-46d3-e3fc-003719616046"
      },
      "outputs": [
        {
          "name": "stdout",
          "output_type": "stream",
          "text": [
            "[1 0 1 1 0 1 1 0 1 0 1 1 0 1 1 0 1 1 0 1 1 1 1 1 0 0 0 1 0 1 1 1 1 1 0 1 0\n",
            " 1 1 1 1 1 1 0 1 1 1 0 1 1 0 1 0 1 1 1 1 1 0 1 1 1 1 1 1 0 0 0 1 1 1 1 1 1\n",
            " 1 1 1 1 1 1 1 1 1 1 1 1 1 1 1 0 1 0 1 1 1 1 1 1 1]\n"
          ]
        }
      ],
      "source": [
        "y_t_pred = logreg.predict(combined_features_arr)\n",
        "print(y_t_pred)"
      ]
    },
    {
      "cell_type": "code",
      "execution_count": 37,
      "metadata": {
        "colab": {
          "base_uri": "https://localhost:8080/"
        },
        "id": "1OBAcQ81CS6o",
        "outputId": "1eb58ef4-8139-48d5-cbb3-de9f34e82f63"
      },
      "outputs": [
        {
          "name": "stdout",
          "output_type": "stream",
          "text": [
            "0.3137254901960784\n"
          ]
        }
      ],
      "source": [
        "from sklearn.metrics import jaccard_score\n",
        "print(jaccard_score(y_t, y_t_pred,pos_label=0))"
      ]
    },
    {
      "cell_type": "code",
      "execution_count": 38,
      "metadata": {
        "colab": {
          "base_uri": "https://localhost:8080/"
        },
        "id": "gt2XXgouC_6_",
        "outputId": "894d7634-b2b7-4e21-ba7e-d538c58d8ec5"
      },
      "outputs": [
        {
          "name": "stdout",
          "output_type": "stream",
          "text": [
            "Accuracy: 0.65\n",
            "F1 score: 0.73\n"
          ]
        }
      ],
      "source": [
        "accuracy = accuracy_score(y_t, y_t_pred)\n",
        "f1 = f1_score(y_t, y_t_pred)\n",
        "\n",
        "print(f\"Accuracy: {accuracy:.2f}\")\n",
        "print(f\"F1 score: {f1:.2f}\")"
      ]
    },
    {
      "cell_type": "code",
      "execution_count": 39,
      "metadata": {
        "colab": {
          "base_uri": "https://localhost:8080/",
          "height": 568
        },
        "id": "cEQEJ8O2B4ta",
        "outputId": "4332a0bd-bb70-4202-88bb-5ce55a0b57b7"
      },
      "outputs": [
        {
          "data": {
            "text/plain": [
              "Text(0.5, 427.9555555555555, 'Predicted label')"
            ]
          },
          "execution_count": 39,
          "metadata": {},
          "output_type": "execute_result"
        },
        {
          "data": {
            "image/png": "[encoded data removed]",
            "text/plain": [
              "<Figure size 640x480 with 2 Axes>"
            ]
          },
          "metadata": {},
          "output_type": "display_data"
        }
      ],
      "source": [
        "cnf_matrix = metrics.confusion_matrix(y_t, y_t_pred)\n",
        "cnf_matrix\n",
        "\n",
        "class_names=[] # name  of classes\n",
        "fig, ax = plt.subplots()\n",
        "tick_marks = np.arange(len(class_names))\n",
        "plt.xticks(tick_marks, class_names)\n",
        "plt.yticks(tick_marks, class_names)\n",
        "# create heatmap\n",
        "sns.heatmap(pd.DataFrame(cnf_matrix), annot=True, cmap=\"YlGnBu\" ,fmt='g')\n",
        "ax.xaxis.set_label_position(\"top\")\n",
        "plt.tight_layout()\n",
        "plt.title('Confusion matrix', y=1.1)\n",
        "plt.ylabel('Actual label')\n",
        "plt.xlabel('Predicted label')"
      ]
    },
    {
      "attachments": {},
      "cell_type": "markdown",
      "metadata": {},
      "source": [
        "# **Custom Test**"
      ]
    },
    {
      "cell_type": "code",
      "execution_count": 40,
      "metadata": {},
      "outputs": [
        {
          "ename": "NameError",
          "evalue": "name 'scaler' is not defined",
          "output_type": "error",
          "traceback": [
            "\u001b[1;31m---------------------------------------------------------------------------\u001b[0m",
            "\u001b[1;31mNameError\u001b[0m                                 Traceback (most recent call last)",
            "Cell \u001b[1;32mIn[40], line 39\u001b[0m\n\u001b[0;32m     36\u001b[0m depth_arr_2d \u001b[39m=\u001b[39m np\u001b[39m.\u001b[39mreshape(depth_arr, (\u001b[39m-\u001b[39m\u001b[39m1\u001b[39m, \u001b[39m1\u001b[39m))\n\u001b[0;32m     38\u001b[0m \u001b[39m# Apply StandardScaler\u001b[39;00m\n\u001b[1;32m---> 39\u001b[0m depth_scaler \u001b[39m=\u001b[39m scaler\u001b[39m.\u001b[39mtransform(depth_arr_2d)\n\u001b[0;32m     40\u001b[0m depth_scaler[:\u001b[39m5\u001b[39m]\n\u001b[0;32m     43\u001b[0m \u001b[39mimport\u001b[39;00m \u001b[39mscipy\u001b[39;00m\u001b[39m.\u001b[39;00m\u001b[39msparse\u001b[39;00m \u001b[39mas\u001b[39;00m \u001b[39msp\u001b[39;00m\n",
            "\u001b[1;31mNameError\u001b[0m: name 'scaler' is not defined"
          ]
        }
      ],
      "source": [
        "new_url = 'https://www.coursera.org/learn/machine-learning/lecture/1Z0TT/cost-function-formula'\n",
        "\n",
        "features = []\n",
        "\n",
        "for i in range(0, 99):\n",
        "    url = new_url\n",
        "    label = None\n",
        "\n",
        "    features.append(featureExtraction(url,label))\n",
        "\n",
        "\n",
        "#converting the list to dataframe\n",
        "feature_names = ['url', 'Domain', 'Have_IP', 'Have_At', 'URL_Length', 'URL_Depth','Redirection','https_Domain', 'label']\n",
        "\n",
        "df = pd.DataFrame(features, columns= feature_names)\n",
        "\n",
        "\n",
        "# delete symbols\n",
        "import re\n",
        "df[\"url\"] = df[\"url\"].apply(lambda x: re.sub('[/\\.;?=https:\\']', ' ', x))\n",
        "\n",
        "\n",
        "# Data selection\n",
        "url_df = df['url']\n",
        "domain_df = df['Domain']\n",
        "depth_df = df['URL_Depth']\n",
        "feature_df = df[['URL_Length','Redirection']]\n",
        "label_df = df['label']\n",
        "\n",
        "depth_arr = np.asarray(depth_df)\n",
        "depth_arr\n",
        "\n",
        "import numpy as np\n",
        "\n",
        "# Reshape depth_arr to a 2D array\n",
        "depth_arr_2d = np.reshape(depth_arr, (-1, 1))\n",
        "\n",
        "# Apply StandardScaler\n",
        "depth_scaler = scaler.transform(depth_arr_2d)\n",
        "depth_scaler[:5]\n",
        "\n",
        "\n",
        "import scipy.sparse as sp\n",
        "\n",
        "# Vectorize URLs\n",
        "url_vec = vectorizer_url.transform(url_df)\n",
        "\n",
        "\n",
        "# Vectorize Domains\n",
        "domain_vec = vectorizer_domain.transform(domain_df)\n",
        "\n",
        "features_arr = np.asarray(feature_df)\n",
        "\n",
        "\n",
        "\n",
        "# Convert depth_arr_2d to a sparse matrix\n",
        "depth_sparse = sp.csr_matrix(depth_arr_2d)\n",
        "\n",
        "# Concatenate url_vec, domain_vec, and features_arr as sparse matrices\n",
        "combined_features_arr = sp.hstack((url_vec, domain_vec, sp.csr_matrix(features_arr), depth_sparse), format='csr')\n",
        "\n",
        "# Make prediction using trained model\n",
        "prediction = logreg.predict(combined_features_arr)\n",
        "\n",
        "if prediction[0] == 0:\n",
        "    print('Legitimate')\n",
        "elif prediction[0] == 1:\n",
        "    print('Phishing')\n",
        "else:\n",
        "    print('Error')"
      ]
    }
  ],
  "metadata": {
    "colab": {
      "include_colab_link": true,
      "provenance": []
    },
    "kernelspec": {
      "display_name": "base",
      "language": "python",
      "name": "python3"
    },
    "language_info": {
      "codemirror_mode": {
        "name": "ipython",
        "version": 3
      },
      "file_extension": ".py",
      "mimetype": "text/x-python",
      "name": "python",
      "nbconvert_exporter": "python",
      "pygments_lexer": "ipython3",
      "version": "3.11.3"
    },
    "orig_nbformat": 4
  },
  "nbformat": 4,
  "nbformat_minor": 0
}
