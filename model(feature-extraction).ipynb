{
  "cells": [
    {
      "attachments": {},
      "cell_type": "markdown",
      "metadata": {
        "colab_type": "text",
        "id": "view-in-github"
      },
      "source": [
        "<a href=\"https://colab.research.google.com/github/buisonanh/phishing_urls_detection/blob/main/phishing_urls_detection.ipynb\" target=\"_parent\"><img src=\"https://colab.research.google.com/assets/colab-badge.svg\" alt=\"Open In Colab\"/></a>"
      ]
    },
    {
      "attachments": {},
      "cell_type": "markdown",
      "metadata": {
        "id": "rFFy1FBGlkdn"
      },
      "source": [
        "# **Prepare Data**"
      ]
    },
    {
      "cell_type": "code",
      "execution_count": 1,
      "metadata": {
        "colab": {
          "base_uri": "https://localhost:8080/"
        },
        "id": "aapuo6zz2d4f",
        "outputId": "85cc1e5c-a2ea-4947-a2f2-804306795c0b"
      },
      "outputs": [
        {
          "name": "stderr",
          "output_type": "stream",
          "text": [
            "[nltk_data] Downloading package punkt to\n",
            "[nltk_data]     C:\\Users\\PC\\AppData\\Roaming\\nltk_data...\n",
            "[nltk_data]   Package punkt is already up-to-date!\n"
          ]
        },
        {
          "data": {
            "text/plain": [
              "True"
            ]
          },
          "execution_count": 1,
          "metadata": {},
          "output_type": "execute_result"
        }
      ],
      "source": [
        "import numpy as np\n",
        "import pandas as pd\n",
        "\n",
        "import nltk\n",
        "nltk.download('punkt')"
      ]
    },
    {
      "cell_type": "code",
      "execution_count": 2,
      "metadata": {
        "id": "ucaCAx2ydjro"
      },
      "outputs": [],
      "source": [
        "# Import data\n",
        "legit = pd.read_csv(\"datasets/FinalDataset/URL/Benign_list_big_final.csv\")\n",
        "phishing = pd.read_csv(\"datasets/phishing_urls.csv\")"
      ]
    },
    {
      "cell_type": "code",
      "execution_count": 3,
      "metadata": {},
      "outputs": [],
      "source": [
        "legit.columns = ['url']"
      ]
    },
    {
      "cell_type": "code",
      "execution_count": 4,
      "metadata": {
        "colab": {
          "base_uri": "https://localhost:8080/"
        },
        "id": "61RZtIB5dXFR",
        "outputId": "7cf9d6f6-bf29-49e0-ecea-b40201294b30"
      },
      "outputs": [
        {
          "name": "stdout",
          "output_type": "stream",
          "text": [
            "<class 'pandas.core.frame.DataFrame'>\n",
            "RangeIndex: 35377 entries, 0 to 35376\n",
            "Data columns (total 1 columns):\n",
            " #   Column  Non-Null Count  Dtype \n",
            "---  ------  --------------  ----- \n",
            " 0   url     35377 non-null  object\n",
            "dtypes: object(1)\n",
            "memory usage: 276.5+ KB\n",
            "None\n",
            "\n",
            "<class 'pandas.core.frame.DataFrame'>\n",
            "RangeIndex: 56591 entries, 0 to 56590\n",
            "Data columns (total 1 columns):\n",
            " #   Column  Non-Null Count  Dtype \n",
            "---  ------  --------------  ----- \n",
            " 0   url     56591 non-null  object\n",
            "dtypes: object(1)\n",
            "memory usage: 442.2+ KB\n",
            "None\n",
            "\n",
            "Legit null values: url    0\n",
            "dtype: int64\n",
            "Phishing null values: url    0\n",
            "dtype: int64\n"
          ]
        }
      ],
      "source": [
        "# Drop duplicates\n",
        "legit.drop_duplicates()\n",
        "phishing.drop_duplicates()\n",
        "\n",
        "print(legit.info())\n",
        "print()\n",
        "print(phishing.info())\n",
        "print()\n",
        "\n",
        "# Check null values\n",
        "print(f\"Legit null values: {legit.isnull().sum()}\")\n",
        "print(f\"Phishing null values: {phishing.isnull().sum()}\")"
      ]
    },
    {
      "cell_type": "code",
      "execution_count": 5,
      "metadata": {
        "colab": {
          "base_uri": "https://localhost:8080/"
        },
        "id": "ygRqJDN1cZkE",
        "outputId": "db3cd048-3285-45ff-a69d-09921f14abb1"
      },
      "outputs": [
        {
          "name": "stdout",
          "output_type": "stream",
          "text": [
            "                                                     url  label\n",
            "0      http://1337x.to/torrent/1110018/Blackhat-2015-...      0\n",
            "1      http://1337x.to/torrent/1122940/Blackhat-2015-...      0\n",
            "2      http://1337x.to/torrent/1124395/Fast-and-Furio...      0\n",
            "3      http://1337x.to/torrent/1145504/Avengers-Age-o...      0\n",
            "4      http://1337x.to/torrent/1160078/Avengers-age-o...      0\n",
            "...                                                  ...    ...\n",
            "35372  https://lastpass.com/signup2.php?ac=1&from_uri...      0\n",
            "35373  https://lastpass.com/signup2.php?ac=1&from_uri...      0\n",
            "35374  https://lastpass.com/signup2.php?ac=1&from_uri...      0\n",
            "35375  https://lastpass.com/signup2.php?ac=1&from_uri...      0\n",
            "35376  https://asana.com/guide/videos/%22//fast.wisti...      0\n",
            "\n",
            "[35377 rows x 2 columns]\n",
            "<class 'pandas.core.frame.DataFrame'>\n",
            "Int64Index: 91968 entries, 77897 to 15795\n",
            "Data columns (total 2 columns):\n",
            " #   Column  Non-Null Count  Dtype \n",
            "---  ------  --------------  ----- \n",
            " 0   url     91968 non-null  object\n",
            " 1   label   91968 non-null  int64 \n",
            "dtypes: int64(1), object(1)\n",
            "memory usage: 2.1+ MB\n"
          ]
        }
      ],
      "source": [
        "# add a 'label' column to the dataframes\n",
        "legit[\"label\"] = 0\n",
        "phishing[\"label\"] = 1\n",
        "\n",
        "print(legit)\n",
        "# combine the two dataframes\n",
        "df = pd.concat([legit, phishing], ignore_index=True)\n",
        "\n",
        "# shuffle the dataframe's rows randomly\n",
        "df = df.sample(frac=1, random_state=42) # Set random_state to an integer for reproducibility\n",
        "\n",
        "df.info()"
      ]
    },
    {
      "cell_type": "code",
      "execution_count": 6,
      "metadata": {
        "colab": {
          "base_uri": "https://localhost:8080/"
        },
        "id": "B4pvEb8PeiJg",
        "outputId": "48a2a67a-e217-422d-ea3e-2564e7c155c8"
      },
      "outputs": [
        {
          "name": "stdout",
          "output_type": "stream",
          "text": [
            "Number of duplicates: 4\n",
            "Number of duplicates: 0\n"
          ]
        }
      ],
      "source": [
        "# Identify duplicate rows\n",
        "duplicates = df.duplicated()\n",
        "num_duplicates = duplicates.sum()\n",
        "print(f\"Number of duplicates: {num_duplicates}\")\n",
        "\n",
        "df = df.drop_duplicates()\n",
        "\n",
        "duplicates = df.duplicated()\n",
        "num_duplicates = duplicates.sum()\n",
        "print(f\"Number of duplicates: {num_duplicates}\")\n"
      ]
    },
    {
      "cell_type": "code",
      "execution_count": 7,
      "metadata": {
        "colab": {
          "base_uri": "https://localhost:8080/"
        },
        "id": "6Y-Ns7t62d4j",
        "outputId": "531234b4-e06d-4651-b8a4-1f124ae37f7a"
      },
      "outputs": [
        {
          "name": "stdout",
          "output_type": "stream",
          "text": [
            "<class 'pandas.core.frame.DataFrame'>\n",
            "Int64Index: 91964 entries, 77897 to 15795\n",
            "Data columns (total 2 columns):\n",
            " #   Column  Non-Null Count  Dtype \n",
            "---  ------  --------------  ----- \n",
            " 0   url     91964 non-null  object\n",
            " 1   label   91964 non-null  int64 \n",
            "dtypes: int64(1), object(1)\n",
            "memory usage: 2.1+ MB\n"
          ]
        }
      ],
      "source": [
        "df.info()"
      ]
    },
    {
      "cell_type": "code",
      "execution_count": 8,
      "metadata": {
        "colab": {
          "base_uri": "https://localhost:8080/",
          "height": 363
        },
        "id": "_62ILMT72d4j",
        "outputId": "b45e1153-790b-4ee4-d581-b30d104e3c29"
      },
      "outputs": [
        {
          "name": "stdout",
          "output_type": "stream",
          "text": [
            "url      0\n",
            "label    0\n",
            "dtype: int64\n"
          ]
        },
        {
          "data": {
            "text/html": [
              "<div>\n",
              "<style scoped>\n",
              "    .dataframe tbody tr th:only-of-type {\n",
              "        vertical-align: middle;\n",
              "    }\n",
              "\n",
              "    .dataframe tbody tr th {\n",
              "        vertical-align: top;\n",
              "    }\n",
              "\n",
              "    .dataframe thead th {\n",
              "        text-align: right;\n",
              "    }\n",
              "</style>\n",
              "<table border=\"1\" class=\"dataframe\">\n",
              "  <thead>\n",
              "    <tr style=\"text-align: right;\">\n",
              "      <th></th>\n",
              "      <th>url</th>\n",
              "      <th>label</th>\n",
              "    </tr>\n",
              "  </thead>\n",
              "  <tbody>\n",
              "    <tr>\n",
              "      <th>77897</th>\n",
              "      <td>https://trustipad.com/titano/?prt=440211</td>\n",
              "      <td>1</td>\n",
              "    </tr>\n",
              "    <tr>\n",
              "      <th>69293</th>\n",
              "      <td>https://www.mygov-user.20-245-45-137.plesk.pag...</td>\n",
              "      <td>1</td>\n",
              "    </tr>\n",
              "    <tr>\n",
              "      <th>54369</th>\n",
              "      <td>https://trekdriving.com.au/jumperr/updation/in...</td>\n",
              "      <td>1</td>\n",
              "    </tr>\n",
              "    <tr>\n",
              "      <th>79462</th>\n",
              "      <td>https://bectchange.com</td>\n",
              "      <td>1</td>\n",
              "    </tr>\n",
              "    <tr>\n",
              "      <th>22811</th>\n",
              "      <td>http://plarium.com/fr/jeux-de-strategie/stormf...</td>\n",
              "      <td>0</td>\n",
              "    </tr>\n",
              "    <tr>\n",
              "      <th>21247</th>\n",
              "      <td>http://perezhilton.com/2015-05-11-taylor-swift...</td>\n",
              "      <td>0</td>\n",
              "    </tr>\n",
              "    <tr>\n",
              "      <th>67217</th>\n",
              "      <td>https://site.desco.resgate.siteempresarial.com...</td>\n",
              "      <td>1</td>\n",
              "    </tr>\n",
              "    <tr>\n",
              "      <th>63188</th>\n",
              "      <td>http://currentlyattyahoo736363.weeblysite.com/</td>\n",
              "      <td>1</td>\n",
              "    </tr>\n",
              "    <tr>\n",
              "      <th>4940</th>\n",
              "      <td>http://distractify.com/post/related/id/554ce07...</td>\n",
              "      <td>0</td>\n",
              "    </tr>\n",
              "    <tr>\n",
              "      <th>63675</th>\n",
              "      <td>https://www-info-cr-mufg.nftstea.com/jp.php</td>\n",
              "      <td>1</td>\n",
              "    </tr>\n",
              "  </tbody>\n",
              "</table>\n",
              "</div>"
            ],
            "text/plain": [
              "                                                     url  label\n",
              "77897           https://trustipad.com/titano/?prt=440211      1\n",
              "69293  https://www.mygov-user.20-245-45-137.plesk.pag...      1\n",
              "54369  https://trekdriving.com.au/jumperr/updation/in...      1\n",
              "79462                             https://bectchange.com      1\n",
              "22811  http://plarium.com/fr/jeux-de-strategie/stormf...      0\n",
              "21247  http://perezhilton.com/2015-05-11-taylor-swift...      0\n",
              "67217  https://site.desco.resgate.siteempresarial.com...      1\n",
              "63188     http://currentlyattyahoo736363.weeblysite.com/      1\n",
              "4940   http://distractify.com/post/related/id/554ce07...      0\n",
              "63675        https://www-info-cr-mufg.nftstea.com/jp.php      1"
            ]
          },
          "execution_count": 8,
          "metadata": {},
          "output_type": "execute_result"
        }
      ],
      "source": [
        "print(df.isnull().sum())\n",
        "df.dropna(inplace = True)\n",
        "\n",
        "df.head(10)"
      ]
    },
    {
      "cell_type": "code",
      "execution_count": 9,
      "metadata": {
        "colab": {
          "base_uri": "https://localhost:8080/"
        },
        "id": "sW3v5rwGjrIq",
        "outputId": "2af6768a-ba35-4f65-ed85-f099da29d912"
      },
      "outputs": [
        {
          "data": {
            "text/plain": [
              "'\\n# assume `data` is a pandas DataFrame with columns \"url\" and \"label\"\\ncounts = df[\"label\"].value_counts()\\n\\n# print the counts for each category\\nprint(counts)\\n'"
            ]
          },
          "execution_count": 9,
          "metadata": {},
          "output_type": "execute_result"
        }
      ],
      "source": [
        "\"\"\"\n",
        "# assume `data` is a pandas DataFrame with columns \"url\" and \"label\"\n",
        "counts = df[\"label\"].value_counts()\n",
        "\n",
        "# print the counts for each category\n",
        "print(counts)\n",
        "\"\"\""
      ]
    },
    {
      "attachments": {},
      "cell_type": "markdown",
      "metadata": {},
      "source": [
        "# **Extracting Features**"
      ]
    },
    {
      "cell_type": "code",
      "execution_count": 10,
      "metadata": {},
      "outputs": [],
      "source": [
        "# importing required packages for this section\n",
        "from urllib.parse import urlparse,urlencode\n",
        "import ipaddress\n",
        "import re\n",
        "\n",
        "# 1.Domain of the URL (Domain) \n",
        "def getDomain(url):  \n",
        "    domain = urlparse(url).netloc\n",
        "    if re.match(r\"^www.\",domain):\n",
        "            domain = domain.replace(\"www.\",\"\")\n",
        "    return domain\n",
        "\n",
        "# 2.Checks for IP address in URL (Have_IP)\n",
        "def havingIP(url):\n",
        "    try:\n",
        "        ipaddress.ip_address(url)\n",
        "        ip = 1\n",
        "    except:\n",
        "        ip = 0\n",
        "    return ip\n",
        "\n",
        "# 3.Checks the presence of @ in URL (Have_At)\n",
        "def haveAtSign(url):\n",
        "    if \"@\" in url:\n",
        "        at = 1    \n",
        "    else:\n",
        "        at = 0    \n",
        "    return at\n",
        "\n",
        "# 4.Finding the length of URL and categorizing (URL_Length)\n",
        "def getLength(url):\n",
        "    if len(url) < 54:\n",
        "        length = 0            \n",
        "    else:\n",
        "        length = 1            \n",
        "    return length\n",
        "\n",
        "# 5.Gives number of '/' in URL (URL_Depth)\n",
        "def getDepth(url):\n",
        "    s = urlparse(url).path.split('/')\n",
        "    depth = 0\n",
        "    for j in range(len(s)):\n",
        "        if len(s[j]) != 0:\n",
        "            depth = depth+1\n",
        "    return depth\n",
        "\n",
        "# 6.Checking for redirection '//' in the url (Redirection)\n",
        "def redirection(url):\n",
        "    pos = url.rfind('//')\n",
        "    if pos > 6:\n",
        "        if pos > 7:\n",
        "            return 1\n",
        "        else:\n",
        "            return 0\n",
        "    else:\n",
        "        return 0\n",
        "\n",
        "# 7.Existence of “HTTPS” Token in the Domain Part of the URL (https_Domain)\n",
        "def httpDomain(url):\n",
        "    domain = urlparse(url).netloc\n",
        "    if 'https' in domain:\n",
        "        return 1\n",
        "    else:\n",
        "        return 0"
      ]
    },
    {
      "cell_type": "code",
      "execution_count": 11,
      "metadata": {},
      "outputs": [],
      "source": [
        "def featureExtraction(url,label):\n",
        "    \n",
        "    features = []\n",
        "    features.append(url)\n",
        "    #Address bar based features (10)\n",
        "    features.append(getDomain(url))\n",
        "    features.append(havingIP(url))\n",
        "    features.append(haveAtSign(url))\n",
        "    features.append(getLength(url))\n",
        "    features.append(getDepth(url))\n",
        "    features.append(redirection(url))\n",
        "    features.append(httpDomain(url))\n",
        "    features.append(label)\n",
        "\n",
        "    return features"
      ]
    },
    {
      "cell_type": "code",
      "execution_count": 12,
      "metadata": {},
      "outputs": [
        {
          "data": {
            "text/plain": [
              "(91964, 2)"
            ]
          },
          "execution_count": 12,
          "metadata": {},
          "output_type": "execute_result"
        }
      ],
      "source": [
        "df.shape"
      ]
    },
    {
      "cell_type": "code",
      "execution_count": 13,
      "metadata": {},
      "outputs": [
        {
          "data": {
            "text/html": [
              "<div>\n",
              "<style scoped>\n",
              "    .dataframe tbody tr th:only-of-type {\n",
              "        vertical-align: middle;\n",
              "    }\n",
              "\n",
              "    .dataframe tbody tr th {\n",
              "        vertical-align: top;\n",
              "    }\n",
              "\n",
              "    .dataframe thead th {\n",
              "        text-align: right;\n",
              "    }\n",
              "</style>\n",
              "<table border=\"1\" class=\"dataframe\">\n",
              "  <thead>\n",
              "    <tr style=\"text-align: right;\">\n",
              "      <th></th>\n",
              "      <th>url</th>\n",
              "      <th>label</th>\n",
              "    </tr>\n",
              "  </thead>\n",
              "  <tbody>\n",
              "    <tr>\n",
              "      <th>0</th>\n",
              "      <td>https://trustipad.com/titano/?prt=440211</td>\n",
              "      <td>1</td>\n",
              "    </tr>\n",
              "    <tr>\n",
              "      <th>1</th>\n",
              "      <td>https://www.mygov-user.20-245-45-137.plesk.pag...</td>\n",
              "      <td>1</td>\n",
              "    </tr>\n",
              "    <tr>\n",
              "      <th>2</th>\n",
              "      <td>https://trekdriving.com.au/jumperr/updation/in...</td>\n",
              "      <td>1</td>\n",
              "    </tr>\n",
              "    <tr>\n",
              "      <th>3</th>\n",
              "      <td>https://bectchange.com</td>\n",
              "      <td>1</td>\n",
              "    </tr>\n",
              "    <tr>\n",
              "      <th>4</th>\n",
              "      <td>http://plarium.com/fr/jeux-de-strategie/stormf...</td>\n",
              "      <td>0</td>\n",
              "    </tr>\n",
              "    <tr>\n",
              "      <th>5</th>\n",
              "      <td>http://perezhilton.com/2015-05-11-taylor-swift...</td>\n",
              "      <td>0</td>\n",
              "    </tr>\n",
              "    <tr>\n",
              "      <th>6</th>\n",
              "      <td>https://site.desco.resgate.siteempresarial.com...</td>\n",
              "      <td>1</td>\n",
              "    </tr>\n",
              "    <tr>\n",
              "      <th>7</th>\n",
              "      <td>http://currentlyattyahoo736363.weeblysite.com/</td>\n",
              "      <td>1</td>\n",
              "    </tr>\n",
              "    <tr>\n",
              "      <th>8</th>\n",
              "      <td>http://distractify.com/post/related/id/554ce07...</td>\n",
              "      <td>0</td>\n",
              "    </tr>\n",
              "    <tr>\n",
              "      <th>9</th>\n",
              "      <td>https://www-info-cr-mufg.nftstea.com/jp.php</td>\n",
              "      <td>1</td>\n",
              "    </tr>\n",
              "    <tr>\n",
              "      <th>10</th>\n",
              "      <td>https://www.goin-kotayamatoo.co.jp.jushunjsj.c...</td>\n",
              "      <td>1</td>\n",
              "    </tr>\n",
              "    <tr>\n",
              "      <th>11</th>\n",
              "      <td>https://www.d1rect-smtb.jp.ap1.ib.qiledaili.com</td>\n",
              "      <td>1</td>\n",
              "    </tr>\n",
              "    <tr>\n",
              "      <th>12</th>\n",
              "      <td>https://cabinet.system442749.site/?ref=u493ANflaq</td>\n",
              "      <td>1</td>\n",
              "    </tr>\n",
              "    <tr>\n",
              "      <th>13</th>\n",
              "      <td>http://wpengine.com/2015/05/13/venom-vulnerabi...</td>\n",
              "      <td>0</td>\n",
              "    </tr>\n",
              "    <tr>\n",
              "      <th>14</th>\n",
              "      <td>http://www.kueronakayaeotn.co.jp.kuerocekayaoo...</td>\n",
              "      <td>1</td>\n",
              "    </tr>\n",
              "    <tr>\n",
              "      <th>15</th>\n",
              "      <td>https://39bc7a02-49c2-4b5f-b28a-cb98341a72c9.i...</td>\n",
              "      <td>1</td>\n",
              "    </tr>\n",
              "    <tr>\n",
              "      <th>16</th>\n",
              "      <td>https://zi992883923923.web.app/#user@example.org</td>\n",
              "      <td>1</td>\n",
              "    </tr>\n",
              "    <tr>\n",
              "      <th>17</th>\n",
              "      <td>https://gexdy.putoptical.top/</td>\n",
              "      <td>1</td>\n",
              "    </tr>\n",
              "    <tr>\n",
              "      <th>18</th>\n",
              "      <td>http://torcache.net/torrent/B459A9C996AEA29059...</td>\n",
              "      <td>0</td>\n",
              "    </tr>\n",
              "    <tr>\n",
              "      <th>19</th>\n",
              "      <td>https://media-static1.centermoto.es/ch/api/int...</td>\n",
              "      <td>1</td>\n",
              "    </tr>\n",
              "    <tr>\n",
              "      <th>20</th>\n",
              "      <td>https://belmek.com/m-sop/VerifyCN</td>\n",
              "      <td>1</td>\n",
              "    </tr>\n",
              "    <tr>\n",
              "      <th>21</th>\n",
              "      <td>http://nypost.com/2015/05/13/why-tom-bradys-su...</td>\n",
              "      <td>0</td>\n",
              "    </tr>\n",
              "    <tr>\n",
              "      <th>22</th>\n",
              "      <td>https://delivery.freshjuiceuk.com/s/QHfmB</td>\n",
              "      <td>1</td>\n",
              "    </tr>\n",
              "    <tr>\n",
              "      <th>23</th>\n",
              "      <td>http://digg.com/video/cutest-102-year-old-lose...</td>\n",
              "      <td>0</td>\n",
              "    </tr>\n",
              "    <tr>\n",
              "      <th>24</th>\n",
              "      <td>http://grantland.com/hollywood-prospectus/osca...</td>\n",
              "      <td>0</td>\n",
              "    </tr>\n",
              "    <tr>\n",
              "      <th>25</th>\n",
              "      <td>http://censor.net.ua/photo_news/335709/odin_iz...</td>\n",
              "      <td>0</td>\n",
              "    </tr>\n",
              "    <tr>\n",
              "      <th>26</th>\n",
              "      <td>http://katproxy.com/deadfish-sidonia-no-kishi-...</td>\n",
              "      <td>0</td>\n",
              "    </tr>\n",
              "    <tr>\n",
              "      <th>27</th>\n",
              "      <td>https://povrat-poreza.web.app/</td>\n",
              "      <td>1</td>\n",
              "    </tr>\n",
              "    <tr>\n",
              "      <th>28</th>\n",
              "      <td>http://buzzfil.net/article/5508/animaux/ils-s-...</td>\n",
              "      <td>0</td>\n",
              "    </tr>\n",
              "    <tr>\n",
              "      <th>29</th>\n",
              "      <td>https://plpfile.com/</td>\n",
              "      <td>1</td>\n",
              "    </tr>\n",
              "  </tbody>\n",
              "</table>\n",
              "</div>"
            ],
            "text/plain": [
              "                                                  url  label\n",
              "0            https://trustipad.com/titano/?prt=440211      1\n",
              "1   https://www.mygov-user.20-245-45-137.plesk.pag...      1\n",
              "2   https://trekdriving.com.au/jumperr/updation/in...      1\n",
              "3                              https://bectchange.com      1\n",
              "4   http://plarium.com/fr/jeux-de-strategie/stormf...      0\n",
              "5   http://perezhilton.com/2015-05-11-taylor-swift...      0\n",
              "6   https://site.desco.resgate.siteempresarial.com...      1\n",
              "7      http://currentlyattyahoo736363.weeblysite.com/      1\n",
              "8   http://distractify.com/post/related/id/554ce07...      0\n",
              "9         https://www-info-cr-mufg.nftstea.com/jp.php      1\n",
              "10  https://www.goin-kotayamatoo.co.jp.jushunjsj.c...      1\n",
              "11    https://www.d1rect-smtb.jp.ap1.ib.qiledaili.com      1\n",
              "12  https://cabinet.system442749.site/?ref=u493ANflaq      1\n",
              "13  http://wpengine.com/2015/05/13/venom-vulnerabi...      0\n",
              "14  http://www.kueronakayaeotn.co.jp.kuerocekayaoo...      1\n",
              "15  https://39bc7a02-49c2-4b5f-b28a-cb98341a72c9.i...      1\n",
              "16   https://zi992883923923.web.app/#user@example.org      1\n",
              "17                      https://gexdy.putoptical.top/      1\n",
              "18  http://torcache.net/torrent/B459A9C996AEA29059...      0\n",
              "19  https://media-static1.centermoto.es/ch/api/int...      1\n",
              "20                  https://belmek.com/m-sop/VerifyCN      1\n",
              "21  http://nypost.com/2015/05/13/why-tom-bradys-su...      0\n",
              "22          https://delivery.freshjuiceuk.com/s/QHfmB      1\n",
              "23  http://digg.com/video/cutest-102-year-old-lose...      0\n",
              "24  http://grantland.com/hollywood-prospectus/osca...      0\n",
              "25  http://censor.net.ua/photo_news/335709/odin_iz...      0\n",
              "26  http://katproxy.com/deadfish-sidonia-no-kishi-...      0\n",
              "27                     https://povrat-poreza.web.app/      1\n",
              "28  http://buzzfil.net/article/5508/animaux/ils-s-...      0\n",
              "29                               https://plpfile.com/      1"
            ]
          },
          "execution_count": 13,
          "metadata": {},
          "output_type": "execute_result"
        }
      ],
      "source": [
        "df.reset_index(drop=True, inplace=True)\n",
        "df.head(30)"
      ]
    },
    {
      "cell_type": "code",
      "execution_count": 14,
      "metadata": {},
      "outputs": [],
      "source": [
        "features = []\n",
        "\n",
        "for i in range(0, 87456):\n",
        "    url = df['url'][i]\n",
        "    label = df['label'][i]\n",
        "\n",
        "    features.append(featureExtraction(url,label))"
      ]
    },
    {
      "cell_type": "code",
      "execution_count": 15,
      "metadata": {},
      "outputs": [
        {
          "data": {
            "text/html": [
              "<div>\n",
              "<style scoped>\n",
              "    .dataframe tbody tr th:only-of-type {\n",
              "        vertical-align: middle;\n",
              "    }\n",
              "\n",
              "    .dataframe tbody tr th {\n",
              "        vertical-align: top;\n",
              "    }\n",
              "\n",
              "    .dataframe thead th {\n",
              "        text-align: right;\n",
              "    }\n",
              "</style>\n",
              "<table border=\"1\" class=\"dataframe\">\n",
              "  <thead>\n",
              "    <tr style=\"text-align: right;\">\n",
              "      <th></th>\n",
              "      <th>url</th>\n",
              "      <th>Domain</th>\n",
              "      <th>Have_IP</th>\n",
              "      <th>Have_At</th>\n",
              "      <th>URL_Length</th>\n",
              "      <th>URL_Depth</th>\n",
              "      <th>Redirection</th>\n",
              "      <th>https_Domain</th>\n",
              "      <th>label</th>\n",
              "    </tr>\n",
              "  </thead>\n",
              "  <tbody>\n",
              "    <tr>\n",
              "      <th>1</th>\n",
              "      <td>https://www.mygov-user.20-245-45-137.plesk.pag...</td>\n",
              "      <td>mygov-user.20-245-45-137.plesk.page</td>\n",
              "      <td>0</td>\n",
              "      <td>0</td>\n",
              "      <td>1</td>\n",
              "      <td>1</td>\n",
              "      <td>0</td>\n",
              "      <td>0</td>\n",
              "      <td>1</td>\n",
              "    </tr>\n",
              "    <tr>\n",
              "      <th>2</th>\n",
              "      <td>https://trekdriving.com.au/jumperr/updation/in...</td>\n",
              "      <td>trekdriving.com.au</td>\n",
              "      <td>0</td>\n",
              "      <td>0</td>\n",
              "      <td>1</td>\n",
              "      <td>3</td>\n",
              "      <td>0</td>\n",
              "      <td>0</td>\n",
              "      <td>1</td>\n",
              "    </tr>\n",
              "    <tr>\n",
              "      <th>3</th>\n",
              "      <td>https://bectchange.com</td>\n",
              "      <td>bectchange.com</td>\n",
              "      <td>0</td>\n",
              "      <td>0</td>\n",
              "      <td>0</td>\n",
              "      <td>0</td>\n",
              "      <td>0</td>\n",
              "      <td>0</td>\n",
              "      <td>1</td>\n",
              "    </tr>\n",
              "    <tr>\n",
              "      <th>4</th>\n",
              "      <td>http://plarium.com/fr/jeux-de-strategie/stormf...</td>\n",
              "      <td>plarium.com</td>\n",
              "      <td>0</td>\n",
              "      <td>0</td>\n",
              "      <td>1</td>\n",
              "      <td>5</td>\n",
              "      <td>0</td>\n",
              "      <td>0</td>\n",
              "      <td>0</td>\n",
              "    </tr>\n",
              "    <tr>\n",
              "      <th>5</th>\n",
              "      <td>http://perezhilton.com/2015-05-11-taylor-swift...</td>\n",
              "      <td>perezhilton.com</td>\n",
              "      <td>0</td>\n",
              "      <td>0</td>\n",
              "      <td>1</td>\n",
              "      <td>1</td>\n",
              "      <td>0</td>\n",
              "      <td>0</td>\n",
              "      <td>0</td>\n",
              "    </tr>\n",
              "    <tr>\n",
              "      <th>...</th>\n",
              "      <td>...</td>\n",
              "      <td>...</td>\n",
              "      <td>...</td>\n",
              "      <td>...</td>\n",
              "      <td>...</td>\n",
              "      <td>...</td>\n",
              "      <td>...</td>\n",
              "      <td>...</td>\n",
              "      <td>...</td>\n",
              "    </tr>\n",
              "    <tr>\n",
              "      <th>9995</th>\n",
              "      <td>https://s.smcbaomzu.icu</td>\n",
              "      <td>s.smcbaomzu.icu</td>\n",
              "      <td>0</td>\n",
              "      <td>0</td>\n",
              "      <td>0</td>\n",
              "      <td>0</td>\n",
              "      <td>0</td>\n",
              "      <td>0</td>\n",
              "      <td>1</td>\n",
              "    </tr>\n",
              "    <tr>\n",
              "      <th>9996</th>\n",
              "      <td>https://quintessential-beryl-brownie.glitch.me/</td>\n",
              "      <td>quintessential-beryl-brownie.glitch.me</td>\n",
              "      <td>0</td>\n",
              "      <td>0</td>\n",
              "      <td>0</td>\n",
              "      <td>0</td>\n",
              "      <td>0</td>\n",
              "      <td>0</td>\n",
              "      <td>1</td>\n",
              "    </tr>\n",
              "    <tr>\n",
              "      <th>9997</th>\n",
              "      <td>https://network360006.web.app/</td>\n",
              "      <td>network360006.web.app</td>\n",
              "      <td>0</td>\n",
              "      <td>0</td>\n",
              "      <td>0</td>\n",
              "      <td>0</td>\n",
              "      <td>0</td>\n",
              "      <td>0</td>\n",
              "      <td>1</td>\n",
              "    </tr>\n",
              "    <tr>\n",
              "      <th>9998</th>\n",
              "      <td>https://realizesoulnanceiras.pagedemo.co/?gcli...</td>\n",
              "      <td>realizesoulnanceiras.pagedemo.co</td>\n",
              "      <td>0</td>\n",
              "      <td>0</td>\n",
              "      <td>1</td>\n",
              "      <td>0</td>\n",
              "      <td>1</td>\n",
              "      <td>0</td>\n",
              "      <td>1</td>\n",
              "    </tr>\n",
              "    <tr>\n",
              "      <th>9999</th>\n",
              "      <td>http://pikabu.ru/tag/%D0%B0%D0%BB%D1%8E%D1%81%...</td>\n",
              "      <td>pikabu.ru</td>\n",
              "      <td>0</td>\n",
              "      <td>0</td>\n",
              "      <td>1</td>\n",
              "      <td>3</td>\n",
              "      <td>0</td>\n",
              "      <td>0</td>\n",
              "      <td>0</td>\n",
              "    </tr>\n",
              "  </tbody>\n",
              "</table>\n",
              "<p>9999 rows × 9 columns</p>\n",
              "</div>"
            ],
            "text/plain": [
              "                                                    url  \\\n",
              "1     https://www.mygov-user.20-245-45-137.plesk.pag...   \n",
              "2     https://trekdriving.com.au/jumperr/updation/in...   \n",
              "3                                https://bectchange.com   \n",
              "4     http://plarium.com/fr/jeux-de-strategie/stormf...   \n",
              "5     http://perezhilton.com/2015-05-11-taylor-swift...   \n",
              "...                                                 ...   \n",
              "9995                            https://s.smcbaomzu.icu   \n",
              "9996    https://quintessential-beryl-brownie.glitch.me/   \n",
              "9997                     https://network360006.web.app/   \n",
              "9998  https://realizesoulnanceiras.pagedemo.co/?gcli...   \n",
              "9999  http://pikabu.ru/tag/%D0%B0%D0%BB%D1%8E%D1%81%...   \n",
              "\n",
              "                                      Domain  Have_IP  Have_At  URL_Length  \\\n",
              "1        mygov-user.20-245-45-137.plesk.page        0        0           1   \n",
              "2                         trekdriving.com.au        0        0           1   \n",
              "3                             bectchange.com        0        0           0   \n",
              "4                                plarium.com        0        0           1   \n",
              "5                            perezhilton.com        0        0           1   \n",
              "...                                      ...      ...      ...         ...   \n",
              "9995                         s.smcbaomzu.icu        0        0           0   \n",
              "9996  quintessential-beryl-brownie.glitch.me        0        0           0   \n",
              "9997                   network360006.web.app        0        0           0   \n",
              "9998        realizesoulnanceiras.pagedemo.co        0        0           1   \n",
              "9999                               pikabu.ru        0        0           1   \n",
              "\n",
              "      URL_Depth  Redirection  https_Domain  label  \n",
              "1             1            0             0      1  \n",
              "2             3            0             0      1  \n",
              "3             0            0             0      1  \n",
              "4             5            0             0      0  \n",
              "5             1            0             0      0  \n",
              "...         ...          ...           ...    ...  \n",
              "9995          0            0             0      1  \n",
              "9996          0            0             0      1  \n",
              "9997          0            0             0      1  \n",
              "9998          0            1             0      1  \n",
              "9999          3            0             0      0  \n",
              "\n",
              "[9999 rows x 9 columns]"
            ]
          },
          "execution_count": 15,
          "metadata": {},
          "output_type": "execute_result"
        }
      ],
      "source": [
        "#converting the list to dataframe\n",
        "feature_names = ['url', 'Domain', 'Have_IP', 'Have_At', 'URL_Length', 'URL_Depth','Redirection','https_Domain', 'label']\n",
        "\n",
        "df = pd.DataFrame(features, columns= feature_names)\n",
        "df[1:10000]"
      ]
    },
    {
      "cell_type": "code",
      "execution_count": 16,
      "metadata": {},
      "outputs": [
        {
          "data": {
            "text/plain": [
              "url             0\n",
              "Domain          0\n",
              "Have_IP         0\n",
              "Have_At         0\n",
              "URL_Length      0\n",
              "URL_Depth       0\n",
              "Redirection     0\n",
              "https_Domain    0\n",
              "label           0\n",
              "dtype: int64"
            ]
          },
          "execution_count": 16,
          "metadata": {},
          "output_type": "execute_result"
        }
      ],
      "source": [
        "df.isnull().sum()"
      ]
    },
    {
      "cell_type": "code",
      "execution_count": 17,
      "metadata": {},
      "outputs": [],
      "source": [
        "# delete symbols\n",
        "import re\n",
        "df[\"url\"] = df[\"url\"].apply(lambda x: re.sub('[/\\.;?=https:\\']', ' ', x))"
      ]
    },
    {
      "attachments": {},
      "cell_type": "markdown",
      "metadata": {
        "id": "l66mBeYUlzJD"
      },
      "source": [
        "# **Vectorizing and Encoding**"
      ]
    },
    {
      "cell_type": "code",
      "execution_count": 18,
      "metadata": {},
      "outputs": [],
      "source": [
        "# Data selection\n",
        "url_df = df['url']\n",
        "domain_df = df['Domain']\n",
        "depth_df = df['URL_Depth']\n",
        "feature_df = df[['Have_IP', 'Have_At', 'URL_Length','Redirection','https_Domain', 'label']]\n",
        "label_df = df['label']"
      ]
    },
    {
      "cell_type": "code",
      "execution_count": 19,
      "metadata": {},
      "outputs": [
        {
          "data": {
            "text/plain": [
              "array([[-0.44202504],\n",
              "       [-0.44202504],\n",
              "       [ 0.55614792],\n",
              "       [-0.94111152],\n",
              "       [ 1.55432088]])"
            ]
          },
          "execution_count": 19,
          "metadata": {},
          "output_type": "execute_result"
        }
      ],
      "source": [
        "depth_arr = np.asarray(depth_df)\n",
        "depth_arr\n",
        "\n",
        "import numpy as np\n",
        "from sklearn import preprocessing\n",
        "\n",
        "# Reshape depth_arr to a 2D array\n",
        "depth_arr_2d = np.reshape(depth_arr, (-1, 1))\n",
        "\n",
        "# Apply StandardScaler\n",
        "depth_scaler = preprocessing.StandardScaler().fit(depth_arr_2d).transform(depth_arr_2d)\n",
        "depth_scaler[:5]\n",
        "\n"
      ]
    },
    {
      "cell_type": "code",
      "execution_count": 20,
      "metadata": {
        "colab": {
          "base_uri": "https://localhost:8080/"
        },
        "id": "eiigc8zw2d4j",
        "outputId": "c481ce39-5cad-4498-fec4-419c04197e67"
      },
      "outputs": [],
      "source": [
        "# Transform data\n",
        "from sklearn.feature_extraction.text import CountVectorizer\n",
        "from sklearn.preprocessing import LabelEncoder\n",
        "\n",
        "import scipy.sparse as sp\n",
        "\n",
        "# Vectorize URLs\n",
        "vectorizer_url = CountVectorizer()\n",
        "url_vec = vectorizer.fit_transform(url_df)\n",
        "\n",
        "# Vectorize Domains\n",
        "vectorizer = CountVectorizer()\n",
        "domain_vec = vectorizer.fit_transform(domain_df)\n",
        "\n",
        "features_arr = np.asarray(feature_df)\n",
        "\n",
        "# Convert depth_arr_2d to a sparse matrix\n",
        "depth_sparse = sp.csr_matrix(depth_arr_2d)\n",
        "\n",
        "# Concatenate url_vec, domain_vec, and features_arr as sparse matrices\n",
        "combined_features_arr = sp.hstack((url_vec, domain_vec, sp.csr_matrix(features_arr), depth_sparse), format='csr')\n",
        "\n",
        "# Encode label column\n",
        "label_arr = np.asarray(label_df)\n",
        "\n"
      ]
    },
    {
      "cell_type": "code",
      "execution_count": 21,
      "metadata": {
        "id": "dsH6yl90WvFm"
      },
      "outputs": [
        {
          "data": {
            "text/plain": [
              "array([1, 1, 1, ..., 0, 1, 1], dtype=int64)"
            ]
          },
          "execution_count": 21,
          "metadata": {},
          "output_type": "execute_result"
        }
      ],
      "source": [
        "label_arr"
      ]
    },
    {
      "cell_type": "code",
      "execution_count": 22,
      "metadata": {
        "colab": {
          "base_uri": "https://localhost:8080/",
          "height": 52
        },
        "id": "K4SxyWzzkNGQ",
        "outputId": "1a806007-d5e7-40a1-ed92-d9affb4c650a"
      },
      "outputs": [
        {
          "data": {
            "text/plain": [
              "'\\nfrom imblearn.over_sampling import RandomOverSampler\\n\\n# create a RandomOverSampler object and fit it to the data\\noversampler = RandomOverSampler(random_state=42)\\ncombined_features_arr_balanced, label_arr_balanced = oversampler.fit_resample(combined_features_arr, label_arr)\\n\\n# check the new class distribution\\npd.Series(label_arr_balanced).value_counts()\\n'"
            ]
          },
          "execution_count": 22,
          "metadata": {},
          "output_type": "execute_result"
        }
      ],
      "source": [
        "\"\"\"\n",
        "from imblearn.over_sampling import RandomOverSampler\n",
        "\n",
        "# create a RandomOverSampler object and fit it to the data\n",
        "oversampler = RandomOverSampler(random_state=42)\n",
        "combined_features_arr_balanced, label_arr_balanced = oversampler.fit_resample(combined_features_arr, label_arr)\n",
        "\n",
        "# check the new class distribution\n",
        "pd.Series(label_arr_balanced).value_counts()\n",
        "\"\"\""
      ]
    },
    {
      "attachments": {},
      "cell_type": "markdown",
      "metadata": {
        "id": "XdUAR9DHmOS3"
      },
      "source": [
        "# **Logistic Regression**"
      ]
    },
    {
      "cell_type": "code",
      "execution_count": 23,
      "metadata": {
        "colab": {
          "base_uri": "https://localhost:8080/"
        },
        "id": "yjaPOK6E2d4k",
        "outputId": "3c75c98e-373d-4045-9bf7-bd77c0c39059"
      },
      "outputs": [
        {
          "name": "stdout",
          "output_type": "stream",
          "text": [
            "Train:  65592\n",
            "Test:  21864\n"
          ]
        }
      ],
      "source": [
        "# chia tap train, test\n",
        "from sklearn.model_selection import train_test_split\n",
        "\n",
        "x_train, x_test, y_train, y_test = train_test_split(combined_features_arr, label_arr, test_size=0.25, random_state=42)\n",
        "\n",
        "print('Train: ', x_train.shape[0])\n",
        "print('Test: ', x_test.shape[0])"
      ]
    },
    {
      "cell_type": "code",
      "execution_count": 24,
      "metadata": {
        "id": "MuV0ihfU-45s"
      },
      "outputs": [],
      "source": [
        "\n",
        "# modeling lbfgs\n",
        "from sklearn.linear_model import LogisticRegression\n",
        "\n",
        "logreg = LogisticRegression(C= 0.01, class_weight= None, max_iter= 100, penalty= 'l2',random_state=42)\n",
        "lr_lbfgs = logreg.fit(x_train,y_train)\n"
      ]
    },
    {
      "cell_type": "code",
      "execution_count": 25,
      "metadata": {
        "colab": {
          "base_uri": "https://localhost:8080/",
          "height": 87
        },
        "id": "6AufC_QjD8s6",
        "outputId": "0289c089-ebcb-423b-9339-f42063c39d11"
      },
      "outputs": [
        {
          "data": {
            "text/plain": [
              "'\\nfrom sklearn.model_selection import GridSearchCV\\n\\nparam_grid = {\\'C\\': [0.001, 0.01, 0.1, 1, 10],\\n              \\'penalty\\': [\\'l1\\', \\'l2\\'],\\n              \\'max_iter\\': [100, 500, 1000],\\n              \\'class_weight\\': [None, \\'balanced\\']}\\n\\ngrid_search = GridSearchCV(LogisticRegression(solver=\\'lbfgs\\'),\\n                           param_grid,\\n                           cv=5,\\n                           scoring=\\'accuracy\\',\\n                           n_jobs=-1)\\n\\ngrid_search.fit(x_train, y_train)\\n\\nprint(f\"Best parameters: {grid_search.best_params_}\")\\nprint(f\"Best cross-validation score: {grid_search.best_score_}\")\\n\\n\\n# Output:\\n# Best parameters: {\\'C\\': 10, \\'class_weight\\': None, \\'max_iter\\': 100, \\'penalty\\': \\'l2\\'}\\n# Best cross-validation score: 0.9286404335532517\\n'"
            ]
          },
          "execution_count": 25,
          "metadata": {},
          "output_type": "execute_result"
        }
      ],
      "source": [
        "\"\"\"\n",
        "from sklearn.model_selection import GridSearchCV\n",
        "\n",
        "param_grid = {'C': [0.001, 0.01, 0.1, 1, 10],\n",
        "              'penalty': ['l1', 'l2'],\n",
        "              'max_iter': [100, 500, 1000],\n",
        "              'class_weight': [None, 'balanced']}\n",
        "\n",
        "grid_search = GridSearchCV(LogisticRegression(solver='lbfgs'),\n",
        "                           param_grid,\n",
        "                           cv=5,\n",
        "                           scoring='accuracy',\n",
        "                           n_jobs=-1)\n",
        "\n",
        "grid_search.fit(x_train, y_train)\n",
        "\n",
        "print(f\"Best parameters: {grid_search.best_params_}\")\n",
        "print(f\"Best cross-validation score: {grid_search.best_score_}\")\n",
        "\n",
        "\n",
        "# Output:\n",
        "# Best parameters: {'C': 10, 'class_weight': None, 'max_iter': 100, 'penalty': 'l2'}\n",
        "# Best cross-validation score: 0.9286404335532517\n",
        "\"\"\""
      ]
    },
    {
      "cell_type": "code",
      "execution_count": 26,
      "metadata": {},
      "outputs": [
        {
          "data": {
            "text/html": [
              "<div>\n",
              "<style scoped>\n",
              "    .dataframe tbody tr th:only-of-type {\n",
              "        vertical-align: middle;\n",
              "    }\n",
              "\n",
              "    .dataframe tbody tr th {\n",
              "        vertical-align: top;\n",
              "    }\n",
              "\n",
              "    .dataframe thead th {\n",
              "        text-align: right;\n",
              "    }\n",
              "</style>\n",
              "<table border=\"1\" class=\"dataframe\">\n",
              "  <thead>\n",
              "    <tr style=\"text-align: right;\">\n",
              "      <th></th>\n",
              "      <th>url</th>\n",
              "      <th>Domain</th>\n",
              "      <th>Have_IP</th>\n",
              "      <th>Have_At</th>\n",
              "      <th>URL_Length</th>\n",
              "      <th>URL_Depth</th>\n",
              "      <th>Redirection</th>\n",
              "      <th>https_Domain</th>\n",
              "      <th>label</th>\n",
              "    </tr>\n",
              "  </thead>\n",
              "  <tbody>\n",
              "    <tr>\n",
              "      <th>0</th>\n",
              "      <td>ru  i ad com  i ano   r  440211</td>\n",
              "      <td>trustipad.com</td>\n",
              "      <td>0</td>\n",
              "      <td>0</td>\n",
              "      <td>0</td>\n",
              "      <td>1</td>\n",
              "      <td>0</td>\n",
              "      <td>0</td>\n",
              "      <td>1</td>\n",
              "    </tr>\n",
              "    <tr>\n",
              "      <th>1</th>\n",
              "      <td>www mygov-u er 20-245-45-137  le k  ag...</td>\n",
              "      <td>mygov-user.20-245-45-137.plesk.page</td>\n",
              "      <td>0</td>\n",
              "      <td>0</td>\n",
              "      <td>1</td>\n",
              "      <td>1</td>\n",
              "      <td>0</td>\n",
              "      <td>0</td>\n",
              "      <td>1</td>\n",
              "    </tr>\n",
              "    <tr>\n",
              "      <th>2</th>\n",
              "      <td>rekdriving com au jum err u da ion in...</td>\n",
              "      <td>trekdriving.com.au</td>\n",
              "      <td>0</td>\n",
              "      <td>0</td>\n",
              "      <td>1</td>\n",
              "      <td>3</td>\n",
              "      <td>0</td>\n",
              "      <td>0</td>\n",
              "      <td>1</td>\n",
              "    </tr>\n",
              "    <tr>\n",
              "      <th>3</th>\n",
              "      <td>bec c ange com</td>\n",
              "      <td>bectchange.com</td>\n",
              "      <td>0</td>\n",
              "      <td>0</td>\n",
              "      <td>0</td>\n",
              "      <td>0</td>\n",
              "      <td>0</td>\n",
              "      <td>0</td>\n",
              "      <td>1</td>\n",
              "    </tr>\n",
              "    <tr>\n",
              "      <th>4</th>\n",
              "      <td>larium com fr jeux-de-  ra egie   ormf...</td>\n",
              "      <td>plarium.com</td>\n",
              "      <td>0</td>\n",
              "      <td>0</td>\n",
              "      <td>1</td>\n",
              "      <td>5</td>\n",
              "      <td>0</td>\n",
              "      <td>0</td>\n",
              "      <td>0</td>\n",
              "    </tr>\n",
              "    <tr>\n",
              "      <th>...</th>\n",
              "      <td>...</td>\n",
              "      <td>...</td>\n",
              "      <td>...</td>\n",
              "      <td>...</td>\n",
              "      <td>...</td>\n",
              "      <td>...</td>\n",
              "      <td>...</td>\n",
              "      <td>...</td>\n",
              "      <td>...</td>\n",
              "    </tr>\n",
              "    <tr>\n",
              "      <th>87451</th>\n",
              "      <td>ken 14 vn  uc-k oe-gioi- in   o- uu-guo...</td>\n",
              "      <td>kenh14.vn</td>\n",
              "      <td>0</td>\n",
              "      <td>0</td>\n",
              "      <td>1</td>\n",
              "      <td>2</td>\n",
              "      <td>0</td>\n",
              "      <td>0</td>\n",
              "      <td>0</td>\n",
              "    </tr>\n",
              "    <tr>\n",
              "      <th>87452</th>\n",
              "      <td>len  ro ocol  com</td>\n",
              "      <td>lensprotocols.com</td>\n",
              "      <td>0</td>\n",
              "      <td>0</td>\n",
              "      <td>0</td>\n",
              "      <td>0</td>\n",
              "      <td>0</td>\n",
              "      <td>0</td>\n",
              "      <td>1</td>\n",
              "    </tr>\n",
              "    <tr>\n",
              "      <th>87453</th>\n",
              "      <td>wi  er com  ome   a u  %E3%83%8C%E3%81...</td>\n",
              "      <td>twitter.com</td>\n",
              "      <td>0</td>\n",
              "      <td>0</td>\n",
              "      <td>1</td>\n",
              "      <td>1</td>\n",
              "      <td>0</td>\n",
              "      <td>0</td>\n",
              "      <td>0</td>\n",
              "    </tr>\n",
              "    <tr>\n",
              "      <th>87454</th>\n",
              "      <td>ancien -river-35e6 xori o51549157 work...</td>\n",
              "      <td>ancient-river-35e6.xoriho51549157.workers.dev</td>\n",
              "      <td>0</td>\n",
              "      <td>0</td>\n",
              "      <td>1</td>\n",
              "      <td>0</td>\n",
              "      <td>0</td>\n",
              "      <td>0</td>\n",
              "      <td>1</td>\n",
              "    </tr>\n",
              "    <tr>\n",
              "      <th>87455</th>\n",
              "      <td>1drv m  u  !AvqB_9Face4Sz3yj ONZUjzcDv...</td>\n",
              "      <td>1drv.ms</td>\n",
              "      <td>0</td>\n",
              "      <td>0</td>\n",
              "      <td>1</td>\n",
              "      <td>2</td>\n",
              "      <td>0</td>\n",
              "      <td>0</td>\n",
              "      <td>1</td>\n",
              "    </tr>\n",
              "  </tbody>\n",
              "</table>\n",
              "<p>87456 rows × 9 columns</p>\n",
              "</div>"
            ],
            "text/plain": [
              "                                                     url  \\\n",
              "0                        ru  i ad com  i ano   r  440211   \n",
              "1              www mygov-u er 20-245-45-137  le k  ag...   \n",
              "2               rekdriving com au jum err u da ion in...   \n",
              "3                                         bec c ange com   \n",
              "4              larium com fr jeux-de-  ra egie   ormf...   \n",
              "...                                                  ...   \n",
              "87451         ken 14 vn  uc-k oe-gioi- in   o- uu-guo...   \n",
              "87452                                  len  ro ocol  com   \n",
              "87453          wi  er com  ome   a u  %E3%83%8C%E3%81...   \n",
              "87454          ancien -river-35e6 xori o51549157 work...   \n",
              "87455          1drv m  u  !AvqB_9Face4Sz3yj ONZUjzcDv...   \n",
              "\n",
              "                                              Domain  Have_IP  Have_At  \\\n",
              "0                                      trustipad.com        0        0   \n",
              "1                mygov-user.20-245-45-137.plesk.page        0        0   \n",
              "2                                 trekdriving.com.au        0        0   \n",
              "3                                     bectchange.com        0        0   \n",
              "4                                        plarium.com        0        0   \n",
              "...                                              ...      ...      ...   \n",
              "87451                                      kenh14.vn        0        0   \n",
              "87452                              lensprotocols.com        0        0   \n",
              "87453                                    twitter.com        0        0   \n",
              "87454  ancient-river-35e6.xoriho51549157.workers.dev        0        0   \n",
              "87455                                        1drv.ms        0        0   \n",
              "\n",
              "       URL_Length  URL_Depth  Redirection  https_Domain  label  \n",
              "0               0          1            0             0      1  \n",
              "1               1          1            0             0      1  \n",
              "2               1          3            0             0      1  \n",
              "3               0          0            0             0      1  \n",
              "4               1          5            0             0      0  \n",
              "...           ...        ...          ...           ...    ...  \n",
              "87451           1          2            0             0      0  \n",
              "87452           0          0            0             0      1  \n",
              "87453           1          1            0             0      0  \n",
              "87454           1          0            0             0      1  \n",
              "87455           1          2            0             0      1  \n",
              "\n",
              "[87456 rows x 9 columns]"
            ]
          },
          "execution_count": 26,
          "metadata": {},
          "output_type": "execute_result"
        }
      ],
      "source": [
        "df"
      ]
    },
    {
      "cell_type": "code",
      "execution_count": 27,
      "metadata": {
        "colab": {
          "base_uri": "https://localhost:8080/"
        },
        "id": "76e9ATr9HpmE",
        "outputId": "39222ab4-2a60-42a2-c53d-3e6b4d9b4d43"
      },
      "outputs": [
        {
          "name": "stdout",
          "output_type": "stream",
          "text": [
            "[1 0 1 ... 1 0 1]\n"
          ]
        }
      ],
      "source": [
        "y_pred=logreg.predict(x_test)\n",
        "print(y_pred)"
      ]
    },
    {
      "cell_type": "code",
      "execution_count": 28,
      "metadata": {
        "colab": {
          "base_uri": "https://localhost:8080/"
        },
        "id": "WNN7_ctNHwWN",
        "outputId": "6cc4ff7d-7e4a-45ae-b407-4f1f67b505e2"
      },
      "outputs": [
        {
          "name": "stdout",
          "output_type": "stream",
          "text": [
            "Jaccard score: 1.0\n"
          ]
        }
      ],
      "source": [
        "from sklearn.metrics import jaccard_score\n",
        "print(f\"Jaccard score: {jaccard_score(y_test, y_pred,pos_label=0)}\")"
      ]
    },
    {
      "cell_type": "code",
      "execution_count": 29,
      "metadata": {
        "colab": {
          "base_uri": "https://localhost:8080/"
        },
        "id": "rFJtuw8LVpTU",
        "outputId": "fe9f98ac-eac4-4df6-ca4a-e439218007c4"
      },
      "outputs": [
        {
          "name": "stdout",
          "output_type": "stream",
          "text": [
            "Accuracy: 1.00\n",
            "F1 score: 1.00\n"
          ]
        }
      ],
      "source": [
        "from sklearn.metrics import accuracy_score, f1_score\n",
        "\n",
        "accuracy = accuracy_score(y_test, y_pred)\n",
        "f1 = f1_score(y_test, y_pred)\n",
        "\n",
        "print(f\"Accuracy: {accuracy:.2f}\")\n",
        "print(f\"F1 score: {f1:.2f}\")\n"
      ]
    },
    {
      "cell_type": "code",
      "execution_count": 30,
      "metadata": {
        "colab": {
          "base_uri": "https://localhost:8080/"
        },
        "id": "_hOcoglSJtfd",
        "outputId": "76380e59-aa79-4897-a953-500739b35b16"
      },
      "outputs": [
        {
          "data": {
            "text/plain": [
              "array([[ 8317,     0],\n",
              "       [    0, 13547]], dtype=int64)"
            ]
          },
          "execution_count": 30,
          "metadata": {},
          "output_type": "execute_result"
        }
      ],
      "source": [
        "from sklearn import metrics\n",
        "cnf_matrix = metrics.confusion_matrix(y_test, y_pred)\n",
        "cnf_matrix"
      ]
    },
    {
      "cell_type": "code",
      "execution_count": 31,
      "metadata": {
        "colab": {
          "base_uri": "https://localhost:8080/",
          "height": 568
        },
        "id": "RNyusU6MH5m6",
        "outputId": "b0a8299d-4d0e-4475-b839-b3b82fdf6a37"
      },
      "outputs": [
        {
          "data": {
            "text/plain": [
              "Text(0.5, 427.9555555555555, 'Predicted label')"
            ]
          },
          "execution_count": 31,
          "metadata": {},
          "output_type": "execute_result"
        },
        {
          "data": {
            "image/png": "[encoded data removed]",
            "text/plain": [
              "<Figure size 640x480 with 2 Axes>"
            ]
          },
          "metadata": {},
          "output_type": "display_data"
        }
      ],
      "source": [
        "import numpy as np\n",
        "import matplotlib.pyplot as plt\n",
        "import seaborn as sns\n",
        "class_names=[] # name  of classes\n",
        "fig, ax = plt.subplots()\n",
        "tick_marks = np.arange(len(class_names))\n",
        "plt.xticks(tick_marks, class_names)\n",
        "plt.yticks(tick_marks, class_names)\n",
        "# create heatmap\n",
        "sns.heatmap(pd.DataFrame(cnf_matrix), annot=True, cmap=\"YlGnBu\" ,fmt='g')\n",
        "ax.xaxis.set_label_position(\"top\")\n",
        "plt.tight_layout()\n",
        "plt.title('Confusion matrix', y=1.1)\n",
        "plt.ylabel('Actual label')\n",
        "plt.xlabel('Predicted label')"
      ]
    },
    {
      "cell_type": "code",
      "execution_count": 32,
      "metadata": {
        "colab": {
          "base_uri": "https://localhost:8080/",
          "height": 52
        },
        "id": "CIcIiLqbLoA7",
        "outputId": "895c435a-e845-4122-f525-95f2a66ccb17"
      },
      "outputs": [
        {
          "data": {
            "text/plain": [
              "\"\\nnew_url = input('Enter an URL to test: ')\\n\\n# Transform features into same format as training data\\nnew_vector = vectorizer.transform([new_url])\\n\\n# Make prediction using trained model\\nprediction = logreg.predict(new_vector)\\n\\nif prediction[0] == 0:\\n  print('Legitimate')\\nelse:\\n  print('Phishing')\\n\""
            ]
          },
          "execution_count": 32,
          "metadata": {},
          "output_type": "execute_result"
        }
      ],
      "source": [
        "\"\"\"\n",
        "new_url = input('Enter an URL to test: ')\n",
        "\n",
        "# Transform features into same format as training data\n",
        "new_vector = vectorizer.transform([new_url])\n",
        "\n",
        "# Make prediction using trained model\n",
        "prediction = logreg.predict(new_vector)\n",
        "\n",
        "if prediction[0] == 0:\n",
        "  print('Legitimate')\n",
        "else:\n",
        "  print('Phishing')\n",
        "\"\"\""
      ]
    },
    {
      "attachments": {},
      "cell_type": "markdown",
      "metadata": {
        "id": "rC6GNhbJ8PLl"
      },
      "source": [
        "# **(Test)**"
      ]
    },
    {
      "cell_type": "code",
      "execution_count": 33,
      "metadata": {
        "colab": {
          "base_uri": "https://localhost:8080/",
          "height": 990
        },
        "id": "FxjxRK0T8Od4",
        "outputId": "55f466b3-1b4e-4742-c69f-a1b8b57abc57"
      },
      "outputs": [
        {
          "data": {
            "text/html": [
              "<div>\n",
              "<style scoped>\n",
              "    .dataframe tbody tr th:only-of-type {\n",
              "        vertical-align: middle;\n",
              "    }\n",
              "\n",
              "    .dataframe tbody tr th {\n",
              "        vertical-align: top;\n",
              "    }\n",
              "\n",
              "    .dataframe thead th {\n",
              "        text-align: right;\n",
              "    }\n",
              "</style>\n",
              "<table border=\"1\" class=\"dataframe\">\n",
              "  <thead>\n",
              "    <tr style=\"text-align: right;\">\n",
              "      <th></th>\n",
              "      <th>x</th>\n",
              "      <th>y</th>\n",
              "      <th>Unnamed: 2</th>\n",
              "      <th>Unnamed: 3</th>\n",
              "      <th>Unnamed: 4</th>\n",
              "    </tr>\n",
              "  </thead>\n",
              "  <tbody>\n",
              "    <tr>\n",
              "      <th>0</th>\n",
              "      <td>http://newmatdesign.ro/wp-admin/wewe/YAHOO/ya....</td>\n",
              "      <td>1</td>\n",
              "      <td>NaN</td>\n",
              "      <td>NaN</td>\n",
              "      <td>NaN</td>\n",
              "    </tr>\n",
              "    <tr>\n",
              "      <th>1</th>\n",
              "      <td>http://ca.linkedin.com/directory/people/ca/pou...</td>\n",
              "      <td>0</td>\n",
              "      <td>NaN</td>\n",
              "      <td>NaN</td>\n",
              "      <td>NaN</td>\n",
              "    </tr>\n",
              "    <tr>\n",
              "      <th>2</th>\n",
              "      <td>http://www.ccent.com.au/index.php?option=com_m...</td>\n",
              "      <td>1</td>\n",
              "      <td>NaN</td>\n",
              "      <td>NaN</td>\n",
              "      <td>NaN</td>\n",
              "    </tr>\n",
              "    <tr>\n",
              "      <th>3</th>\n",
              "      <td>http://applerugs.co.uk/rugs/product_info.php?p...</td>\n",
              "      <td>1</td>\n",
              "      <td>NaN</td>\n",
              "      <td>NaN</td>\n",
              "      <td>NaN</td>\n",
              "    </tr>\n",
              "    <tr>\n",
              "      <th>4</th>\n",
              "      <td>http://mo-artworks.com/blog/diverse-videos/ein...</td>\n",
              "      <td>1</td>\n",
              "      <td>NaN</td>\n",
              "      <td>NaN</td>\n",
              "      <td>NaN</td>\n",
              "    </tr>\n",
              "    <tr>\n",
              "      <th>5</th>\n",
              "      <td>http://spoke.com/info/pF2WnMN/ZachTrimmer</td>\n",
              "      <td>0</td>\n",
              "      <td>NaN</td>\n",
              "      <td>NaN</td>\n",
              "      <td>NaN</td>\n",
              "    </tr>\n",
              "    <tr>\n",
              "      <th>6</th>\n",
              "      <td>http://www.ricardoitalo.com.br/portal/index.ph...</td>\n",
              "      <td>1</td>\n",
              "      <td>NaN</td>\n",
              "      <td>NaN</td>\n",
              "      <td>NaN</td>\n",
              "    </tr>\n",
              "    <tr>\n",
              "      <th>7</th>\n",
              "      <td>http://sexshop-bg.biz/products?page=shop.produ...</td>\n",
              "      <td>1</td>\n",
              "      <td>NaN</td>\n",
              "      <td>NaN</td>\n",
              "      <td>NaN</td>\n",
              "    </tr>\n",
              "    <tr>\n",
              "      <th>8</th>\n",
              "      <td>http://www.beriva.lt/index.html?di=akcijos&amp;R=1...</td>\n",
              "      <td>1</td>\n",
              "      <td>NaN</td>\n",
              "      <td>NaN</td>\n",
              "      <td>NaN</td>\n",
              "    </tr>\n",
              "    <tr>\n",
              "      <th>9</th>\n",
              "      <td>http://ma.facevena.xyz/app/facebook.com/?lang=...</td>\n",
              "      <td>1</td>\n",
              "      <td>NaN</td>\n",
              "      <td>NaN</td>\n",
              "      <td>NaN</td>\n",
              "    </tr>\n",
              "    <tr>\n",
              "      <th>10</th>\n",
              "      <td>http://videosurf.com/dru-onyx-167504</td>\n",
              "      <td>0</td>\n",
              "      <td>NaN</td>\n",
              "      <td>NaN</td>\n",
              "      <td>NaN</td>\n",
              "    </tr>\n",
              "    <tr>\n",
              "      <th>11</th>\n",
              "      <td>http://familia-dacostagoa.blogspot.com/2009/03...</td>\n",
              "      <td>0</td>\n",
              "      <td>NaN</td>\n",
              "      <td>NaN</td>\n",
              "      <td>NaN</td>\n",
              "    </tr>\n",
              "    <tr>\n",
              "      <th>12</th>\n",
              "      <td>http://web.minorleaguebaseball.com/news/page.j...</td>\n",
              "      <td>0</td>\n",
              "      <td>NaN</td>\n",
              "      <td>NaN</td>\n",
              "      <td>NaN</td>\n",
              "    </tr>\n",
              "    <tr>\n",
              "      <th>13</th>\n",
              "      <td>http://www.nubiafarias.com/v1/index.php?option...</td>\n",
              "      <td>1</td>\n",
              "      <td>NaN</td>\n",
              "      <td>NaN</td>\n",
              "      <td>NaN</td>\n",
              "    </tr>\n",
              "    <tr>\n",
              "      <th>14</th>\n",
              "      <td>http://en.wikipedia.org/wiki/William_Shirley</td>\n",
              "      <td>0</td>\n",
              "      <td>NaN</td>\n",
              "      <td>NaN</td>\n",
              "      <td>NaN</td>\n",
              "    </tr>\n",
              "    <tr>\n",
              "      <th>15</th>\n",
              "      <td>http://avweb.com/avwebbiz/news/Heli_Expo_Next_...</td>\n",
              "      <td>0</td>\n",
              "      <td>NaN</td>\n",
              "      <td>NaN</td>\n",
              "      <td>NaN</td>\n",
              "    </tr>\n",
              "    <tr>\n",
              "      <th>16</th>\n",
              "      <td>http://www.userp.org.br/index.php?option=com_c...</td>\n",
              "      <td>1</td>\n",
              "      <td>NaN</td>\n",
              "      <td>NaN</td>\n",
              "      <td>NaN</td>\n",
              "    </tr>\n",
              "    <tr>\n",
              "      <th>17</th>\n",
              "      <td>http://www.futurdecastello.es/index.php?option...</td>\n",
              "      <td>1</td>\n",
              "      <td>NaN</td>\n",
              "      <td>NaN</td>\n",
              "      <td>NaN</td>\n",
              "    </tr>\n",
              "    <tr>\n",
              "      <th>18</th>\n",
              "      <td>http://sever-gorod.ru/index.php/2010-08-04-17-...</td>\n",
              "      <td>1</td>\n",
              "      <td>NaN</td>\n",
              "      <td>NaN</td>\n",
              "      <td>NaN</td>\n",
              "    </tr>\n",
              "    <tr>\n",
              "      <th>19</th>\n",
              "      <td>http://cdou.ru/mhr53p</td>\n",
              "      <td>1</td>\n",
              "      <td>NaN</td>\n",
              "      <td>NaN</td>\n",
              "      <td>NaN</td>\n",
              "    </tr>\n",
              "    <tr>\n",
              "      <th>20</th>\n",
              "      <td>http://brotherteeshow.com/</td>\n",
              "      <td>0</td>\n",
              "      <td>NaN</td>\n",
              "      <td>NaN</td>\n",
              "      <td>NaN</td>\n",
              "    </tr>\n",
              "    <tr>\n",
              "      <th>21</th>\n",
              "      <td>http://magicaltouch.co/487ygfh</td>\n",
              "      <td>1</td>\n",
              "      <td>NaN</td>\n",
              "      <td>NaN</td>\n",
              "      <td>NaN</td>\n",
              "    </tr>\n",
              "    <tr>\n",
              "      <th>22</th>\n",
              "      <td>http://nlbpa.com/paige__satchel.html</td>\n",
              "      <td>0</td>\n",
              "      <td>NaN</td>\n",
              "      <td>NaN</td>\n",
              "      <td>NaN</td>\n",
              "    </tr>\n",
              "    <tr>\n",
              "      <th>23</th>\n",
              "      <td>http://daymix.com/Jimmy-Rollins/</td>\n",
              "      <td>0</td>\n",
              "      <td>NaN</td>\n",
              "      <td>NaN</td>\n",
              "      <td>NaN</td>\n",
              "    </tr>\n",
              "    <tr>\n",
              "      <th>24</th>\n",
              "      <td>http://lyrics007.com/Gabrielle%20Destroismaiso...</td>\n",
              "      <td>0</td>\n",
              "      <td>NaN</td>\n",
              "      <td>NaN</td>\n",
              "      <td>NaN</td>\n",
              "    </tr>\n",
              "    <tr>\n",
              "      <th>25</th>\n",
              "      <td>http://westseattle.komonews.com/news/transport...</td>\n",
              "      <td>0</td>\n",
              "      <td>NaN</td>\n",
              "      <td>NaN</td>\n",
              "      <td>NaN</td>\n",
              "    </tr>\n",
              "    <tr>\n",
              "      <th>26</th>\n",
              "      <td>http://absoluteastronomy.com/topics/Pennsylvan...</td>\n",
              "      <td>0</td>\n",
              "      <td>NaN</td>\n",
              "      <td>NaN</td>\n",
              "      <td>NaN</td>\n",
              "    </tr>\n",
              "    <tr>\n",
              "      <th>27</th>\n",
              "      <td>http://www.easyphonia.com/rates-by-country/m</td>\n",
              "      <td>1</td>\n",
              "      <td>NaN</td>\n",
              "      <td>NaN</td>\n",
              "      <td>NaN</td>\n",
              "    </tr>\n",
              "    <tr>\n",
              "      <th>28</th>\n",
              "      <td>http://emgn.com/entertainment/what-does-a-week...</td>\n",
              "      <td>0</td>\n",
              "      <td>NaN</td>\n",
              "      <td>NaN</td>\n",
              "      <td>NaN</td>\n",
              "    </tr>\n",
              "    <tr>\n",
              "      <th>29</th>\n",
              "      <td>http://uk.ask.com/wiki/England_national_footba...</td>\n",
              "      <td>0</td>\n",
              "      <td>NaN</td>\n",
              "      <td>NaN</td>\n",
              "      <td>NaN</td>\n",
              "    </tr>\n",
              "  </tbody>\n",
              "</table>\n",
              "</div>"
            ],
            "text/plain": [
              "                                                    x  y  Unnamed: 2  \\\n",
              "0   http://newmatdesign.ro/wp-admin/wewe/YAHOO/ya....  1         NaN   \n",
              "1   http://ca.linkedin.com/directory/people/ca/pou...  0         NaN   \n",
              "2   http://www.ccent.com.au/index.php?option=com_m...  1         NaN   \n",
              "3   http://applerugs.co.uk/rugs/product_info.php?p...  1         NaN   \n",
              "4   http://mo-artworks.com/blog/diverse-videos/ein...  1         NaN   \n",
              "5           http://spoke.com/info/pF2WnMN/ZachTrimmer  0         NaN   \n",
              "6   http://www.ricardoitalo.com.br/portal/index.ph...  1         NaN   \n",
              "7   http://sexshop-bg.biz/products?page=shop.produ...  1         NaN   \n",
              "8   http://www.beriva.lt/index.html?di=akcijos&R=1...  1         NaN   \n",
              "9   http://ma.facevena.xyz/app/facebook.com/?lang=...  1         NaN   \n",
              "10               http://videosurf.com/dru-onyx-167504  0         NaN   \n",
              "11  http://familia-dacostagoa.blogspot.com/2009/03...  0         NaN   \n",
              "12  http://web.minorleaguebaseball.com/news/page.j...  0         NaN   \n",
              "13  http://www.nubiafarias.com/v1/index.php?option...  1         NaN   \n",
              "14       http://en.wikipedia.org/wiki/William_Shirley  0         NaN   \n",
              "15  http://avweb.com/avwebbiz/news/Heli_Expo_Next_...  0         NaN   \n",
              "16  http://www.userp.org.br/index.php?option=com_c...  1         NaN   \n",
              "17  http://www.futurdecastello.es/index.php?option...  1         NaN   \n",
              "18  http://sever-gorod.ru/index.php/2010-08-04-17-...  1         NaN   \n",
              "19                              http://cdou.ru/mhr53p  1         NaN   \n",
              "20                         http://brotherteeshow.com/  0         NaN   \n",
              "21                     http://magicaltouch.co/487ygfh  1         NaN   \n",
              "22               http://nlbpa.com/paige__satchel.html  0         NaN   \n",
              "23                   http://daymix.com/Jimmy-Rollins/  0         NaN   \n",
              "24  http://lyrics007.com/Gabrielle%20Destroismaiso...  0         NaN   \n",
              "25  http://westseattle.komonews.com/news/transport...  0         NaN   \n",
              "26  http://absoluteastronomy.com/topics/Pennsylvan...  0         NaN   \n",
              "27       http://www.easyphonia.com/rates-by-country/m  1         NaN   \n",
              "28  http://emgn.com/entertainment/what-does-a-week...  0         NaN   \n",
              "29  http://uk.ask.com/wiki/England_national_footba...  0         NaN   \n",
              "\n",
              "   Unnamed: 3  Unnamed: 4  \n",
              "0         NaN         NaN  \n",
              "1         NaN         NaN  \n",
              "2         NaN         NaN  \n",
              "3         NaN         NaN  \n",
              "4         NaN         NaN  \n",
              "5         NaN         NaN  \n",
              "6         NaN         NaN  \n",
              "7         NaN         NaN  \n",
              "8         NaN         NaN  \n",
              "9         NaN         NaN  \n",
              "10        NaN         NaN  \n",
              "11        NaN         NaN  \n",
              "12        NaN         NaN  \n",
              "13        NaN         NaN  \n",
              "14        NaN         NaN  \n",
              "15        NaN         NaN  \n",
              "16        NaN         NaN  \n",
              "17        NaN         NaN  \n",
              "18        NaN         NaN  \n",
              "19        NaN         NaN  \n",
              "20        NaN         NaN  \n",
              "21        NaN         NaN  \n",
              "22        NaN         NaN  \n",
              "23        NaN         NaN  \n",
              "24        NaN         NaN  \n",
              "25        NaN         NaN  \n",
              "26        NaN         NaN  \n",
              "27        NaN         NaN  \n",
              "28        NaN         NaN  \n",
              "29        NaN         NaN  "
            ]
          },
          "execution_count": 33,
          "metadata": {},
          "output_type": "execute_result"
        }
      ],
      "source": [
        "test_df = pd.read_csv('datasets/publish_test.csv')\n",
        "test_df.head(30)"
      ]
    },
    {
      "cell_type": "code",
      "execution_count": 34,
      "metadata": {
        "colab": {
          "base_uri": "https://localhost:8080/"
        },
        "id": "DBI0Pr3h-a3v",
        "outputId": "a7e9385d-f951-4005-a1b2-3332ebe31820"
      },
      "outputs": [
        {
          "name": "stdout",
          "output_type": "stream",
          "text": [
            "<class 'pandas.core.frame.DataFrame'>\n",
            "RangeIndex: 100 entries, 0 to 99\n",
            "Data columns (total 2 columns):\n",
            " #   Column  Non-Null Count  Dtype \n",
            "---  ------  --------------  ----- \n",
            " 0   x       100 non-null    object\n",
            " 1   y       100 non-null    object\n",
            "dtypes: object(2)\n",
            "memory usage: 1.7+ KB\n"
          ]
        }
      ],
      "source": [
        "test = test_df[['x','y']]\n",
        "\n",
        "test.isnull().sum()\n",
        "test.dropna()\n",
        "\n",
        "test.info()"
      ]
    },
    {
      "cell_type": "code",
      "execution_count": 35,
      "metadata": {
        "colab": {
          "base_uri": "https://localhost:8080/"
        },
        "id": "AZHUsOgPDYyR",
        "outputId": "1b724e0c-3786-46e0-e8a2-4fc6ea2b6dc6"
      },
      "outputs": [
        {
          "name": "stderr",
          "output_type": "stream",
          "text": [
            "C:\\Users\\PC\\AppData\\Local\\Temp\\ipykernel_16424\\599984414.py:2: SettingWithCopyWarning: \n",
            "A value is trying to be set on a copy of a slice from a DataFrame\n",
            "\n",
            "See the caveats in the documentation: https://pandas.pydata.org/pandas-docs/stable/user_guide/indexing.html#returning-a-view-versus-a-copy\n",
            "  test.drop(indexValue , inplace=True)\n"
          ]
        },
        {
          "data": {
            "text/html": [
              "<div>\n",
              "<style scoped>\n",
              "    .dataframe tbody tr th:only-of-type {\n",
              "        vertical-align: middle;\n",
              "    }\n",
              "\n",
              "    .dataframe tbody tr th {\n",
              "        vertical-align: top;\n",
              "    }\n",
              "\n",
              "    .dataframe thead th {\n",
              "        text-align: right;\n",
              "    }\n",
              "</style>\n",
              "<table border=\"1\" class=\"dataframe\">\n",
              "  <thead>\n",
              "    <tr style=\"text-align: right;\">\n",
              "      <th></th>\n",
              "      <th>x</th>\n",
              "      <th>y</th>\n",
              "    </tr>\n",
              "  </thead>\n",
              "  <tbody>\n",
              "    <tr>\n",
              "      <th>0</th>\n",
              "      <td>http://newmatdesign.ro/wp-admin/wewe/YAHOO/ya....</td>\n",
              "      <td>1</td>\n",
              "    </tr>\n",
              "    <tr>\n",
              "      <th>1</th>\n",
              "      <td>http://ca.linkedin.com/directory/people/ca/pou...</td>\n",
              "      <td>0</td>\n",
              "    </tr>\n",
              "    <tr>\n",
              "      <th>2</th>\n",
              "      <td>http://www.ccent.com.au/index.php?option=com_m...</td>\n",
              "      <td>1</td>\n",
              "    </tr>\n",
              "    <tr>\n",
              "      <th>3</th>\n",
              "      <td>http://applerugs.co.uk/rugs/product_info.php?p...</td>\n",
              "      <td>1</td>\n",
              "    </tr>\n",
              "    <tr>\n",
              "      <th>4</th>\n",
              "      <td>http://mo-artworks.com/blog/diverse-videos/ein...</td>\n",
              "      <td>1</td>\n",
              "    </tr>\n",
              "    <tr>\n",
              "      <th>...</th>\n",
              "      <td>...</td>\n",
              "      <td>...</td>\n",
              "    </tr>\n",
              "    <tr>\n",
              "      <th>94</th>\n",
              "      <td>http://www.x-lonne.nl/fotoboek/image?format=ra...</td>\n",
              "      <td>1</td>\n",
              "    </tr>\n",
              "    <tr>\n",
              "      <th>95</th>\n",
              "      <td>http://www.redcitysoul.co.uk/index.php/compone...</td>\n",
              "      <td>1</td>\n",
              "    </tr>\n",
              "    <tr>\n",
              "      <th>96</th>\n",
              "      <td>http://www.babolna.eu/index.php?option=com_sob...</td>\n",
              "      <td>1</td>\n",
              "    </tr>\n",
              "    <tr>\n",
              "      <th>97</th>\n",
              "      <td>http://www.ninopizzaria.com.br/index.php?optio...</td>\n",
              "      <td>1</td>\n",
              "    </tr>\n",
              "    <tr>\n",
              "      <th>98</th>\n",
              "      <td>http://webcamsocial.com/index.php?option=com_c...</td>\n",
              "      <td>1</td>\n",
              "    </tr>\n",
              "  </tbody>\n",
              "</table>\n",
              "<p>99 rows × 2 columns</p>\n",
              "</div>"
            ],
            "text/plain": [
              "                                                    x  y\n",
              "0   http://newmatdesign.ro/wp-admin/wewe/YAHOO/ya....  1\n",
              "1   http://ca.linkedin.com/directory/people/ca/pou...  0\n",
              "2   http://www.ccent.com.au/index.php?option=com_m...  1\n",
              "3   http://applerugs.co.uk/rugs/product_info.php?p...  1\n",
              "4   http://mo-artworks.com/blog/diverse-videos/ein...  1\n",
              "..                                                ... ..\n",
              "94  http://www.x-lonne.nl/fotoboek/image?format=ra...  1\n",
              "95  http://www.redcitysoul.co.uk/index.php/compone...  1\n",
              "96  http://www.babolna.eu/index.php?option=com_sob...  1\n",
              "97  http://www.ninopizzaria.com.br/index.php?optio...  1\n",
              "98  http://webcamsocial.com/index.php?option=com_c...  1\n",
              "\n",
              "[99 rows x 2 columns]"
            ]
          },
          "execution_count": 35,
          "metadata": {},
          "output_type": "execute_result"
        }
      ],
      "source": [
        "indexValue = test[test['y'] == 'continue=to&amp'].index\n",
        "test.drop(indexValue , inplace=True)\n",
        "\n",
        "test.reset_index(drop=True, inplace=True)\n",
        "\n",
        "test[:100]"
      ]
    },
    {
      "cell_type": "code",
      "execution_count": 36,
      "metadata": {},
      "outputs": [
        {
          "ename": "NotFittedError",
          "evalue": "Vocabulary not fitted or provided",
          "output_type": "error",
          "traceback": [
            "\u001b[1;31m---------------------------------------------------------------------------\u001b[0m",
            "\u001b[1;31mNotFittedError\u001b[0m                            Traceback (most recent call last)",
            "\u001b[1;32mc:\\Users\\PC\\Coding\\phishing-urls-detection\\model(feature-extraction).ipynb Cell 42\u001b[0m in \u001b[0;36m5\n\u001b[0;32m     <a href='vscode-notebook-cell:/c%3A/Users/PC/Coding/phishing-urls-detection/model%28feature-extraction%29.ipynb#X56sZmlsZQ%3D%3D?line=50'>51</a>\u001b[0m \u001b[39m# Vectorize URLs\u001b[39;00m\n\u001b[0;32m     <a href='vscode-notebook-cell:/c%3A/Users/PC/Coding/phishing-urls-detection/model%28feature-extraction%29.ipynb#X56sZmlsZQ%3D%3D?line=51'>52</a>\u001b[0m vectorizer \u001b[39m=\u001b[39m CountVectorizer()\n\u001b[1;32m---> <a href='vscode-notebook-cell:/c%3A/Users/PC/Coding/phishing-urls-detection/model%28feature-extraction%29.ipynb#X56sZmlsZQ%3D%3D?line=52'>53</a>\u001b[0m url_vec \u001b[39m=\u001b[39m vectorizer\u001b[39m.\u001b[39;49mtransform(url_df)\n\u001b[0;32m     <a href='vscode-notebook-cell:/c%3A/Users/PC/Coding/phishing-urls-detection/model%28feature-extraction%29.ipynb#X56sZmlsZQ%3D%3D?line=55'>56</a>\u001b[0m \u001b[39m# Vectorize Domains\u001b[39;00m\n\u001b[0;32m     <a href='vscode-notebook-cell:/c%3A/Users/PC/Coding/phishing-urls-detection/model%28feature-extraction%29.ipynb#X56sZmlsZQ%3D%3D?line=56'>57</a>\u001b[0m vectorizer \u001b[39m=\u001b[39m CountVectorizer()\n",
            "File \u001b[1;32mc:\\Users\\PC\\AppData\\Local\\Programs\\Python\\Python310\\lib\\site-packages\\sklearn\\feature_extraction\\text.py:1430\u001b[0m, in \u001b[0;36mCountVectorizer.transform\u001b[1;34m(self, raw_documents)\u001b[0m\n\u001b[0;32m   1426\u001b[0m \u001b[39mif\u001b[39;00m \u001b[39misinstance\u001b[39m(raw_documents, \u001b[39mstr\u001b[39m):\n\u001b[0;32m   1427\u001b[0m     \u001b[39mraise\u001b[39;00m \u001b[39mValueError\u001b[39;00m(\n\u001b[0;32m   1428\u001b[0m         \u001b[39m\"\u001b[39m\u001b[39mIterable over raw text documents expected, string object received.\u001b[39m\u001b[39m\"\u001b[39m\n\u001b[0;32m   1429\u001b[0m     )\n\u001b[1;32m-> 1430\u001b[0m \u001b[39mself\u001b[39;49m\u001b[39m.\u001b[39;49m_check_vocabulary()\n\u001b[0;32m   1432\u001b[0m \u001b[39m# use the same matrix-building strategy as fit_transform\u001b[39;00m\n\u001b[0;32m   1433\u001b[0m _, X \u001b[39m=\u001b[39m \u001b[39mself\u001b[39m\u001b[39m.\u001b[39m_count_vocab(raw_documents, fixed_vocab\u001b[39m=\u001b[39m\u001b[39mTrue\u001b[39;00m)\n",
            "File \u001b[1;32mc:\\Users\\PC\\AppData\\Local\\Programs\\Python\\Python310\\lib\\site-packages\\sklearn\\feature_extraction\\text.py:510\u001b[0m, in \u001b[0;36m_VectorizerMixin._check_vocabulary\u001b[1;34m(self)\u001b[0m\n\u001b[0;32m    508\u001b[0m     \u001b[39mself\u001b[39m\u001b[39m.\u001b[39m_validate_vocabulary()\n\u001b[0;32m    509\u001b[0m     \u001b[39mif\u001b[39;00m \u001b[39mnot\u001b[39;00m \u001b[39mself\u001b[39m\u001b[39m.\u001b[39mfixed_vocabulary_:\n\u001b[1;32m--> 510\u001b[0m         \u001b[39mraise\u001b[39;00m NotFittedError(\u001b[39m\"\u001b[39m\u001b[39mVocabulary not fitted or provided\u001b[39m\u001b[39m\"\u001b[39m)\n\u001b[0;32m    512\u001b[0m \u001b[39mif\u001b[39;00m \u001b[39mlen\u001b[39m(\u001b[39mself\u001b[39m\u001b[39m.\u001b[39mvocabulary_) \u001b[39m==\u001b[39m \u001b[39m0\u001b[39m:\n\u001b[0;32m    513\u001b[0m     \u001b[39mraise\u001b[39;00m \u001b[39mValueError\u001b[39;00m(\u001b[39m\"\u001b[39m\u001b[39mVocabulary is empty\u001b[39m\u001b[39m\"\u001b[39m)\n",
            "\u001b[1;31mNotFittedError\u001b[0m: Vocabulary not fitted or provided"
          ]
        }
      ],
      "source": [
        "x_t = test['x']\n",
        "y_t = test['y'].astype(int)\n",
        "\n",
        "features = []\n",
        "\n",
        "for i in range(0, 99):\n",
        "    url = x_t[i]\n",
        "    label = y_t[i]\n",
        "\n",
        "\n",
        "    features.append(featureExtraction(url,label))\n",
        "\n",
        "\n",
        "#converting the list to dataframe\n",
        "feature_names = ['url', 'Domain', 'Have_IP', 'Have_At', 'URL_Length', 'URL_Depth','Redirection','https_Domain', 'label']\n",
        "\n",
        "df = pd.DataFrame(features, columns= feature_names)\n",
        "\n",
        "\n",
        "# delete symbols\n",
        "import re\n",
        "df[\"url\"] = df[\"url\"].apply(lambda x: re.sub('[/\\.;?=https:\\']', ' ', x))\n",
        "\n",
        "\n",
        "# Data selection\n",
        "url_df = df['url']\n",
        "domain_df = df['Domain']\n",
        "depth_df = df['URL_Depth']\n",
        "feature_df = df[['Have_IP', 'Have_At', 'URL_Length','Redirection','https_Domain', 'label']]\n",
        "label_df = df['label']\n",
        "\n",
        "depth_arr = np.asarray(depth_df)\n",
        "depth_arr\n",
        "\n",
        "import numpy as np\n",
        "from sklearn import preprocessing\n",
        "\n",
        "# Reshape depth_arr to a 2D array\n",
        "depth_arr_2d = np.reshape(depth_arr, (-1, 1))\n",
        "\n",
        "# Apply StandardScaler\n",
        "depth_scaler = preprocessing.StandardScaler().fit(depth_arr_2d).transform(depth_arr_2d)\n",
        "depth_scaler[:5]\n",
        "\n",
        "# Transform data\n",
        "from sklearn.feature_extraction.text import CountVectorizer\n",
        "from sklearn.preprocessing import LabelEncoder\n",
        "\n",
        "import scipy.sparse as sp\n",
        "\n",
        "# Vectorize URLs\n",
        "vectorizer = CountVectorizer()\n",
        "url_vec = vectorizer.transform(url_df)\n",
        "\n",
        "\n",
        "# Vectorize Domains\n",
        "vectorizer = CountVectorizer()\n",
        "domain_vec = vectorizer.transform(domain_df)\n",
        "\n",
        "features_arr = np.asarray(feature_df)\n",
        "\n",
        "\n",
        "\n",
        "# Convert depth_arr_2d to a sparse matrix\n",
        "depth_sparse = sp.csr_matrix(depth_arr_2d)\n",
        "\n",
        "# Concatenate url_vec, domain_vec, and features_arr as sparse matrices\n",
        "combined_features_arr = sp.hstack((url_vec, domain_vec, sp.csr_matrix(features_arr), depth_sparse), format='csr')\n",
        "print(combined_features_arr)\n",
        "\n",
        "# Encode label column\n",
        "label_arr = np.asarray(label_df)"
      ]
    },
    {
      "cell_type": "code",
      "execution_count": null,
      "metadata": {},
      "outputs": [
        {
          "data": {
            "text/plain": [
              "158761"
            ]
          },
          "execution_count": 37,
          "metadata": {},
          "output_type": "execute_result"
        }
      ],
      "source": [
        "logreg.coef_.shape[1]"
      ]
    },
    {
      "cell_type": "code",
      "execution_count": null,
      "metadata": {
        "colab": {
          "base_uri": "https://localhost:8080/"
        },
        "id": "1gB8NAz89Rbj",
        "outputId": "f428b357-d851-46d3-e3fc-003719616046"
      },
      "outputs": [
        {
          "ename": "ValueError",
          "evalue": "X has 749 features, but LogisticRegression is expecting 158761 features as input.",
          "output_type": "error",
          "traceback": [
            "\u001b[1;31m---------------------------------------------------------------------------\u001b[0m",
            "\u001b[1;31mValueError\u001b[0m                                Traceback (most recent call last)",
            "Cell \u001b[1;32mIn[38], line 1\u001b[0m\n\u001b[1;32m----> 1\u001b[0m y_t_pred \u001b[39m=\u001b[39m logreg\u001b[39m.\u001b[39;49mpredict(combined_features_arr)\n\u001b[0;32m      2\u001b[0m \u001b[39mprint\u001b[39m(y_t_pred)\n",
            "File \u001b[1;32m~\\AppData\\Local\\Packages\\PythonSoftwareFoundation.Python.3.11_qbz5n2kfra8p0\\LocalCache\\local-packages\\Python311\\site-packages\\sklearn\\linear_model\\_base.py:419\u001b[0m, in \u001b[0;36mLinearClassifierMixin.predict\u001b[1;34m(self, X)\u001b[0m\n\u001b[0;32m    405\u001b[0m \u001b[39m\u001b[39m\u001b[39m\"\"\"\u001b[39;00m\n\u001b[0;32m    406\u001b[0m \u001b[39mPredict class labels for samples in X.\u001b[39;00m\n\u001b[0;32m    407\u001b[0m \n\u001b[1;32m   (...)\u001b[0m\n\u001b[0;32m    416\u001b[0m \u001b[39m    Vector containing the class labels for each sample.\u001b[39;00m\n\u001b[0;32m    417\u001b[0m \u001b[39m\"\"\"\u001b[39;00m\n\u001b[0;32m    418\u001b[0m xp, _ \u001b[39m=\u001b[39m get_namespace(X)\n\u001b[1;32m--> 419\u001b[0m scores \u001b[39m=\u001b[39m \u001b[39mself\u001b[39;49m\u001b[39m.\u001b[39;49mdecision_function(X)\n\u001b[0;32m    420\u001b[0m \u001b[39mif\u001b[39;00m \u001b[39mlen\u001b[39m(scores\u001b[39m.\u001b[39mshape) \u001b[39m==\u001b[39m \u001b[39m1\u001b[39m:\n\u001b[0;32m    421\u001b[0m     indices \u001b[39m=\u001b[39m xp\u001b[39m.\u001b[39mastype(scores \u001b[39m>\u001b[39m \u001b[39m0\u001b[39m, \u001b[39mint\u001b[39m)\n",
            "File \u001b[1;32m~\\AppData\\Local\\Packages\\PythonSoftwareFoundation.Python.3.11_qbz5n2kfra8p0\\LocalCache\\local-packages\\Python311\\site-packages\\sklearn\\linear_model\\_base.py:400\u001b[0m, in \u001b[0;36mLinearClassifierMixin.decision_function\u001b[1;34m(self, X)\u001b[0m\n\u001b[0;32m    397\u001b[0m check_is_fitted(\u001b[39mself\u001b[39m)\n\u001b[0;32m    398\u001b[0m xp, _ \u001b[39m=\u001b[39m get_namespace(X)\n\u001b[1;32m--> 400\u001b[0m X \u001b[39m=\u001b[39m \u001b[39mself\u001b[39;49m\u001b[39m.\u001b[39;49m_validate_data(X, accept_sparse\u001b[39m=\u001b[39;49m\u001b[39m\"\u001b[39;49m\u001b[39mcsr\u001b[39;49m\u001b[39m\"\u001b[39;49m, reset\u001b[39m=\u001b[39;49m\u001b[39mFalse\u001b[39;49;00m)\n\u001b[0;32m    401\u001b[0m scores \u001b[39m=\u001b[39m safe_sparse_dot(X, \u001b[39mself\u001b[39m\u001b[39m.\u001b[39mcoef_\u001b[39m.\u001b[39mT, dense_output\u001b[39m=\u001b[39m\u001b[39mTrue\u001b[39;00m) \u001b[39m+\u001b[39m \u001b[39mself\u001b[39m\u001b[39m.\u001b[39mintercept_\n\u001b[0;32m    402\u001b[0m \u001b[39mreturn\u001b[39;00m xp\u001b[39m.\u001b[39mreshape(scores, \u001b[39m-\u001b[39m\u001b[39m1\u001b[39m) \u001b[39mif\u001b[39;00m scores\u001b[39m.\u001b[39mshape[\u001b[39m1\u001b[39m] \u001b[39m==\u001b[39m \u001b[39m1\u001b[39m \u001b[39melse\u001b[39;00m scores\n",
            "File \u001b[1;32m~\\AppData\\Local\\Packages\\PythonSoftwareFoundation.Python.3.11_qbz5n2kfra8p0\\LocalCache\\local-packages\\Python311\\site-packages\\sklearn\\base.py:588\u001b[0m, in \u001b[0;36mBaseEstimator._validate_data\u001b[1;34m(self, X, y, reset, validate_separately, **check_params)\u001b[0m\n\u001b[0;32m    585\u001b[0m     out \u001b[39m=\u001b[39m X, y\n\u001b[0;32m    587\u001b[0m \u001b[39mif\u001b[39;00m \u001b[39mnot\u001b[39;00m no_val_X \u001b[39mand\u001b[39;00m check_params\u001b[39m.\u001b[39mget(\u001b[39m\"\u001b[39m\u001b[39mensure_2d\u001b[39m\u001b[39m\"\u001b[39m, \u001b[39mTrue\u001b[39;00m):\n\u001b[1;32m--> 588\u001b[0m     \u001b[39mself\u001b[39;49m\u001b[39m.\u001b[39;49m_check_n_features(X, reset\u001b[39m=\u001b[39;49mreset)\n\u001b[0;32m    590\u001b[0m \u001b[39mreturn\u001b[39;00m out\n",
            "File \u001b[1;32m~\\AppData\\Local\\Packages\\PythonSoftwareFoundation.Python.3.11_qbz5n2kfra8p0\\LocalCache\\local-packages\\Python311\\site-packages\\sklearn\\base.py:389\u001b[0m, in \u001b[0;36mBaseEstimator._check_n_features\u001b[1;34m(self, X, reset)\u001b[0m\n\u001b[0;32m    386\u001b[0m     \u001b[39mreturn\u001b[39;00m\n\u001b[0;32m    388\u001b[0m \u001b[39mif\u001b[39;00m n_features \u001b[39m!=\u001b[39m \u001b[39mself\u001b[39m\u001b[39m.\u001b[39mn_features_in_:\n\u001b[1;32m--> 389\u001b[0m     \u001b[39mraise\u001b[39;00m \u001b[39mValueError\u001b[39;00m(\n\u001b[0;32m    390\u001b[0m         \u001b[39mf\u001b[39m\u001b[39m\"\u001b[39m\u001b[39mX has \u001b[39m\u001b[39m{\u001b[39;00mn_features\u001b[39m}\u001b[39;00m\u001b[39m features, but \u001b[39m\u001b[39m{\u001b[39;00m\u001b[39mself\u001b[39m\u001b[39m.\u001b[39m\u001b[39m__class__\u001b[39m\u001b[39m.\u001b[39m\u001b[39m__name__\u001b[39m\u001b[39m}\u001b[39;00m\u001b[39m \u001b[39m\u001b[39m\"\u001b[39m\n\u001b[0;32m    391\u001b[0m         \u001b[39mf\u001b[39m\u001b[39m\"\u001b[39m\u001b[39mis expecting \u001b[39m\u001b[39m{\u001b[39;00m\u001b[39mself\u001b[39m\u001b[39m.\u001b[39mn_features_in_\u001b[39m}\u001b[39;00m\u001b[39m features as input.\u001b[39m\u001b[39m\"\u001b[39m\n\u001b[0;32m    392\u001b[0m     )\n",
            "\u001b[1;31mValueError\u001b[0m: X has 749 features, but LogisticRegression is expecting 158761 features as input."
          ]
        }
      ],
      "source": [
        "y_t_pred = logreg.predict(combined_features_arr)\n",
        "print(y_t_pred)"
      ]
    },
    {
      "cell_type": "code",
      "execution_count": null,
      "metadata": {
        "colab": {
          "base_uri": "https://localhost:8080/"
        },
        "id": "6RGcN5dICNIb",
        "outputId": "6a307fe3-94c7-4b88-f65f-368912fc5966"
      },
      "outputs": [
        {
          "ename": "ValueError",
          "evalue": "could not convert string to float: 'http://newmatdesign.ro/wp-admin/wewe/YAHOO/ya.html'",
          "output_type": "error",
          "traceback": [
            "\u001b[1;31m---------------------------------------------------------------------------\u001b[0m",
            "\u001b[1;31mValueError\u001b[0m                                Traceback (most recent call last)",
            "Cell \u001b[1;32mIn[1221], line 1\u001b[0m\n\u001b[1;32m----> 1\u001b[0m logreg\u001b[39m.\u001b[39;49mscore(x_t, y_t)\n",
            "File \u001b[1;32m~\\AppData\\Local\\Packages\\PythonSoftwareFoundation.Python.3.11_qbz5n2kfra8p0\\LocalCache\\local-packages\\Python311\\site-packages\\sklearn\\base.py:668\u001b[0m, in \u001b[0;36mClassifierMixin.score\u001b[1;34m(self, X, y, sample_weight)\u001b[0m\n\u001b[0;32m    643\u001b[0m \u001b[39m\u001b[39m\u001b[39m\"\"\"\u001b[39;00m\n\u001b[0;32m    644\u001b[0m \u001b[39mReturn the mean accuracy on the given test data and labels.\u001b[39;00m\n\u001b[0;32m    645\u001b[0m \n\u001b[1;32m   (...)\u001b[0m\n\u001b[0;32m    664\u001b[0m \u001b[39m    Mean accuracy of ``self.predict(X)`` w.r.t. `y`.\u001b[39;00m\n\u001b[0;32m    665\u001b[0m \u001b[39m\"\"\"\u001b[39;00m\n\u001b[0;32m    666\u001b[0m \u001b[39mfrom\u001b[39;00m \u001b[39m.\u001b[39;00m\u001b[39mmetrics\u001b[39;00m \u001b[39mimport\u001b[39;00m accuracy_score\n\u001b[1;32m--> 668\u001b[0m \u001b[39mreturn\u001b[39;00m accuracy_score(y, \u001b[39mself\u001b[39;49m\u001b[39m.\u001b[39;49mpredict(X), sample_weight\u001b[39m=\u001b[39msample_weight)\n",
            "File \u001b[1;32m~\\AppData\\Local\\Packages\\PythonSoftwareFoundation.Python.3.11_qbz5n2kfra8p0\\LocalCache\\local-packages\\Python311\\site-packages\\sklearn\\linear_model\\_base.py:419\u001b[0m, in \u001b[0;36mLinearClassifierMixin.predict\u001b[1;34m(self, X)\u001b[0m\n\u001b[0;32m    405\u001b[0m \u001b[39m\u001b[39m\u001b[39m\"\"\"\u001b[39;00m\n\u001b[0;32m    406\u001b[0m \u001b[39mPredict class labels for samples in X.\u001b[39;00m\n\u001b[0;32m    407\u001b[0m \n\u001b[1;32m   (...)\u001b[0m\n\u001b[0;32m    416\u001b[0m \u001b[39m    Vector containing the class labels for each sample.\u001b[39;00m\n\u001b[0;32m    417\u001b[0m \u001b[39m\"\"\"\u001b[39;00m\n\u001b[0;32m    418\u001b[0m xp, _ \u001b[39m=\u001b[39m get_namespace(X)\n\u001b[1;32m--> 419\u001b[0m scores \u001b[39m=\u001b[39m \u001b[39mself\u001b[39;49m\u001b[39m.\u001b[39;49mdecision_function(X)\n\u001b[0;32m    420\u001b[0m \u001b[39mif\u001b[39;00m \u001b[39mlen\u001b[39m(scores\u001b[39m.\u001b[39mshape) \u001b[39m==\u001b[39m \u001b[39m1\u001b[39m:\n\u001b[0;32m    421\u001b[0m     indices \u001b[39m=\u001b[39m xp\u001b[39m.\u001b[39mastype(scores \u001b[39m>\u001b[39m \u001b[39m0\u001b[39m, \u001b[39mint\u001b[39m)\n",
            "File \u001b[1;32m~\\AppData\\Local\\Packages\\PythonSoftwareFoundation.Python.3.11_qbz5n2kfra8p0\\LocalCache\\local-packages\\Python311\\site-packages\\sklearn\\linear_model\\_base.py:400\u001b[0m, in \u001b[0;36mLinearClassifierMixin.decision_function\u001b[1;34m(self, X)\u001b[0m\n\u001b[0;32m    397\u001b[0m check_is_fitted(\u001b[39mself\u001b[39m)\n\u001b[0;32m    398\u001b[0m xp, _ \u001b[39m=\u001b[39m get_namespace(X)\n\u001b[1;32m--> 400\u001b[0m X \u001b[39m=\u001b[39m \u001b[39mself\u001b[39;49m\u001b[39m.\u001b[39;49m_validate_data(X, accept_sparse\u001b[39m=\u001b[39;49m\u001b[39m\"\u001b[39;49m\u001b[39mcsr\u001b[39;49m\u001b[39m\"\u001b[39;49m, reset\u001b[39m=\u001b[39;49m\u001b[39mFalse\u001b[39;49;00m)\n\u001b[0;32m    401\u001b[0m scores \u001b[39m=\u001b[39m safe_sparse_dot(X, \u001b[39mself\u001b[39m\u001b[39m.\u001b[39mcoef_\u001b[39m.\u001b[39mT, dense_output\u001b[39m=\u001b[39m\u001b[39mTrue\u001b[39;00m) \u001b[39m+\u001b[39m \u001b[39mself\u001b[39m\u001b[39m.\u001b[39mintercept_\n\u001b[0;32m    402\u001b[0m \u001b[39mreturn\u001b[39;00m xp\u001b[39m.\u001b[39mreshape(scores, \u001b[39m-\u001b[39m\u001b[39m1\u001b[39m) \u001b[39mif\u001b[39;00m scores\u001b[39m.\u001b[39mshape[\u001b[39m1\u001b[39m] \u001b[39m==\u001b[39m \u001b[39m1\u001b[39m \u001b[39melse\u001b[39;00m scores\n",
            "File \u001b[1;32m~\\AppData\\Local\\Packages\\PythonSoftwareFoundation.Python.3.11_qbz5n2kfra8p0\\LocalCache\\local-packages\\Python311\\site-packages\\sklearn\\base.py:565\u001b[0m, in \u001b[0;36mBaseEstimator._validate_data\u001b[1;34m(self, X, y, reset, validate_separately, **check_params)\u001b[0m\n\u001b[0;32m    563\u001b[0m     \u001b[39mraise\u001b[39;00m \u001b[39mValueError\u001b[39;00m(\u001b[39m\"\u001b[39m\u001b[39mValidation should be done on X, y or both.\u001b[39m\u001b[39m\"\u001b[39m)\n\u001b[0;32m    564\u001b[0m \u001b[39melif\u001b[39;00m \u001b[39mnot\u001b[39;00m no_val_X \u001b[39mand\u001b[39;00m no_val_y:\n\u001b[1;32m--> 565\u001b[0m     X \u001b[39m=\u001b[39m check_array(X, input_name\u001b[39m=\u001b[39;49m\u001b[39m\"\u001b[39;49m\u001b[39mX\u001b[39;49m\u001b[39m\"\u001b[39;49m, \u001b[39m*\u001b[39;49m\u001b[39m*\u001b[39;49mcheck_params)\n\u001b[0;32m    566\u001b[0m     out \u001b[39m=\u001b[39m X\n\u001b[0;32m    567\u001b[0m \u001b[39melif\u001b[39;00m no_val_X \u001b[39mand\u001b[39;00m \u001b[39mnot\u001b[39;00m no_val_y:\n",
            "File \u001b[1;32m~\\AppData\\Local\\Packages\\PythonSoftwareFoundation.Python.3.11_qbz5n2kfra8p0\\LocalCache\\local-packages\\Python311\\site-packages\\sklearn\\utils\\validation.py:879\u001b[0m, in \u001b[0;36mcheck_array\u001b[1;34m(array, accept_sparse, accept_large_sparse, dtype, order, copy, force_all_finite, ensure_2d, allow_nd, ensure_min_samples, ensure_min_features, estimator, input_name)\u001b[0m\n\u001b[0;32m    877\u001b[0m         array \u001b[39m=\u001b[39m xp\u001b[39m.\u001b[39mastype(array, dtype, copy\u001b[39m=\u001b[39m\u001b[39mFalse\u001b[39;00m)\n\u001b[0;32m    878\u001b[0m     \u001b[39melse\u001b[39;00m:\n\u001b[1;32m--> 879\u001b[0m         array \u001b[39m=\u001b[39m _asarray_with_order(array, order\u001b[39m=\u001b[39;49morder, dtype\u001b[39m=\u001b[39;49mdtype, xp\u001b[39m=\u001b[39;49mxp)\n\u001b[0;32m    880\u001b[0m \u001b[39mexcept\u001b[39;00m ComplexWarning \u001b[39mas\u001b[39;00m complex_warning:\n\u001b[0;32m    881\u001b[0m     \u001b[39mraise\u001b[39;00m \u001b[39mValueError\u001b[39;00m(\n\u001b[0;32m    882\u001b[0m         \u001b[39m\"\u001b[39m\u001b[39mComplex data not supported\u001b[39m\u001b[39m\\n\u001b[39;00m\u001b[39m{}\u001b[39;00m\u001b[39m\\n\u001b[39;00m\u001b[39m\"\u001b[39m\u001b[39m.\u001b[39mformat(array)\n\u001b[0;32m    883\u001b[0m     ) \u001b[39mfrom\u001b[39;00m \u001b[39mcomplex_warning\u001b[39;00m\n",
            "File \u001b[1;32m~\\AppData\\Local\\Packages\\PythonSoftwareFoundation.Python.3.11_qbz5n2kfra8p0\\LocalCache\\local-packages\\Python311\\site-packages\\sklearn\\utils\\_array_api.py:185\u001b[0m, in \u001b[0;36m_asarray_with_order\u001b[1;34m(array, dtype, order, copy, xp)\u001b[0m\n\u001b[0;32m    182\u001b[0m     xp, _ \u001b[39m=\u001b[39m get_namespace(array)\n\u001b[0;32m    183\u001b[0m \u001b[39mif\u001b[39;00m xp\u001b[39m.\u001b[39m\u001b[39m__name__\u001b[39m \u001b[39min\u001b[39;00m {\u001b[39m\"\u001b[39m\u001b[39mnumpy\u001b[39m\u001b[39m\"\u001b[39m, \u001b[39m\"\u001b[39m\u001b[39mnumpy.array_api\u001b[39m\u001b[39m\"\u001b[39m}:\n\u001b[0;32m    184\u001b[0m     \u001b[39m# Use NumPy API to support order\u001b[39;00m\n\u001b[1;32m--> 185\u001b[0m     array \u001b[39m=\u001b[39m numpy\u001b[39m.\u001b[39masarray(array, order\u001b[39m=\u001b[39morder, dtype\u001b[39m=\u001b[39mdtype)\n\u001b[0;32m    186\u001b[0m     \u001b[39mreturn\u001b[39;00m xp\u001b[39m.\u001b[39masarray(array, copy\u001b[39m=\u001b[39mcopy)\n\u001b[0;32m    187\u001b[0m \u001b[39melse\u001b[39;00m:\n",
            "File \u001b[1;32m~\\AppData\\Local\\Packages\\PythonSoftwareFoundation.Python.3.11_qbz5n2kfra8p0\\LocalCache\\local-packages\\Python311\\site-packages\\pandas\\core\\series.py:917\u001b[0m, in \u001b[0;36mSeries.__array__\u001b[1;34m(self, dtype)\u001b[0m\n\u001b[0;32m    870\u001b[0m \u001b[39m\u001b[39m\u001b[39m\"\"\"\u001b[39;00m\n\u001b[0;32m    871\u001b[0m \u001b[39mReturn the values as a NumPy array.\u001b[39;00m\n\u001b[0;32m    872\u001b[0m \n\u001b[1;32m   (...)\u001b[0m\n\u001b[0;32m    914\u001b[0m \u001b[39m      dtype='datetime64[ns]')\u001b[39;00m\n\u001b[0;32m    915\u001b[0m \u001b[39m\"\"\"\u001b[39;00m\n\u001b[0;32m    916\u001b[0m values \u001b[39m=\u001b[39m \u001b[39mself\u001b[39m\u001b[39m.\u001b[39m_values\n\u001b[1;32m--> 917\u001b[0m arr \u001b[39m=\u001b[39m np\u001b[39m.\u001b[39masarray(values, dtype\u001b[39m=\u001b[39mdtype)\n\u001b[0;32m    918\u001b[0m \u001b[39mif\u001b[39;00m using_copy_on_write() \u001b[39mand\u001b[39;00m astype_is_view(values\u001b[39m.\u001b[39mdtype, arr\u001b[39m.\u001b[39mdtype):\n\u001b[0;32m    919\u001b[0m     arr \u001b[39m=\u001b[39m arr\u001b[39m.\u001b[39mview()\n",
            "\u001b[1;31mValueError\u001b[0m: could not convert string to float: 'http://newmatdesign.ro/wp-admin/wewe/YAHOO/ya.html'"
          ]
        }
      ],
      "source": [
        "logreg.score(x_t, y_t)"
      ]
    },
    {
      "cell_type": "code",
      "execution_count": null,
      "metadata": {
        "colab": {
          "base_uri": "https://localhost:8080/"
        },
        "id": "1OBAcQ81CS6o",
        "outputId": "1eb58ef4-8139-48d5-cbb3-de9f34e82f63"
      },
      "outputs": [
        {
          "name": "stdout",
          "output_type": "stream",
          "text": [
            "0.022222222222222223\n"
          ]
        }
      ],
      "source": [
        "from sklearn.metrics import jaccard_score\n",
        "print(jaccard_score(y_t, y_pred_t,pos_label=0))"
      ]
    },
    {
      "cell_type": "code",
      "execution_count": null,
      "metadata": {
        "colab": {
          "base_uri": "https://localhost:8080/"
        },
        "id": "gt2XXgouC_6_",
        "outputId": "894d7634-b2b7-4e21-ba7e-d538c58d8ec5"
      },
      "outputs": [
        {
          "name": "stdout",
          "output_type": "stream",
          "text": [
            "Accuracy: 0.56\n",
            "F1 score: 0.71\n"
          ]
        }
      ],
      "source": [
        "accuracy = accuracy_score(y_t, y_pred_t)\n",
        "f1 = f1_score(y_t, y_pred_t)\n",
        "\n",
        "print(f\"Accuracy: {accuracy:.2f}\")\n",
        "print(f\"F1 score: {f1:.2f}\")"
      ]
    },
    {
      "cell_type": "code",
      "execution_count": null,
      "metadata": {
        "colab": {
          "base_uri": "https://localhost:8080/",
          "height": 568
        },
        "id": "cEQEJ8O2B4ta",
        "outputId": "4332a0bd-bb70-4202-88bb-5ce55a0b57b7"
      },
      "outputs": [
        {
          "data": {
            "text/plain": [
              "Text(0.5, 427.9555555555555, 'Predicted label')"
            ]
          },
          "execution_count": 166,
          "metadata": {},
          "output_type": "execute_result"
        },
        {
          "data": {
            "image/png": "[encoded data removed]",
            "text/plain": [
              "<Figure size 640x480 with 2 Axes>"
            ]
          },
          "metadata": {},
          "output_type": "display_data"
        }
      ],
      "source": [
        "cnf_matrix = metrics.confusion_matrix(y_t, y_pred_t)\n",
        "cnf_matrix\n",
        "\n",
        "class_names=[] # name  of classes\n",
        "fig, ax = plt.subplots()\n",
        "tick_marks = np.arange(len(class_names))\n",
        "plt.xticks(tick_marks, class_names)\n",
        "plt.yticks(tick_marks, class_names)\n",
        "# create heatmap\n",
        "sns.heatmap(pd.DataFrame(cnf_matrix), annot=True, cmap=\"YlGnBu\" ,fmt='g')\n",
        "ax.xaxis.set_label_position(\"top\")\n",
        "plt.tight_layout()\n",
        "plt.title('Confusion matrix', y=1.1)\n",
        "plt.ylabel('Actual label')\n",
        "plt.xlabel('Predicted label')"
      ]
    }
  ],
  "metadata": {
    "colab": {
      "include_colab_link": true,
      "provenance": []
    },
    "kernelspec": {
      "display_name": "base",
      "language": "python",
      "name": "python3"
    },
    "language_info": {
      "codemirror_mode": {
        "name": "ipython",
        "version": 3
      },
      "file_extension": ".py",
      "mimetype": "text/x-python",
      "name": "python",
      "nbconvert_exporter": "python",
      "pygments_lexer": "ipython3",
      "version": "3.10.10"
    },
    "orig_nbformat": 4
  },
  "nbformat": 4,
  "nbformat_minor": 0
}
