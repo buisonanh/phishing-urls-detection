{
  "cells": [
    {
      "cell_type": "markdown",
      "metadata": {
        "colab_type": "text",
        "id": "view-in-github"
      },
      "source": [
        "<a href=\"https://colab.research.google.com/github/buisonanh/phishing_urls_detection/blob/main/phishing_urls_detection.ipynb\" target=\"_parent\"><img src=\"https://colab.research.google.com/assets/colab-badge.svg\" alt=\"Open In Colab\"/></a>"
      ]
    },
    {
      "cell_type": "markdown",
      "metadata": {
        "id": "rFFy1FBGlkdn"
      },
      "source": [
        "# **Prepare Data**"
      ]
    },
    {
      "cell_type": "code",
      "execution_count": 2,
      "metadata": {
        "colab": {
          "base_uri": "https://localhost:8080/"
        },
        "id": "aapuo6zz2d4f",
        "outputId": "85cc1e5c-a2ea-4947-a2f2-804306795c0b"
      },
      "outputs": [
        {
          "name": "stderr",
          "output_type": "stream",
          "text": [
            "[nltk_data] Downloading package punkt to\n",
            "[nltk_data]     C:\\Users\\PC\\AppData\\Roaming\\nltk_data...\n",
            "[nltk_data]   Package punkt is already up-to-date!\n"
          ]
        }
      ],
      "source": [
        "import numpy as np\n",
        "import pandas as pd\n",
        "\n",
        "import nltk\n",
        "nltk.download('punkt')\n",
        "from nltk.tokenize import word_tokenize\n",
        "\n",
        "from tensorflow.keras.preprocessing.sequence import pad_sequences\n",
        "from tensorflow.keras.models import Sequential\n",
        "from tensorflow.keras.layers import Dense, Embedding, LSTM, SpatialDropout1D\n",
        "import re"
      ]
    },
    {
      "cell_type": "code",
      "execution_count": 3,
      "metadata": {
        "id": "ucaCAx2ydjro"
      },
      "outputs": [],
      "source": [
        "legit = pd.read_csv(\"datasets/legitimate_urls.csv\")\n",
        "phishing = pd.read_csv(\"datasets/phishing_urls.csv\")"
      ]
    },
    {
      "cell_type": "code",
      "execution_count": 4,
      "metadata": {
        "colab": {
          "base_uri": "https://localhost:8080/"
        },
        "id": "61RZtIB5dXFR",
        "outputId": "7cf9d6f6-bf29-49e0-ecea-b40201294b30"
      },
      "outputs": [
        {
          "name": "stdout",
          "output_type": "stream",
          "text": [
            "<class 'pandas.core.frame.DataFrame'>\n",
            "RangeIndex: 31085 entries, 0 to 31084\n",
            "Data columns (total 1 columns):\n",
            " #   Column  Non-Null Count  Dtype \n",
            "---  ------  --------------  ----- \n",
            " 0   url     31085 non-null  object\n",
            "dtypes: object(1)\n",
            "memory usage: 243.0+ KB\n",
            "None\n",
            "\n",
            "<class 'pandas.core.frame.DataFrame'>\n",
            "RangeIndex: 56591 entries, 0 to 56590\n",
            "Data columns (total 1 columns):\n",
            " #   Column  Non-Null Count  Dtype \n",
            "---  ------  --------------  ----- \n",
            " 0   url     56591 non-null  object\n",
            "dtypes: object(1)\n",
            "memory usage: 442.2+ KB\n",
            "None\n"
          ]
        }
      ],
      "source": [
        "legit.drop_duplicates()\n",
        "phishing.drop_duplicates()\n",
        "\n",
        "print(legit.info())\n",
        "print()\n",
        "print(phishing.info())"
      ]
    },
    {
      "cell_type": "code",
      "execution_count": 5,
      "metadata": {
        "colab": {
          "base_uri": "https://localhost:8080/"
        },
        "id": "ygRqJDN1cZkE",
        "outputId": "db3cd048-3285-45ff-a69d-09921f14abb1"
      },
      "outputs": [
        {
          "name": "stdout",
          "output_type": "stream",
          "text": [
            "                      url      status\n",
            "0          000webhost.com  legitimate\n",
            "1               007go.com  legitimate\n",
            "2                 010.com  legitimate\n",
            "3        022menchuang.net  legitimate\n",
            "4           050anshin.com  legitimate\n",
            "...                   ...         ...\n",
            "31080       crestbook.com  legitimate\n",
            "31081          fumbbl.com  legitimate\n",
            "31082          proplay.ru  legitimate\n",
            "31083    jeuxdecartes.net  legitimate\n",
            "31084  molehillempire.com  legitimate\n",
            "\n",
            "[31085 rows x 2 columns]\n",
            "<class 'pandas.core.frame.DataFrame'>\n",
            "Int64Index: 87676 entries, 61210 to 15795\n",
            "Data columns (total 2 columns):\n",
            " #   Column  Non-Null Count  Dtype \n",
            "---  ------  --------------  ----- \n",
            " 0   url     87676 non-null  object\n",
            " 1   status  87676 non-null  object\n",
            "dtypes: object(2)\n",
            "memory usage: 2.0+ MB\n"
          ]
        }
      ],
      "source": [
        "# add a 'status' column to the dataframes\n",
        "legit[\"status\"] = \"legitimate\"\n",
        "phishing[\"status\"] = \"phishing\"\n",
        "\n",
        "print(legit)\n",
        "# combine the two dataframes\n",
        "df = pd.concat([legit, phishing], ignore_index=True)\n",
        "\n",
        "# shuffle the dataframe's rows randomly\n",
        "df = df.sample(frac=1, random_state=42) # Set random_state to an integer for reproducibility\n",
        "\n",
        "df.info()"
      ]
    },
    {
      "cell_type": "code",
      "execution_count": 6,
      "metadata": {
        "colab": {
          "base_uri": "https://localhost:8080/"
        },
        "id": "B4pvEb8PeiJg",
        "outputId": "48a2a67a-e217-422d-ea3e-2564e7c155c8"
      },
      "outputs": [
        {
          "name": "stdout",
          "output_type": "stream",
          "text": [
            "Number of duplicates: 220\n",
            "Number of duplicates: 0\n"
          ]
        }
      ],
      "source": [
        "# Identify duplicate rows\n",
        "duplicates = df.duplicated()\n",
        "num_duplicates = duplicates.sum()\n",
        "print(f\"Number of duplicates: {num_duplicates}\")\n",
        "\n",
        "df = df.drop_duplicates()\n",
        "\n",
        "duplicates = df.duplicated()\n",
        "num_duplicates = duplicates.sum()\n",
        "print(f\"Number of duplicates: {num_duplicates}\")\n"
      ]
    },
    {
      "cell_type": "code",
      "execution_count": 7,
      "metadata": {
        "id": "RK7wqAiPhgSK"
      },
      "outputs": [],
      "source": [
        "# delete symbols\n",
        "import re\n",
        "df[\"url\"] = df[\"url\"].apply(lambda x: re.sub('[/\\.;?=https:\\']', ' ', x))"
      ]
    },
    {
      "cell_type": "code",
      "execution_count": 8,
      "metadata": {
        "colab": {
          "base_uri": "https://localhost:8080/"
        },
        "id": "6Y-Ns7t62d4j",
        "outputId": "531234b4-e06d-4651-b8a4-1f124ae37f7a"
      },
      "outputs": [
        {
          "name": "stdout",
          "output_type": "stream",
          "text": [
            "<class 'pandas.core.frame.DataFrame'>\n",
            "Int64Index: 87456 entries, 61210 to 15795\n",
            "Data columns (total 2 columns):\n",
            " #   Column  Non-Null Count  Dtype \n",
            "---  ------  --------------  ----- \n",
            " 0   url     87456 non-null  object\n",
            " 1   status  87456 non-null  object\n",
            "dtypes: object(2)\n",
            "memory usage: 2.0+ MB\n"
          ]
        }
      ],
      "source": [
        "df.info()"
      ]
    },
    {
      "cell_type": "code",
      "execution_count": 9,
      "metadata": {
        "colab": {
          "base_uri": "https://localhost:8080/",
          "height": 363
        },
        "id": "_62ILMT72d4j",
        "outputId": "b45e1153-790b-4ee4-d581-b30d104e3c29"
      },
      "outputs": [
        {
          "data": {
            "text/html": [
              "<div>\n",
              "<style scoped>\n",
              "    .dataframe tbody tr th:only-of-type {\n",
              "        vertical-align: middle;\n",
              "    }\n",
              "\n",
              "    .dataframe tbody tr th {\n",
              "        vertical-align: top;\n",
              "    }\n",
              "\n",
              "    .dataframe thead th {\n",
              "        text-align: right;\n",
              "    }\n",
              "</style>\n",
              "<table border=\"1\" class=\"dataframe\">\n",
              "  <thead>\n",
              "    <tr style=\"text-align: right;\">\n",
              "      <th></th>\n",
              "      <th>url</th>\n",
              "      <th>status</th>\n",
              "    </tr>\n",
              "  </thead>\n",
              "  <tbody>\n",
              "    <tr>\n",
              "      <th>61210</th>\n",
              "      <td>u    -rediliver makeyourw  com u  veri...</td>\n",
              "      <td>phishing</td>\n",
              "    </tr>\n",
              "    <tr>\n",
              "      <th>8914</th>\n",
              "      <td>ren acar fr</td>\n",
              "      <td>legitimate</td>\n",
              "    </tr>\n",
              "    <tr>\n",
              "      <th>69536</th>\n",
              "      <td>587c88df-b417-4d76-9193-26ff31ef6f64 i...</td>\n",
              "      <td>phishing</td>\n",
              "    </tr>\n",
              "    <tr>\n",
              "      <th>62196</th>\n",
              "      <td>www kuerennkaycoa o co j  kuercnnkaycea...</td>\n",
              "      <td>phishing</td>\n",
              "    </tr>\n",
              "    <tr>\n",
              "      <th>36231</th>\n",
              "      <td>qrco de bd 7VB  rackid eCY j8 V9ffkdrY...</td>\n",
              "      <td>phishing</td>\n",
              "    </tr>\n",
              "    <tr>\n",
              "      <th>4199</th>\n",
              "      <td>free a  ern  com</td>\n",
              "      <td>legitimate</td>\n",
              "    </tr>\n",
              "    <tr>\n",
              "      <th>14680</th>\n",
              "      <td>zeeuw arc ief nl</td>\n",
              "      <td>legitimate</td>\n",
              "    </tr>\n",
              "    <tr>\n",
              "      <th>42990</th>\n",
              "      <td>u en e-webinfo-login 199-188-203-93 c ...</td>\n",
              "      <td>phishing</td>\n",
              "    </tr>\n",
              "    <tr>\n",
              "      <th>44582</th>\n",
              "      <td>7 95-214-24-226 c ra id com</td>\n",
              "      <td>phishing</td>\n",
              "    </tr>\n",
              "    <tr>\n",
              "      <th>73924</th>\n",
              "      <td>jofra afari  co ke #</td>\n",
              "      <td>phishing</td>\n",
              "    </tr>\n",
              "  </tbody>\n",
              "</table>\n",
              "</div>"
            ],
            "text/plain": [
              "                                                     url      status\n",
              "61210          u    -rediliver makeyourw  com u  veri...    phishing\n",
              "8914                                         ren acar fr  legitimate\n",
              "69536          587c88df-b417-4d76-9193-26ff31ef6f64 i...    phishing\n",
              "62196         www kuerennkaycoa o co j  kuercnnkaycea...    phishing\n",
              "36231          qrco de bd 7VB  rackid eCY j8 V9ffkdrY...    phishing\n",
              "4199                                    free a  ern  com  legitimate\n",
              "14680                                   zeeuw arc ief nl  legitimate\n",
              "42990          u en e-webinfo-login 199-188-203-93 c ...    phishing\n",
              "44582                       7 95-214-24-226 c ra id com     phishing\n",
              "73924                               jofra afari  co ke #    phishing"
            ]
          },
          "execution_count": 9,
          "metadata": {},
          "output_type": "execute_result"
        }
      ],
      "source": [
        "df.isnull().sum()\n",
        "df.dropna(inplace = True)\n",
        "\n",
        "df.head(10)"
      ]
    },
    {
      "cell_type": "code",
      "execution_count": 10,
      "metadata": {
        "colab": {
          "base_uri": "https://localhost:8080/"
        },
        "id": "sW3v5rwGjrIq",
        "outputId": "2af6768a-ba35-4f65-ed85-f099da29d912"
      },
      "outputs": [
        {
          "data": {
            "text/plain": [
              "'\\n# assume `data` is a pandas DataFrame with columns \"url\" and \"status\"\\ncounts = df[\"status\"].value_counts()\\n\\n# print the counts for each category\\nprint(counts)\\n'"
            ]
          },
          "execution_count": 10,
          "metadata": {},
          "output_type": "execute_result"
        }
      ],
      "source": [
        "\"\"\"\n",
        "# assume `data` is a pandas DataFrame with columns \"url\" and \"status\"\n",
        "counts = df[\"status\"].value_counts()\n",
        "\n",
        "# print the counts for each category\n",
        "print(counts)\n",
        "\"\"\""
      ]
    },
    {
      "cell_type": "markdown",
      "metadata": {
        "id": "l66mBeYUlzJD"
      },
      "source": [
        "# **Vectorizing and Encoding**"
      ]
    },
    {
      "cell_type": "code",
      "execution_count": 11,
      "metadata": {
        "colab": {
          "base_uri": "https://localhost:8080/"
        },
        "id": "eiigc8zw2d4j",
        "outputId": "c481ce39-5cad-4498-fec4-419c04197e67"
      },
      "outputs": [
        {
          "name": "stdout",
          "output_type": "stream",
          "text": [
            "0 -> legitimate\n",
            "1 -> phishing\n"
          ]
        }
      ],
      "source": [
        "# Data selection\n",
        "feature_df = df['url']\n",
        "status_df = df['status']\n",
        "\n",
        "# Transform data\n",
        "from sklearn.feature_extraction.text import CountVectorizer\n",
        "from sklearn.preprocessing import LabelEncoder\n",
        "\n",
        "# Vectorize URLs\n",
        "vectorizer = CountVectorizer()\n",
        "feature_vec = vectorizer.fit_transform(feature_df)\n",
        "\n",
        "# Encode status column\n",
        "label_encoder = LabelEncoder()\n",
        "status_arr = label_encoder.fit_transform(status_df)\n",
        "\n",
        "# Get class labels and corresponding encoded values\n",
        "class_labels = label_encoder.classes_\n",
        "class_encodings = label_encoder.transform(class_labels)\n",
        "\n",
        "# Print class labels and their corresponding encoded values\n",
        "for label, encoding in zip(class_labels, class_encodings):\n",
        "    print(f\"{encoding} -> {label}\")\n"
      ]
    },
    {
      "cell_type": "code",
      "execution_count": 12,
      "metadata": {
        "id": "dsH6yl90WvFm"
      },
      "outputs": [],
      "source": [
        "#print(feature_vec)"
      ]
    },
    {
      "cell_type": "code",
      "execution_count": 13,
      "metadata": {
        "colab": {
          "base_uri": "https://localhost:8080/",
          "height": 52
        },
        "id": "K4SxyWzzkNGQ",
        "outputId": "1a806007-d5e7-40a1-ed92-d9affb4c650a"
      },
      "outputs": [
        {
          "data": {
            "text/plain": [
              "'\\nfrom imblearn.over_sampling import RandomOverSampler\\n\\n# create a RandomOverSampler object and fit it to the data\\noversampler = RandomOverSampler(random_state=42)\\nfeature_vec_balanced, status_arr_balanced = oversampler.fit_resample(feature_vec, status_arr)\\n\\n# check the new class distribution\\npd.Series(status_arr_balanced).value_counts()\\n'"
            ]
          },
          "execution_count": 13,
          "metadata": {},
          "output_type": "execute_result"
        }
      ],
      "source": [
        "\"\"\"\n",
        "from imblearn.over_sampling import RandomOverSampler\n",
        "\n",
        "# create a RandomOverSampler object and fit it to the data\n",
        "oversampler = RandomOverSampler(random_state=42)\n",
        "feature_vec_balanced, status_arr_balanced = oversampler.fit_resample(feature_vec, status_arr)\n",
        "\n",
        "# check the new class distribution\n",
        "pd.Series(status_arr_balanced).value_counts()\n",
        "\"\"\""
      ]
    },
    {
      "cell_type": "markdown",
      "metadata": {
        "id": "XdUAR9DHmOS3"
      },
      "source": [
        "# **Logistic Regression**"
      ]
    },
    {
      "cell_type": "code",
      "execution_count": 14,
      "metadata": {
        "colab": {
          "base_uri": "https://localhost:8080/"
        },
        "id": "yjaPOK6E2d4k",
        "outputId": "3c75c98e-373d-4045-9bf7-bd77c0c39059"
      },
      "outputs": [
        {
          "name": "stdout",
          "output_type": "stream",
          "text": [
            "Train:  65592\n",
            "Test:  21864\n"
          ]
        }
      ],
      "source": [
        "# chia tap train, test\n",
        "from sklearn.model_selection import train_test_split\n",
        "\n",
        "x_train, x_test, y_train, y_test = train_test_split(feature_vec, status_arr, test_size=0.25, random_state=42)\n",
        "\n",
        "print('Train: ', x_train.shape[0])\n",
        "print('Test: ', x_test.shape[0])"
      ]
    },
    {
      "cell_type": "code",
      "execution_count": 15,
      "metadata": {
        "id": "MuV0ihfU-45s"
      },
      "outputs": [],
      "source": [
        "\n",
        "# modeling lbfgs\n",
        "from sklearn.linear_model import LogisticRegression\n",
        "\n",
        "logreg = LogisticRegression(C= 0.01, class_weight= None, max_iter= 100, penalty= 'l2',random_state=42)\n",
        "lr_lbfgs = logreg.fit(x_train,y_train)\n"
      ]
    },
    {
      "cell_type": "code",
      "execution_count": 16,
      "metadata": {
        "colab": {
          "base_uri": "https://localhost:8080/",
          "height": 87
        },
        "id": "6AufC_QjD8s6",
        "outputId": "0289c089-ebcb-423b-9339-f42063c39d11"
      },
      "outputs": [
        {
          "data": {
            "text/plain": [
              "'\\nfrom sklearn.model_selection import GridSearchCV\\n\\nparam_grid = {\\'C\\': [0.001, 0.01, 0.1, 1, 10],\\n              \\'penalty\\': [\\'l1\\', \\'l2\\'],\\n              \\'max_iter\\': [100, 500, 1000],\\n              \\'class_weight\\': [None, \\'balanced\\']}\\n\\ngrid_search = GridSearchCV(LogisticRegression(solver=\\'lbfgs\\'),\\n                           param_grid,\\n                           cv=5,\\n                           scoring=\\'accuracy\\',\\n                           n_jobs=-1)\\n\\ngrid_search.fit(x_train, y_train)\\n\\nprint(f\"Best parameters: {grid_search.best_params_}\")\\nprint(f\"Best cross-validation score: {grid_search.best_score_}\")\\n\\n\\n# Output:\\n# Best parameters: {\\'C\\': 10, \\'class_weight\\': None, \\'max_iter\\': 100, \\'penalty\\': \\'l2\\'}\\n# Best cross-validation score: 0.9286404335532517\\n'"
            ]
          },
          "execution_count": 16,
          "metadata": {},
          "output_type": "execute_result"
        }
      ],
      "source": [
        "\"\"\"\n",
        "from sklearn.model_selection import GridSearchCV\n",
        "\n",
        "param_grid = {'C': [0.001, 0.01, 0.1, 1, 10],\n",
        "              'penalty': ['l1', 'l2'],\n",
        "              'max_iter': [100, 500, 1000],\n",
        "              'class_weight': [None, 'balanced']}\n",
        "\n",
        "grid_search = GridSearchCV(LogisticRegression(solver='lbfgs'),\n",
        "                           param_grid,\n",
        "                           cv=5,\n",
        "                           scoring='accuracy',\n",
        "                           n_jobs=-1)\n",
        "\n",
        "grid_search.fit(x_train, y_train)\n",
        "\n",
        "print(f\"Best parameters: {grid_search.best_params_}\")\n",
        "print(f\"Best cross-validation score: {grid_search.best_score_}\")\n",
        "\n",
        "\n",
        "# Output:\n",
        "# Best parameters: {'C': 10, 'class_weight': None, 'max_iter': 100, 'penalty': 'l2'}\n",
        "# Best cross-validation score: 0.9286404335532517\n",
        "\"\"\""
      ]
    },
    {
      "cell_type": "code",
      "execution_count": 17,
      "metadata": {
        "colab": {
          "base_uri": "https://localhost:8080/"
        },
        "id": "76e9ATr9HpmE",
        "outputId": "39222ab4-2a60-42a2-c53d-3e6b4d9b4d43"
      },
      "outputs": [
        {
          "name": "stdout",
          "output_type": "stream",
          "text": [
            "[0 0 0 ... 0 0 0]\n"
          ]
        }
      ],
      "source": [
        "y_pred=logreg.predict(x_test)\n",
        "print(y_pred)"
      ]
    },
    {
      "cell_type": "code",
      "execution_count": 18,
      "metadata": {
        "colab": {
          "base_uri": "https://localhost:8080/"
        },
        "id": "WNN7_ctNHwWN",
        "outputId": "6cc4ff7d-7e4a-45ae-b407-4f1f67b505e2"
      },
      "outputs": [
        {
          "name": "stdout",
          "output_type": "stream",
          "text": [
            "Jaccard score: 0.6342441185779091\n"
          ]
        }
      ],
      "source": [
        "from sklearn.metrics import jaccard_score\n",
        "print(f\"Jaccard score: {jaccard_score(y_test, y_pred,pos_label=0)}\")"
      ]
    },
    {
      "cell_type": "code",
      "execution_count": 19,
      "metadata": {
        "colab": {
          "base_uri": "https://localhost:8080/"
        },
        "id": "rFJtuw8LVpTU",
        "outputId": "fe9f98ac-eac4-4df6-ca4a-e439218007c4"
      },
      "outputs": [
        {
          "name": "stdout",
          "output_type": "stream",
          "text": [
            "Accuracy: 0.84\n",
            "F1 score: 0.88\n"
          ]
        }
      ],
      "source": [
        "from sklearn.metrics import accuracy_score, f1_score\n",
        "\n",
        "accuracy = accuracy_score(y_test, y_pred)\n",
        "f1 = f1_score(y_test, y_pred)\n",
        "\n",
        "print(f\"Accuracy: {accuracy:.2f}\")\n",
        "print(f\"F1 score: {f1:.2f}\")\n"
      ]
    },
    {
      "cell_type": "code",
      "execution_count": 20,
      "metadata": {
        "colab": {
          "base_uri": "https://localhost:8080/"
        },
        "id": "_hOcoglSJtfd",
        "outputId": "76380e59-aa79-4897-a953-500739b35b16"
      },
      "outputs": [
        {
          "data": {
            "text/plain": [
              "array([[ 6012,  1716],\n",
              "       [ 1751, 12385]], dtype=int64)"
            ]
          },
          "execution_count": 20,
          "metadata": {},
          "output_type": "execute_result"
        }
      ],
      "source": [
        "from sklearn import metrics\n",
        "cnf_matrix = metrics.confusion_matrix(y_test, y_pred)\n",
        "cnf_matrix"
      ]
    },
    {
      "cell_type": "code",
      "execution_count": 21,
      "metadata": {
        "colab": {
          "base_uri": "https://localhost:8080/",
          "height": 568
        },
        "id": "RNyusU6MH5m6",
        "outputId": "b0a8299d-4d0e-4475-b839-b3b82fdf6a37"
      },
      "outputs": [
        {
          "name": "stderr",
          "output_type": "stream",
          "text": [
            "Matplotlib is building the font cache; this may take a moment.\n"
          ]
        },
        {
          "data": {
            "text/plain": [
              "Text(0.5, 427.9555555555555, 'Predicted label')"
            ]
          },
          "execution_count": 21,
          "metadata": {},
          "output_type": "execute_result"
        },
        {
          "data": {
            "image/png": "[encoded data removed]",
            "text/plain": [
              "<Figure size 640x480 with 2 Axes>"
            ]
          },
          "metadata": {},
          "output_type": "display_data"
        }
      ],
      "source": [
        "import numpy as np\n",
        "import matplotlib.pyplot as plt\n",
        "import seaborn as sns\n",
        "class_names=[] # name  of classes\n",
        "fig, ax = plt.subplots()\n",
        "tick_marks = np.arange(len(class_names))\n",
        "plt.xticks(tick_marks, class_names)\n",
        "plt.yticks(tick_marks, class_names)\n",
        "# create heatmap\n",
        "sns.heatmap(pd.DataFrame(cnf_matrix), annot=True, cmap=\"YlGnBu\" ,fmt='g')\n",
        "ax.xaxis.set_label_position(\"top\")\n",
        "plt.tight_layout()\n",
        "plt.title('Confusion matrix', y=1.1)\n",
        "plt.ylabel('Actual label')\n",
        "plt.xlabel('Predicted label')"
      ]
    },
    {
      "cell_type": "code",
      "execution_count": 22,
      "metadata": {
        "colab": {
          "base_uri": "https://localhost:8080/",
          "height": 52
        },
        "id": "CIcIiLqbLoA7",
        "outputId": "895c435a-e845-4122-f525-95f2a66ccb17"
      },
      "outputs": [
        {
          "data": {
            "text/plain": [
              "\"\\nnew_url = input('Enter an URL to test: ')\\n\\n# Transform features into same format as training data\\nnew_vector = vectorizer.transform([new_url])\\n\\n# Make prediction using trained model\\nprediction = logreg.predict(new_vector)\\n\\nif prediction[0] == 0:\\n  print('Legitimate')\\nelse:\\n  print('Phishing')\\n\""
            ]
          },
          "execution_count": 22,
          "metadata": {},
          "output_type": "execute_result"
        }
      ],
      "source": [
        "\"\"\"\n",
        "new_url = input('Enter an URL to test: ')\n",
        "\n",
        "# Transform features into same format as training data\n",
        "new_vector = vectorizer.transform([new_url])\n",
        "\n",
        "# Make prediction using trained model\n",
        "prediction = logreg.predict(new_vector)\n",
        "\n",
        "if prediction[0] == 0:\n",
        "  print('Legitimate')\n",
        "else:\n",
        "  print('Phishing')\n",
        "\"\"\""
      ]
    },
    {
      "cell_type": "markdown",
      "metadata": {
        "id": "rC6GNhbJ8PLl"
      },
      "source": [
        "# **(Test)**"
      ]
    },
    {
      "cell_type": "code",
      "execution_count": 23,
      "metadata": {
        "colab": {
          "base_uri": "https://localhost:8080/",
          "height": 990
        },
        "id": "FxjxRK0T8Od4",
        "outputId": "55f466b3-1b4e-4742-c69f-a1b8b57abc57"
      },
      "outputs": [
        {
          "data": {
            "text/html": [
              "<div>\n",
              "<style scoped>\n",
              "    .dataframe tbody tr th:only-of-type {\n",
              "        vertical-align: middle;\n",
              "    }\n",
              "\n",
              "    .dataframe tbody tr th {\n",
              "        vertical-align: top;\n",
              "    }\n",
              "\n",
              "    .dataframe thead th {\n",
              "        text-align: right;\n",
              "    }\n",
              "</style>\n",
              "<table border=\"1\" class=\"dataframe\">\n",
              "  <thead>\n",
              "    <tr style=\"text-align: right;\">\n",
              "      <th></th>\n",
              "      <th>x</th>\n",
              "      <th>y</th>\n",
              "      <th>Unnamed: 2</th>\n",
              "      <th>Unnamed: 3</th>\n",
              "      <th>Unnamed: 4</th>\n",
              "    </tr>\n",
              "  </thead>\n",
              "  <tbody>\n",
              "    <tr>\n",
              "      <th>0</th>\n",
              "      <td>http://newmatdesign.ro/wp-admin/wewe/YAHOO/ya....</td>\n",
              "      <td>1</td>\n",
              "      <td>NaN</td>\n",
              "      <td>NaN</td>\n",
              "      <td>NaN</td>\n",
              "    </tr>\n",
              "    <tr>\n",
              "      <th>1</th>\n",
              "      <td>http://ca.linkedin.com/directory/people/ca/pou...</td>\n",
              "      <td>0</td>\n",
              "      <td>NaN</td>\n",
              "      <td>NaN</td>\n",
              "      <td>NaN</td>\n",
              "    </tr>\n",
              "    <tr>\n",
              "      <th>2</th>\n",
              "      <td>http://www.ccent.com.au/index.php?option=com_m...</td>\n",
              "      <td>1</td>\n",
              "      <td>NaN</td>\n",
              "      <td>NaN</td>\n",
              "      <td>NaN</td>\n",
              "    </tr>\n",
              "    <tr>\n",
              "      <th>3</th>\n",
              "      <td>http://applerugs.co.uk/rugs/product_info.php?p...</td>\n",
              "      <td>1</td>\n",
              "      <td>NaN</td>\n",
              "      <td>NaN</td>\n",
              "      <td>NaN</td>\n",
              "    </tr>\n",
              "    <tr>\n",
              "      <th>4</th>\n",
              "      <td>http://mo-artworks.com/blog/diverse-videos/ein...</td>\n",
              "      <td>1</td>\n",
              "      <td>NaN</td>\n",
              "      <td>NaN</td>\n",
              "      <td>NaN</td>\n",
              "    </tr>\n",
              "    <tr>\n",
              "      <th>5</th>\n",
              "      <td>http://spoke.com/info/pF2WnMN/ZachTrimmer</td>\n",
              "      <td>0</td>\n",
              "      <td>NaN</td>\n",
              "      <td>NaN</td>\n",
              "      <td>NaN</td>\n",
              "    </tr>\n",
              "    <tr>\n",
              "      <th>6</th>\n",
              "      <td>http://www.ricardoitalo.com.br/portal/index.ph...</td>\n",
              "      <td>1</td>\n",
              "      <td>NaN</td>\n",
              "      <td>NaN</td>\n",
              "      <td>NaN</td>\n",
              "    </tr>\n",
              "    <tr>\n",
              "      <th>7</th>\n",
              "      <td>http://sexshop-bg.biz/products?page=shop.produ...</td>\n",
              "      <td>1</td>\n",
              "      <td>NaN</td>\n",
              "      <td>NaN</td>\n",
              "      <td>NaN</td>\n",
              "    </tr>\n",
              "    <tr>\n",
              "      <th>8</th>\n",
              "      <td>http://www.beriva.lt/index.html?di=akcijos&amp;R=1...</td>\n",
              "      <td>1</td>\n",
              "      <td>NaN</td>\n",
              "      <td>NaN</td>\n",
              "      <td>NaN</td>\n",
              "    </tr>\n",
              "    <tr>\n",
              "      <th>9</th>\n",
              "      <td>http://ma.facevena.xyz/app/facebook.com/?lang=...</td>\n",
              "      <td>1</td>\n",
              "      <td>NaN</td>\n",
              "      <td>NaN</td>\n",
              "      <td>NaN</td>\n",
              "    </tr>\n",
              "    <tr>\n",
              "      <th>10</th>\n",
              "      <td>http://videosurf.com/dru-onyx-167504</td>\n",
              "      <td>0</td>\n",
              "      <td>NaN</td>\n",
              "      <td>NaN</td>\n",
              "      <td>NaN</td>\n",
              "    </tr>\n",
              "    <tr>\n",
              "      <th>11</th>\n",
              "      <td>http://familia-dacostagoa.blogspot.com/2009/03...</td>\n",
              "      <td>0</td>\n",
              "      <td>NaN</td>\n",
              "      <td>NaN</td>\n",
              "      <td>NaN</td>\n",
              "    </tr>\n",
              "    <tr>\n",
              "      <th>12</th>\n",
              "      <td>http://web.minorleaguebaseball.com/news/page.j...</td>\n",
              "      <td>0</td>\n",
              "      <td>NaN</td>\n",
              "      <td>NaN</td>\n",
              "      <td>NaN</td>\n",
              "    </tr>\n",
              "    <tr>\n",
              "      <th>13</th>\n",
              "      <td>http://www.nubiafarias.com/v1/index.php?option...</td>\n",
              "      <td>1</td>\n",
              "      <td>NaN</td>\n",
              "      <td>NaN</td>\n",
              "      <td>NaN</td>\n",
              "    </tr>\n",
              "    <tr>\n",
              "      <th>14</th>\n",
              "      <td>http://en.wikipedia.org/wiki/William_Shirley</td>\n",
              "      <td>0</td>\n",
              "      <td>NaN</td>\n",
              "      <td>NaN</td>\n",
              "      <td>NaN</td>\n",
              "    </tr>\n",
              "    <tr>\n",
              "      <th>15</th>\n",
              "      <td>http://avweb.com/avwebbiz/news/Heli_Expo_Next_...</td>\n",
              "      <td>0</td>\n",
              "      <td>NaN</td>\n",
              "      <td>NaN</td>\n",
              "      <td>NaN</td>\n",
              "    </tr>\n",
              "    <tr>\n",
              "      <th>16</th>\n",
              "      <td>http://www.userp.org.br/index.php?option=com_c...</td>\n",
              "      <td>1</td>\n",
              "      <td>NaN</td>\n",
              "      <td>NaN</td>\n",
              "      <td>NaN</td>\n",
              "    </tr>\n",
              "    <tr>\n",
              "      <th>17</th>\n",
              "      <td>http://www.futurdecastello.es/index.php?option...</td>\n",
              "      <td>1</td>\n",
              "      <td>NaN</td>\n",
              "      <td>NaN</td>\n",
              "      <td>NaN</td>\n",
              "    </tr>\n",
              "    <tr>\n",
              "      <th>18</th>\n",
              "      <td>http://sever-gorod.ru/index.php/2010-08-04-17-...</td>\n",
              "      <td>1</td>\n",
              "      <td>NaN</td>\n",
              "      <td>NaN</td>\n",
              "      <td>NaN</td>\n",
              "    </tr>\n",
              "    <tr>\n",
              "      <th>19</th>\n",
              "      <td>http://cdou.ru/mhr53p</td>\n",
              "      <td>1</td>\n",
              "      <td>NaN</td>\n",
              "      <td>NaN</td>\n",
              "      <td>NaN</td>\n",
              "    </tr>\n",
              "    <tr>\n",
              "      <th>20</th>\n",
              "      <td>http://brotherteeshow.com/</td>\n",
              "      <td>0</td>\n",
              "      <td>NaN</td>\n",
              "      <td>NaN</td>\n",
              "      <td>NaN</td>\n",
              "    </tr>\n",
              "    <tr>\n",
              "      <th>21</th>\n",
              "      <td>http://magicaltouch.co/487ygfh</td>\n",
              "      <td>1</td>\n",
              "      <td>NaN</td>\n",
              "      <td>NaN</td>\n",
              "      <td>NaN</td>\n",
              "    </tr>\n",
              "    <tr>\n",
              "      <th>22</th>\n",
              "      <td>http://nlbpa.com/paige__satchel.html</td>\n",
              "      <td>0</td>\n",
              "      <td>NaN</td>\n",
              "      <td>NaN</td>\n",
              "      <td>NaN</td>\n",
              "    </tr>\n",
              "    <tr>\n",
              "      <th>23</th>\n",
              "      <td>http://daymix.com/Jimmy-Rollins/</td>\n",
              "      <td>0</td>\n",
              "      <td>NaN</td>\n",
              "      <td>NaN</td>\n",
              "      <td>NaN</td>\n",
              "    </tr>\n",
              "    <tr>\n",
              "      <th>24</th>\n",
              "      <td>http://lyrics007.com/Gabrielle%20Destroismaiso...</td>\n",
              "      <td>0</td>\n",
              "      <td>NaN</td>\n",
              "      <td>NaN</td>\n",
              "      <td>NaN</td>\n",
              "    </tr>\n",
              "    <tr>\n",
              "      <th>25</th>\n",
              "      <td>http://westseattle.komonews.com/news/transport...</td>\n",
              "      <td>0</td>\n",
              "      <td>NaN</td>\n",
              "      <td>NaN</td>\n",
              "      <td>NaN</td>\n",
              "    </tr>\n",
              "    <tr>\n",
              "      <th>26</th>\n",
              "      <td>http://absoluteastronomy.com/topics/Pennsylvan...</td>\n",
              "      <td>0</td>\n",
              "      <td>NaN</td>\n",
              "      <td>NaN</td>\n",
              "      <td>NaN</td>\n",
              "    </tr>\n",
              "    <tr>\n",
              "      <th>27</th>\n",
              "      <td>http://www.easyphonia.com/rates-by-country/m</td>\n",
              "      <td>1</td>\n",
              "      <td>NaN</td>\n",
              "      <td>NaN</td>\n",
              "      <td>NaN</td>\n",
              "    </tr>\n",
              "    <tr>\n",
              "      <th>28</th>\n",
              "      <td>http://emgn.com/entertainment/what-does-a-week...</td>\n",
              "      <td>0</td>\n",
              "      <td>NaN</td>\n",
              "      <td>NaN</td>\n",
              "      <td>NaN</td>\n",
              "    </tr>\n",
              "    <tr>\n",
              "      <th>29</th>\n",
              "      <td>http://uk.ask.com/wiki/England_national_footba...</td>\n",
              "      <td>0</td>\n",
              "      <td>NaN</td>\n",
              "      <td>NaN</td>\n",
              "      <td>NaN</td>\n",
              "    </tr>\n",
              "  </tbody>\n",
              "</table>\n",
              "</div>"
            ],
            "text/plain": [
              "                                                    x  y  Unnamed: 2  \\\n",
              "0   http://newmatdesign.ro/wp-admin/wewe/YAHOO/ya....  1         NaN   \n",
              "1   http://ca.linkedin.com/directory/people/ca/pou...  0         NaN   \n",
              "2   http://www.ccent.com.au/index.php?option=com_m...  1         NaN   \n",
              "3   http://applerugs.co.uk/rugs/product_info.php?p...  1         NaN   \n",
              "4   http://mo-artworks.com/blog/diverse-videos/ein...  1         NaN   \n",
              "5           http://spoke.com/info/pF2WnMN/ZachTrimmer  0         NaN   \n",
              "6   http://www.ricardoitalo.com.br/portal/index.ph...  1         NaN   \n",
              "7   http://sexshop-bg.biz/products?page=shop.produ...  1         NaN   \n",
              "8   http://www.beriva.lt/index.html?di=akcijos&R=1...  1         NaN   \n",
              "9   http://ma.facevena.xyz/app/facebook.com/?lang=...  1         NaN   \n",
              "10               http://videosurf.com/dru-onyx-167504  0         NaN   \n",
              "11  http://familia-dacostagoa.blogspot.com/2009/03...  0         NaN   \n",
              "12  http://web.minorleaguebaseball.com/news/page.j...  0         NaN   \n",
              "13  http://www.nubiafarias.com/v1/index.php?option...  1         NaN   \n",
              "14       http://en.wikipedia.org/wiki/William_Shirley  0         NaN   \n",
              "15  http://avweb.com/avwebbiz/news/Heli_Expo_Next_...  0         NaN   \n",
              "16  http://www.userp.org.br/index.php?option=com_c...  1         NaN   \n",
              "17  http://www.futurdecastello.es/index.php?option...  1         NaN   \n",
              "18  http://sever-gorod.ru/index.php/2010-08-04-17-...  1         NaN   \n",
              "19                              http://cdou.ru/mhr53p  1         NaN   \n",
              "20                         http://brotherteeshow.com/  0         NaN   \n",
              "21                     http://magicaltouch.co/487ygfh  1         NaN   \n",
              "22               http://nlbpa.com/paige__satchel.html  0         NaN   \n",
              "23                   http://daymix.com/Jimmy-Rollins/  0         NaN   \n",
              "24  http://lyrics007.com/Gabrielle%20Destroismaiso...  0         NaN   \n",
              "25  http://westseattle.komonews.com/news/transport...  0         NaN   \n",
              "26  http://absoluteastronomy.com/topics/Pennsylvan...  0         NaN   \n",
              "27       http://www.easyphonia.com/rates-by-country/m  1         NaN   \n",
              "28  http://emgn.com/entertainment/what-does-a-week...  0         NaN   \n",
              "29  http://uk.ask.com/wiki/England_national_footba...  0         NaN   \n",
              "\n",
              "   Unnamed: 3  Unnamed: 4  \n",
              "0         NaN         NaN  \n",
              "1         NaN         NaN  \n",
              "2         NaN         NaN  \n",
              "3         NaN         NaN  \n",
              "4         NaN         NaN  \n",
              "5         NaN         NaN  \n",
              "6         NaN         NaN  \n",
              "7         NaN         NaN  \n",
              "8         NaN         NaN  \n",
              "9         NaN         NaN  \n",
              "10        NaN         NaN  \n",
              "11        NaN         NaN  \n",
              "12        NaN         NaN  \n",
              "13        NaN         NaN  \n",
              "14        NaN         NaN  \n",
              "15        NaN         NaN  \n",
              "16        NaN         NaN  \n",
              "17        NaN         NaN  \n",
              "18        NaN         NaN  \n",
              "19        NaN         NaN  \n",
              "20        NaN         NaN  \n",
              "21        NaN         NaN  \n",
              "22        NaN         NaN  \n",
              "23        NaN         NaN  \n",
              "24        NaN         NaN  \n",
              "25        NaN         NaN  \n",
              "26        NaN         NaN  \n",
              "27        NaN         NaN  \n",
              "28        NaN         NaN  \n",
              "29        NaN         NaN  "
            ]
          },
          "execution_count": 23,
          "metadata": {},
          "output_type": "execute_result"
        }
      ],
      "source": [
        "test_df = pd.read_csv('datasets/publish_test.csv')\n",
        "test_df.head(30)"
      ]
    },
    {
      "cell_type": "code",
      "execution_count": 24,
      "metadata": {
        "colab": {
          "base_uri": "https://localhost:8080/"
        },
        "id": "DBI0Pr3h-a3v",
        "outputId": "a7e9385d-f951-4005-a1b2-3332ebe31820"
      },
      "outputs": [
        {
          "name": "stdout",
          "output_type": "stream",
          "text": [
            "<class 'pandas.core.frame.DataFrame'>\n",
            "RangeIndex: 100 entries, 0 to 99\n",
            "Data columns (total 2 columns):\n",
            " #   Column  Non-Null Count  Dtype \n",
            "---  ------  --------------  ----- \n",
            " 0   x       100 non-null    object\n",
            " 1   y       100 non-null    object\n",
            "dtypes: object(2)\n",
            "memory usage: 1.7+ KB\n"
          ]
        }
      ],
      "source": [
        "test = test_df[['x','y']]\n",
        "\n",
        "test.isnull().sum()\n",
        "test.dropna()\n",
        "\n",
        "test.info()"
      ]
    },
    {
      "cell_type": "code",
      "execution_count": 25,
      "metadata": {
        "colab": {
          "base_uri": "https://localhost:8080/"
        },
        "id": "AZHUsOgPDYyR",
        "outputId": "1b724e0c-3786-46e0-e8a2-4fc6ea2b6dc6"
      },
      "outputs": [
        {
          "name": "stderr",
          "output_type": "stream",
          "text": [
            "C:\\Users\\PC\\AppData\\Local\\Temp\\ipykernel_17084\\2425266588.py:2: SettingWithCopyWarning: \n",
            "A value is trying to be set on a copy of a slice from a DataFrame\n",
            "\n",
            "See the caveats in the documentation: https://pandas.pydata.org/pandas-docs/stable/user_guide/indexing.html#returning-a-view-versus-a-copy\n",
            "  test.drop(indexValue , inplace=True)\n"
          ]
        }
      ],
      "source": [
        "indexValue = test[test['y'] == 'continue=to&amp'].index\n",
        "test.drop(indexValue , inplace=True)"
      ]
    },
    {
      "cell_type": "code",
      "execution_count": 26,
      "metadata": {
        "colab": {
          "base_uri": "https://localhost:8080/"
        },
        "id": "1gB8NAz89Rbj",
        "outputId": "f428b357-d851-46d3-e3fc-003719616046"
      },
      "outputs": [
        {
          "name": "stdout",
          "output_type": "stream",
          "text": [
            "[1 0 1 1 1 0 1 1 1 1 0 0 0 1 0 0 1 1 1 1 0 1 0 0 0 0 0 1 0 0 1 1 0 0 0 1 0\n",
            " 0 0 1 1 1 0 1 1 0 0 0 1 0 0 1 0 1 1 1 1 0 0 0 0 0 0 1 1 1 0 0 1 1 0 1 0 0\n",
            " 0 0 1 1 1 1 0 1 1 1 1 1 1 1 0 0 1 1 1 1 1 1 1 1 1]\n",
            "[1 0 1 0 0 1 1 0 1 1 0 1 1 1 0 0 1 1 1 0 0 1 0 0 0 0 0 1 0 0 1 1 0 1 1 1 0\n",
            " 0 0 0 1 1 0 0 1 0 0 0 0 0 0 0 0 0 1 1 1 0 0 0 0 0 0 0 1 1 0 0 1 1 0 1 0 0\n",
            " 0 0 1 1 1 1 0 1 0 1 0 1 1 0 0 0 1 1 1 1 1 1 1 1 1]\n"
          ]
        }
      ],
      "source": [
        "x_t = test['x']\n",
        "y_t = test['y'].astype(int)\n",
        "\n",
        "\n",
        "x_t = vectorizer.transform(x_t)\n",
        "y_t = np.asarray(y_t)\n",
        "print(y_t)\n",
        "\n",
        "y_pred_t = logreg.predict(x_t)\n",
        "print(y_pred_t)"
      ]
    },
    {
      "cell_type": "code",
      "execution_count": 27,
      "metadata": {
        "colab": {
          "base_uri": "https://localhost:8080/"
        },
        "id": "6RGcN5dICNIb",
        "outputId": "6a307fe3-94c7-4b88-f65f-368912fc5966"
      },
      "outputs": [
        {
          "data": {
            "text/plain": [
              "0.8181818181818182"
            ]
          },
          "execution_count": 27,
          "metadata": {},
          "output_type": "execute_result"
        }
      ],
      "source": [
        "logreg.score(x_t, y_t)"
      ]
    },
    {
      "cell_type": "code",
      "execution_count": 28,
      "metadata": {
        "colab": {
          "base_uri": "https://localhost:8080/"
        },
        "id": "1OBAcQ81CS6o",
        "outputId": "1eb58ef4-8139-48d5-cbb3-de9f34e82f63"
      },
      "outputs": [
        {
          "name": "stdout",
          "output_type": "stream",
          "text": [
            "0.6842105263157895\n"
          ]
        }
      ],
      "source": [
        "from sklearn.metrics import jaccard_score\n",
        "print(jaccard_score(y_t, y_pred_t,pos_label=0))"
      ]
    },
    {
      "cell_type": "code",
      "execution_count": 29,
      "metadata": {
        "colab": {
          "base_uri": "https://localhost:8080/"
        },
        "id": "gt2XXgouC_6_",
        "outputId": "894d7634-b2b7-4e21-ba7e-d538c58d8ec5"
      },
      "outputs": [
        {
          "name": "stdout",
          "output_type": "stream",
          "text": [
            "Accuracy: 0.82\n",
            "F1 score: 0.82\n"
          ]
        }
      ],
      "source": [
        "accuracy = accuracy_score(y_t, y_pred_t)\n",
        "f1 = f1_score(y_t, y_pred_t)\n",
        "\n",
        "print(f\"Accuracy: {accuracy:.2f}\")\n",
        "print(f\"F1 score: {f1:.2f}\")"
      ]
    },
    {
      "cell_type": "code",
      "execution_count": 30,
      "metadata": {
        "colab": {
          "base_uri": "https://localhost:8080/",
          "height": 568
        },
        "id": "cEQEJ8O2B4ta",
        "outputId": "4332a0bd-bb70-4202-88bb-5ce55a0b57b7"
      },
      "outputs": [
        {
          "data": {
            "text/plain": [
              "Text(0.5, 427.9555555555555, 'Predicted label')"
            ]
          },
          "execution_count": 30,
          "metadata": {},
          "output_type": "execute_result"
        },
        {
          "data": {
            "image/png": "[encoded data removed]",
            "text/plain": [
              "<Figure size 640x480 with 2 Axes>"
            ]
          },
          "metadata": {},
          "output_type": "display_data"
        }
      ],
      "source": [
        "cnf_matrix = metrics.confusion_matrix(y_t, y_pred_t)\n",
        "cnf_matrix\n",
        "\n",
        "class_names=[] # name  of classes\n",
        "fig, ax = plt.subplots()\n",
        "tick_marks = np.arange(len(class_names))\n",
        "plt.xticks(tick_marks, class_names)\n",
        "plt.yticks(tick_marks, class_names)\n",
        "# create heatmap\n",
        "sns.heatmap(pd.DataFrame(cnf_matrix), annot=True, cmap=\"YlGnBu\" ,fmt='g')\n",
        "ax.xaxis.set_label_position(\"top\")\n",
        "plt.tight_layout()\n",
        "plt.title('Confusion matrix', y=1.1)\n",
        "plt.ylabel('Actual label')\n",
        "plt.xlabel('Predicted label')"
      ]
    }
  ],
  "metadata": {
    "colab": {
      "include_colab_link": true,
      "provenance": []
    },
    "kernelspec": {
      "display_name": "base",
      "language": "python",
      "name": "python3"
    },
    "language_info": {
      "codemirror_mode": {
        "name": "ipython",
        "version": 3
      },
      "file_extension": ".py",
      "mimetype": "text/x-python",
      "name": "python",
      "nbconvert_exporter": "python",
      "pygments_lexer": "ipython3",
      "version": "3.10.10"
    },
    "orig_nbformat": 4
  },
  "nbformat": 4,
  "nbformat_minor": 0
}
