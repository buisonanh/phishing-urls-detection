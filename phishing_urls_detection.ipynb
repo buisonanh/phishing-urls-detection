{
  "cells": [
    {
      "cell_type": "code",
      "execution_count": 209,
      "metadata": {
        "id": "aapuo6zz2d4f",
        "colab": {
          "base_uri": "https://localhost:8080/"
        },
        "outputId": "e652d0dd-b548-4f11-b14a-5d651c160499"
      },
      "outputs": [
        {
          "output_type": "stream",
          "name": "stderr",
          "text": [
            "[nltk_data] Downloading package punkt to /root/nltk_data...\n",
            "[nltk_data]   Package punkt is already up-to-date!\n"
          ]
        }
      ],
      "source": [
        "import numpy as np\n",
        "import pandas as pd\n",
        "\n",
        "import nltk\n",
        "nltk.download('punkt')\n",
        "from nltk.tokenize import word_tokenize\n",
        "\n",
        "from tensorflow.keras.preprocessing.sequence import pad_sequences\n",
        "from tensorflow.keras.models import Sequential\n",
        "from tensorflow.keras.layers import Dense, Embedding, LSTM, SpatialDropout1D\n",
        "import re"
      ]
    },
    {
      "cell_type": "code",
      "source": [
        "from google.colab import drive\n",
        "drive.mount('/content/drive')"
      ],
      "metadata": {
        "id": "dRfnazY08hzc",
        "colab": {
          "base_uri": "https://localhost:8080/"
        },
        "outputId": "0aa08822-72a6-4770-8222-789e4c67412e"
      },
      "execution_count": 210,
      "outputs": [
        {
          "output_type": "stream",
          "name": "stdout",
          "text": [
            "Drive already mounted at /content/drive; to attempt to forcibly remount, call drive.mount(\"/content/drive\", force_remount=True).\n"
          ]
        }
      ]
    },
    {
      "cell_type": "code",
      "source": [
        "\"\"\"\n",
        "legit = pd.read_csv(\"/content/drive/MyDrive/DA20 - Final Project/Supervised Learning/legitimate_urls.csv\")\n",
        "phishing = pd.read_csv(\"/content/drive/MyDrive/DA20 - Final Project/Supervised Learning/phishing_urls.csv\")\n",
        "\n",
        "\n",
        "# add a 'status' column to the dataframes\n",
        "legit[\"status\"] = \"legitimate\"\n",
        "phishing[\"status\"] = \"phishing\"\n",
        "\n",
        "# combine the two dataframes\n",
        "df = pd.concat([legit, phishing], ignore_index=True)\n",
        "\n",
        "# shuffle the dataframe's rows randomly\n",
        "df = df.sample(frac=1, random_state=42) # Set random_state to an integer for reproducibility\n",
        "\n",
        "df\n",
        "\"\"\""
      ],
      "metadata": {
        "id": "ucaCAx2ydjro",
        "colab": {
          "base_uri": "https://localhost:8080/",
          "height": 70
        },
        "outputId": "4e430a71-f171-4eb1-f9b2-c0a1879c4abc"
      },
      "execution_count": 211,
      "outputs": [
        {
          "output_type": "execute_result",
          "data": {
            "text/plain": [
              "'\\nlegit = pd.read_csv(\"/content/drive/MyDrive/DA20 - Final Project/Supervised Learning/legitimate_urls.csv\")\\nphishing = pd.read_csv(\"/content/drive/MyDrive/DA20 - Final Project/Supervised Learning/phishing_urls.csv\")\\n\\n\\n# add a \\'status\\' column to the dataframes\\nlegit[\"status\"] = \"legitimate\"\\nphishing[\"status\"] = \"phishing\"\\n\\n# combine the two dataframes\\ndf = pd.concat([legit, phishing], ignore_index=True)\\n\\n# shuffle the dataframe\\'s rows randomly\\ndf = df.sample(frac=1, random_state=42) # Set random_state to an integer for reproducibility\\n\\ndf\\n'"
            ],
            "application/vnd.google.colaboratory.intrinsic+json": {
              "type": "string"
            }
          },
          "metadata": {},
          "execution_count": 211
        }
      ]
    },
    {
      "cell_type": "code",
      "source": [
        "df = pd.read_csv(\"/content/drive/MyDrive/DA20 - Final Project/Supervised Learning/urls.csv\")\n",
        "\n",
        "df.head(5)"
      ],
      "metadata": {
        "id": "6d-6ghwRx06_",
        "colab": {
          "base_uri": "https://localhost:8080/",
          "height": 206
        },
        "outputId": "2f4092ec-e42f-4aaa-d060-561a70ebb379"
      },
      "execution_count": 212,
      "outputs": [
        {
          "output_type": "execute_result",
          "data": {
            "text/plain": [
              "                                                 url      status\n",
              "0                                   br-icloud.com.br    phishing\n",
              "1                mp3raid.com/music/krizz_kaliko.html      benign\n",
              "2                    bopsecrets.org/rexroth/cr/1.htm      benign\n",
              "3  http://www.garage-pirenne.be/index.php?option=...  defacement\n",
              "4  http://adventure-nicaragua.net/index.php?optio...  defacement"
            ],
            "text/html": [
              "\n",
              "  <div id=\"df-9b7d721b-d188-478c-a16a-9fa407460b5b\">\n",
              "    <div class=\"colab-df-container\">\n",
              "      <div>\n",
              "<style scoped>\n",
              "    .dataframe tbody tr th:only-of-type {\n",
              "        vertical-align: middle;\n",
              "    }\n",
              "\n",
              "    .dataframe tbody tr th {\n",
              "        vertical-align: top;\n",
              "    }\n",
              "\n",
              "    .dataframe thead th {\n",
              "        text-align: right;\n",
              "    }\n",
              "</style>\n",
              "<table border=\"1\" class=\"dataframe\">\n",
              "  <thead>\n",
              "    <tr style=\"text-align: right;\">\n",
              "      <th></th>\n",
              "      <th>url</th>\n",
              "      <th>status</th>\n",
              "    </tr>\n",
              "  </thead>\n",
              "  <tbody>\n",
              "    <tr>\n",
              "      <th>0</th>\n",
              "      <td>br-icloud.com.br</td>\n",
              "      <td>phishing</td>\n",
              "    </tr>\n",
              "    <tr>\n",
              "      <th>1</th>\n",
              "      <td>mp3raid.com/music/krizz_kaliko.html</td>\n",
              "      <td>benign</td>\n",
              "    </tr>\n",
              "    <tr>\n",
              "      <th>2</th>\n",
              "      <td>bopsecrets.org/rexroth/cr/1.htm</td>\n",
              "      <td>benign</td>\n",
              "    </tr>\n",
              "    <tr>\n",
              "      <th>3</th>\n",
              "      <td>http://www.garage-pirenne.be/index.php?option=...</td>\n",
              "      <td>defacement</td>\n",
              "    </tr>\n",
              "    <tr>\n",
              "      <th>4</th>\n",
              "      <td>http://adventure-nicaragua.net/index.php?optio...</td>\n",
              "      <td>defacement</td>\n",
              "    </tr>\n",
              "  </tbody>\n",
              "</table>\n",
              "</div>\n",
              "      <button class=\"colab-df-convert\" onclick=\"convertToInteractive('df-9b7d721b-d188-478c-a16a-9fa407460b5b')\"\n",
              "              title=\"Convert this dataframe to an interactive table.\"\n",
              "              style=\"display:none;\">\n",
              "        \n",
              "  <svg xmlns=\"http://www.w3.org/2000/svg\" height=\"24px\"viewBox=\"0 0 24 24\"\n",
              "       width=\"24px\">\n",
              "    <path d=\"M0 0h24v24H0V0z\" fill=\"none\"/>\n",
              "    <path d=\"M18.56 5.44l.94 2.06.94-2.06 2.06-.94-2.06-.94-.94-2.06-.94 2.06-2.06.94zm-11 1L8.5 8.5l.94-2.06 2.06-.94-2.06-.94L8.5 2.5l-.94 2.06-2.06.94zm10 10l.94 2.06.94-2.06 2.06-.94-2.06-.94-.94-2.06-.94 2.06-2.06.94z\"/><path d=\"M17.41 7.96l-1.37-1.37c-.4-.4-.92-.59-1.43-.59-.52 0-1.04.2-1.43.59L10.3 9.45l-7.72 7.72c-.78.78-.78 2.05 0 2.83L4 21.41c.39.39.9.59 1.41.59.51 0 1.02-.2 1.41-.59l7.78-7.78 2.81-2.81c.8-.78.8-2.07 0-2.86zM5.41 20L4 18.59l7.72-7.72 1.47 1.35L5.41 20z\"/>\n",
              "  </svg>\n",
              "      </button>\n",
              "      \n",
              "  <style>\n",
              "    .colab-df-container {\n",
              "      display:flex;\n",
              "      flex-wrap:wrap;\n",
              "      gap: 12px;\n",
              "    }\n",
              "\n",
              "    .colab-df-convert {\n",
              "      background-color: #E8F0FE;\n",
              "      border: none;\n",
              "      border-radius: 50%;\n",
              "      cursor: pointer;\n",
              "      display: none;\n",
              "      fill: #1967D2;\n",
              "      height: 32px;\n",
              "      padding: 0 0 0 0;\n",
              "      width: 32px;\n",
              "    }\n",
              "\n",
              "    .colab-df-convert:hover {\n",
              "      background-color: #E2EBFA;\n",
              "      box-shadow: 0px 1px 2px rgba(60, 64, 67, 0.3), 0px 1px 3px 1px rgba(60, 64, 67, 0.15);\n",
              "      fill: #174EA6;\n",
              "    }\n",
              "\n",
              "    [theme=dark] .colab-df-convert {\n",
              "      background-color: #3B4455;\n",
              "      fill: #D2E3FC;\n",
              "    }\n",
              "\n",
              "    [theme=dark] .colab-df-convert:hover {\n",
              "      background-color: #434B5C;\n",
              "      box-shadow: 0px 1px 3px 1px rgba(0, 0, 0, 0.15);\n",
              "      filter: drop-shadow(0px 1px 2px rgba(0, 0, 0, 0.3));\n",
              "      fill: #FFFFFF;\n",
              "    }\n",
              "  </style>\n",
              "\n",
              "      <script>\n",
              "        const buttonEl =\n",
              "          document.querySelector('#df-9b7d721b-d188-478c-a16a-9fa407460b5b button.colab-df-convert');\n",
              "        buttonEl.style.display =\n",
              "          google.colab.kernel.accessAllowed ? 'block' : 'none';\n",
              "\n",
              "        async function convertToInteractive(key) {\n",
              "          const element = document.querySelector('#df-9b7d721b-d188-478c-a16a-9fa407460b5b');\n",
              "          const dataTable =\n",
              "            await google.colab.kernel.invokeFunction('convertToInteractive',\n",
              "                                                     [key], {});\n",
              "          if (!dataTable) return;\n",
              "\n",
              "          const docLinkHtml = 'Like what you see? Visit the ' +\n",
              "            '<a target=\"_blank\" href=https://colab.research.google.com/notebooks/data_table.ipynb>data table notebook</a>'\n",
              "            + ' to learn more about interactive tables.';\n",
              "          element.innerHTML = '';\n",
              "          dataTable['output_type'] = 'display_data';\n",
              "          await google.colab.output.renderOutput(dataTable, element);\n",
              "          const docLink = document.createElement('div');\n",
              "          docLink.innerHTML = docLinkHtml;\n",
              "          element.appendChild(docLink);\n",
              "        }\n",
              "      </script>\n",
              "    </div>\n",
              "  </div>\n",
              "  "
            ]
          },
          "metadata": {},
          "execution_count": 212
        }
      ]
    },
    {
      "cell_type": "code",
      "source": [
        "df.loc[df[\"status\"] == \"benign\", \"status\"] = 'legitimate'\n",
        "df.loc[df[\"status\"] == \"malware\", \"status\"] = 'phishing'\n",
        "df.loc[df[\"status\"] == \"defacement\", \"status\"] = 'phishing'"
      ],
      "metadata": {
        "id": "JCRe8nJo2XTu"
      },
      "execution_count": 213,
      "outputs": []
    },
    {
      "cell_type": "code",
      "execution_count": 214,
      "metadata": {
        "id": "6Y-Ns7t62d4j",
        "colab": {
          "base_uri": "https://localhost:8080/"
        },
        "outputId": "c04481d2-c841-4516-af27-7eaac1a00864"
      },
      "outputs": [
        {
          "output_type": "stream",
          "name": "stdout",
          "text": [
            "<class 'pandas.core.frame.DataFrame'>\n",
            "RangeIndex: 651191 entries, 0 to 651190\n",
            "Data columns (total 2 columns):\n",
            " #   Column  Non-Null Count   Dtype \n",
            "---  ------  --------------   ----- \n",
            " 0   url     651191 non-null  object\n",
            " 1   status  651191 non-null  object\n",
            "dtypes: object(2)\n",
            "memory usage: 9.9+ MB\n"
          ]
        }
      ],
      "source": [
        "df.info()"
      ]
    },
    {
      "cell_type": "code",
      "execution_count": 215,
      "metadata": {
        "id": "_62ILMT72d4j",
        "colab": {
          "base_uri": "https://localhost:8080/",
          "height": 423
        },
        "outputId": "845452a5-ff38-4aa3-f03c-12790bdaa6c0"
      },
      "outputs": [
        {
          "output_type": "execute_result",
          "data": {
            "text/plain": [
              "                                                      url      status\n",
              "0                                        br-icloud.com.br    phishing\n",
              "1                     mp3raid.com/music/krizz_kaliko.html  legitimate\n",
              "2                         bopsecrets.org/rexroth/cr/1.htm  legitimate\n",
              "3       http://www.garage-pirenne.be/index.php?option=...    phishing\n",
              "4       http://adventure-nicaragua.net/index.php?optio...    phishing\n",
              "...                                                   ...         ...\n",
              "651186            xbox360.ign.com/objects/850/850402.html    phishing\n",
              "651187       games.teamxbox.com/xbox-360/1860/Dead-Space/    phishing\n",
              "651188         www.gamespot.com/xbox360/action/deadspace/    phishing\n",
              "651189      en.wikipedia.org/wiki/Dead_Space_(video_game)    phishing\n",
              "651190          www.angelfire.com/goth/devilmaycrytonite/    phishing\n",
              "\n",
              "[651191 rows x 2 columns]"
            ],
            "text/html": [
              "\n",
              "  <div id=\"df-109b99ea-5d03-40a7-adf7-58b059e21082\">\n",
              "    <div class=\"colab-df-container\">\n",
              "      <div>\n",
              "<style scoped>\n",
              "    .dataframe tbody tr th:only-of-type {\n",
              "        vertical-align: middle;\n",
              "    }\n",
              "\n",
              "    .dataframe tbody tr th {\n",
              "        vertical-align: top;\n",
              "    }\n",
              "\n",
              "    .dataframe thead th {\n",
              "        text-align: right;\n",
              "    }\n",
              "</style>\n",
              "<table border=\"1\" class=\"dataframe\">\n",
              "  <thead>\n",
              "    <tr style=\"text-align: right;\">\n",
              "      <th></th>\n",
              "      <th>url</th>\n",
              "      <th>status</th>\n",
              "    </tr>\n",
              "  </thead>\n",
              "  <tbody>\n",
              "    <tr>\n",
              "      <th>0</th>\n",
              "      <td>br-icloud.com.br</td>\n",
              "      <td>phishing</td>\n",
              "    </tr>\n",
              "    <tr>\n",
              "      <th>1</th>\n",
              "      <td>mp3raid.com/music/krizz_kaliko.html</td>\n",
              "      <td>legitimate</td>\n",
              "    </tr>\n",
              "    <tr>\n",
              "      <th>2</th>\n",
              "      <td>bopsecrets.org/rexroth/cr/1.htm</td>\n",
              "      <td>legitimate</td>\n",
              "    </tr>\n",
              "    <tr>\n",
              "      <th>3</th>\n",
              "      <td>http://www.garage-pirenne.be/index.php?option=...</td>\n",
              "      <td>phishing</td>\n",
              "    </tr>\n",
              "    <tr>\n",
              "      <th>4</th>\n",
              "      <td>http://adventure-nicaragua.net/index.php?optio...</td>\n",
              "      <td>phishing</td>\n",
              "    </tr>\n",
              "    <tr>\n",
              "      <th>...</th>\n",
              "      <td>...</td>\n",
              "      <td>...</td>\n",
              "    </tr>\n",
              "    <tr>\n",
              "      <th>651186</th>\n",
              "      <td>xbox360.ign.com/objects/850/850402.html</td>\n",
              "      <td>phishing</td>\n",
              "    </tr>\n",
              "    <tr>\n",
              "      <th>651187</th>\n",
              "      <td>games.teamxbox.com/xbox-360/1860/Dead-Space/</td>\n",
              "      <td>phishing</td>\n",
              "    </tr>\n",
              "    <tr>\n",
              "      <th>651188</th>\n",
              "      <td>www.gamespot.com/xbox360/action/deadspace/</td>\n",
              "      <td>phishing</td>\n",
              "    </tr>\n",
              "    <tr>\n",
              "      <th>651189</th>\n",
              "      <td>en.wikipedia.org/wiki/Dead_Space_(video_game)</td>\n",
              "      <td>phishing</td>\n",
              "    </tr>\n",
              "    <tr>\n",
              "      <th>651190</th>\n",
              "      <td>www.angelfire.com/goth/devilmaycrytonite/</td>\n",
              "      <td>phishing</td>\n",
              "    </tr>\n",
              "  </tbody>\n",
              "</table>\n",
              "<p>651191 rows × 2 columns</p>\n",
              "</div>\n",
              "      <button class=\"colab-df-convert\" onclick=\"convertToInteractive('df-109b99ea-5d03-40a7-adf7-58b059e21082')\"\n",
              "              title=\"Convert this dataframe to an interactive table.\"\n",
              "              style=\"display:none;\">\n",
              "        \n",
              "  <svg xmlns=\"http://www.w3.org/2000/svg\" height=\"24px\"viewBox=\"0 0 24 24\"\n",
              "       width=\"24px\">\n",
              "    <path d=\"M0 0h24v24H0V0z\" fill=\"none\"/>\n",
              "    <path d=\"M18.56 5.44l.94 2.06.94-2.06 2.06-.94-2.06-.94-.94-2.06-.94 2.06-2.06.94zm-11 1L8.5 8.5l.94-2.06 2.06-.94-2.06-.94L8.5 2.5l-.94 2.06-2.06.94zm10 10l.94 2.06.94-2.06 2.06-.94-2.06-.94-.94-2.06-.94 2.06-2.06.94z\"/><path d=\"M17.41 7.96l-1.37-1.37c-.4-.4-.92-.59-1.43-.59-.52 0-1.04.2-1.43.59L10.3 9.45l-7.72 7.72c-.78.78-.78 2.05 0 2.83L4 21.41c.39.39.9.59 1.41.59.51 0 1.02-.2 1.41-.59l7.78-7.78 2.81-2.81c.8-.78.8-2.07 0-2.86zM5.41 20L4 18.59l7.72-7.72 1.47 1.35L5.41 20z\"/>\n",
              "  </svg>\n",
              "      </button>\n",
              "      \n",
              "  <style>\n",
              "    .colab-df-container {\n",
              "      display:flex;\n",
              "      flex-wrap:wrap;\n",
              "      gap: 12px;\n",
              "    }\n",
              "\n",
              "    .colab-df-convert {\n",
              "      background-color: #E8F0FE;\n",
              "      border: none;\n",
              "      border-radius: 50%;\n",
              "      cursor: pointer;\n",
              "      display: none;\n",
              "      fill: #1967D2;\n",
              "      height: 32px;\n",
              "      padding: 0 0 0 0;\n",
              "      width: 32px;\n",
              "    }\n",
              "\n",
              "    .colab-df-convert:hover {\n",
              "      background-color: #E2EBFA;\n",
              "      box-shadow: 0px 1px 2px rgba(60, 64, 67, 0.3), 0px 1px 3px 1px rgba(60, 64, 67, 0.15);\n",
              "      fill: #174EA6;\n",
              "    }\n",
              "\n",
              "    [theme=dark] .colab-df-convert {\n",
              "      background-color: #3B4455;\n",
              "      fill: #D2E3FC;\n",
              "    }\n",
              "\n",
              "    [theme=dark] .colab-df-convert:hover {\n",
              "      background-color: #434B5C;\n",
              "      box-shadow: 0px 1px 3px 1px rgba(0, 0, 0, 0.15);\n",
              "      filter: drop-shadow(0px 1px 2px rgba(0, 0, 0, 0.3));\n",
              "      fill: #FFFFFF;\n",
              "    }\n",
              "  </style>\n",
              "\n",
              "      <script>\n",
              "        const buttonEl =\n",
              "          document.querySelector('#df-109b99ea-5d03-40a7-adf7-58b059e21082 button.colab-df-convert');\n",
              "        buttonEl.style.display =\n",
              "          google.colab.kernel.accessAllowed ? 'block' : 'none';\n",
              "\n",
              "        async function convertToInteractive(key) {\n",
              "          const element = document.querySelector('#df-109b99ea-5d03-40a7-adf7-58b059e21082');\n",
              "          const dataTable =\n",
              "            await google.colab.kernel.invokeFunction('convertToInteractive',\n",
              "                                                     [key], {});\n",
              "          if (!dataTable) return;\n",
              "\n",
              "          const docLinkHtml = 'Like what you see? Visit the ' +\n",
              "            '<a target=\"_blank\" href=https://colab.research.google.com/notebooks/data_table.ipynb>data table notebook</a>'\n",
              "            + ' to learn more about interactive tables.';\n",
              "          element.innerHTML = '';\n",
              "          dataTable['output_type'] = 'display_data';\n",
              "          await google.colab.output.renderOutput(dataTable, element);\n",
              "          const docLink = document.createElement('div');\n",
              "          docLink.innerHTML = docLinkHtml;\n",
              "          element.appendChild(docLink);\n",
              "        }\n",
              "      </script>\n",
              "    </div>\n",
              "  </div>\n",
              "  "
            ]
          },
          "metadata": {},
          "execution_count": 215
        }
      ],
      "source": [
        "df.isnull().sum()\n",
        "df.dropna(inplace = True)\n",
        "df"
      ]
    },
    {
      "cell_type": "code",
      "execution_count": 216,
      "metadata": {
        "id": "eiigc8zw2d4j",
        "colab": {
          "base_uri": "https://localhost:8080/"
        },
        "outputId": "5413f6cd-4f6b-4adb-b626-d3ce6d57c3ec"
      },
      "outputs": [
        {
          "output_type": "stream",
          "name": "stdout",
          "text": [
            "0 -> legitimate\n",
            "1 -> phishing\n"
          ]
        }
      ],
      "source": [
        "# Data selection\n",
        "feature_df = df['url']\n",
        "status_df = df['status']\n",
        "\n",
        "# Transform data\n",
        "from sklearn.feature_extraction.text import CountVectorizer\n",
        "from sklearn.preprocessing import LabelEncoder\n",
        "\n",
        "# Vectorize URLs\n",
        "vectorizer = CountVectorizer()\n",
        "feature_vec = vectorizer.fit_transform(feature_df)\n",
        "\n",
        "\n",
        "\n",
        "# Encode status column\n",
        "label_encoder = LabelEncoder()\n",
        "status_arr = label_encoder.fit_transform(status_df)\n",
        "\n",
        "label_encoder = LabelEncoder()\n",
        "status_arr = label_encoder.fit_transform(status_df)\n",
        "\n",
        "# Get class labels and corresponding encoded values\n",
        "class_labels = label_encoder.classes_\n",
        "class_encodings = label_encoder.transform(class_labels)\n",
        "\n",
        "# Print class labels and their corresponding encoded values\n",
        "for label, encoding in zip(class_labels, class_encodings):\n",
        "    print(f\"{encoding} -> {label}\")\n"
      ]
    },
    {
      "cell_type": "code",
      "execution_count": 217,
      "metadata": {
        "id": "yjaPOK6E2d4k",
        "colab": {
          "base_uri": "https://localhost:8080/"
        },
        "outputId": "8784b3d4-9795-4468-f1ab-96fc97d8b155"
      },
      "outputs": [
        {
          "output_type": "stream",
          "name": "stdout",
          "text": [
            "Train:  488393\n",
            "Test:  162798\n"
          ]
        }
      ],
      "source": [
        "#chia tap train, test\n",
        "from sklearn.model_selection import train_test_split\n",
        "\n",
        "x_train, x_test, y_train, y_test = train_test_split(feature_vec, status_arr, test_size=0.25, random_state=42)\n",
        "\n",
        "print('Train: ', x_train.shape[0])\n",
        "print('Test: ', x_test.shape[0])"
      ]
    },
    {
      "cell_type": "code",
      "source": [
        "#modeling lbfgs\n",
        "from sklearn.linear_model import LogisticRegression\n",
        "\n",
        "logreg = LogisticRegression(solver='lbfgs',C= 10, class_weight= 'balanced', max_iter= 500, penalty= 'l2')\n",
        "lr_lbfgs = logreg.fit(x_train,y_train)\n"
      ],
      "metadata": {
        "id": "MuV0ihfU-45s",
        "colab": {
          "base_uri": "https://localhost:8080/"
        },
        "outputId": "7bd8d9e0-0a24-4878-8f7e-367386102c4f"
      },
      "execution_count": 218,
      "outputs": [
        {
          "output_type": "stream",
          "name": "stderr",
          "text": [
            "/usr/local/lib/python3.9/dist-packages/sklearn/linear_model/_logistic.py:458: ConvergenceWarning: lbfgs failed to converge (status=1):\n",
            "STOP: TOTAL NO. of ITERATIONS REACHED LIMIT.\n",
            "\n",
            "Increase the number of iterations (max_iter) or scale the data as shown in:\n",
            "    https://scikit-learn.org/stable/modules/preprocessing.html\n",
            "Please also refer to the documentation for alternative solver options:\n",
            "    https://scikit-learn.org/stable/modules/linear_model.html#logistic-regression\n",
            "  n_iter_i = _check_optimize_result(\n"
          ]
        }
      ]
    },
    {
      "cell_type": "code",
      "source": [
        "\"\"\"\n",
        "from sklearn.model_selection import GridSearchCV\n",
        "\n",
        "param_grid = {'C': [0.001, 0.01, 0.1, 1, 10],\n",
        "              'penalty': ['l1', 'l2'],\n",
        "              'max_iter': [100, 500, 1000],\n",
        "              'class_weight': [None, 'balanced']}\n",
        "\n",
        "grid_search = GridSearchCV(LogisticRegression(solver='lbfgs'),\n",
        "                           param_grid,\n",
        "                           cv=5,\n",
        "                           scoring='accuracy',\n",
        "                           n_jobs=-1)\n",
        "\n",
        "grid_search.fit(x_train, y_train)\n",
        "\n",
        "print(f\"Best parameters: {grid_search.best_params_}\")\n",
        "print(f\"Best cross-validation score: {grid_search.best_score_}\")\n",
        "\n",
        "\n",
        "# Output:\n",
        "# Best parameters: {'C': 10, 'class_weight': 'balanced', 'max_iter': 500, 'penalty': 'l2'}\n",
        "# Best cross-validation score: 0.9602328470257125\n",
        "\"\"\""
      ],
      "metadata": {
        "id": "6AufC_QjD8s6"
      },
      "execution_count": null,
      "outputs": []
    },
    {
      "cell_type": "code",
      "source": [
        "y_pred=logreg.predict(x_test)\n",
        "print(y_pred)"
      ],
      "metadata": {
        "id": "76e9ATr9HpmE"
      },
      "execution_count": null,
      "outputs": []
    },
    {
      "cell_type": "code",
      "source": [
        "from sklearn.metrics import jaccard_score\n",
        "print(jaccard_score(y_test, y_pred,pos_label=0))"
      ],
      "metadata": {
        "id": "WNN7_ctNHwWN"
      },
      "execution_count": null,
      "outputs": []
    },
    {
      "cell_type": "code",
      "source": [
        "logreg.score(x_test, y_test)"
      ],
      "metadata": {
        "id": "BkJYzuQyRasS"
      },
      "execution_count": null,
      "outputs": []
    },
    {
      "cell_type": "code",
      "source": [
        "from sklearn.metrics import accuracy_score, f1_score\n",
        "\n",
        "accuracy = accuracy_score(y_test, y_pred)\n",
        "f1 = f1_score(y_test, y_pred)\n",
        "\n",
        "print(f\"Accuracy: {accuracy:.2f}\")\n",
        "print(f\"F1 score: {f1:.2f}\")\n"
      ],
      "metadata": {
        "id": "rFJtuw8LVpTU"
      },
      "execution_count": null,
      "outputs": []
    },
    {
      "cell_type": "code",
      "source": [
        "from sklearn import metrics\n",
        "cnf_matrix = metrics.confusion_matrix(y_test, y_pred)\n",
        "cnf_matrix"
      ],
      "metadata": {
        "id": "_hOcoglSJtfd"
      },
      "execution_count": null,
      "outputs": []
    },
    {
      "cell_type": "code",
      "source": [
        "import numpy as np\n",
        "import matplotlib.pyplot as plt\n",
        "import seaborn as sns\n",
        "class_names=[] # name  of classes\n",
        "fig, ax = plt.subplots()\n",
        "tick_marks = np.arange(len(class_names))\n",
        "plt.xticks(tick_marks, class_names)\n",
        "plt.yticks(tick_marks, class_names)\n",
        "# create heatmap\n",
        "sns.heatmap(pd.DataFrame(cnf_matrix), annot=True, cmap=\"YlGnBu\" ,fmt='g')\n",
        "ax.xaxis.set_label_position(\"top\")\n",
        "plt.tight_layout()\n",
        "plt.title('Confusion matrix', y=1.1)\n",
        "plt.ylabel('Actual label')\n",
        "plt.xlabel('Predicted label')"
      ],
      "metadata": {
        "id": "RNyusU6MH5m6"
      },
      "execution_count": null,
      "outputs": []
    },
    {
      "cell_type": "code",
      "source": [
        "\"\"\"\n",
        "new_url = input('Enter an URL to test: ')\n",
        "\n",
        "# Transform features into same format as training data\n",
        "new_vector = vectorizer.transform([new_url])\n",
        "\n",
        "# Make prediction using trained model\n",
        "prediction = logreg.predict(new_vector)\n",
        "\n",
        "if prediction[0] == 0:\n",
        "  print('Legitimate')\n",
        "else:\n",
        "  print('Phishing')\n",
        "\"\"\""
      ],
      "metadata": {
        "id": "CIcIiLqbLoA7"
      },
      "execution_count": null,
      "outputs": []
    },
    {
      "cell_type": "markdown",
      "source": [
        "## Test"
      ],
      "metadata": {
        "id": "rC6GNhbJ8PLl"
      }
    },
    {
      "cell_type": "code",
      "source": [
        "test_df = pd.read_csv('/content/drive/MyDrive/DA20 - Final Project/Supervised Learning/publish_test.csv')\n",
        "test_df.head()"
      ],
      "metadata": {
        "id": "FxjxRK0T8Od4"
      },
      "execution_count": null,
      "outputs": []
    },
    {
      "cell_type": "code",
      "source": [
        "test = test_df[['x','y']]\n",
        "\n",
        "test.isnull().sum()\n",
        "test.dropna()\n",
        "\n",
        "test.info()"
      ],
      "metadata": {
        "id": "DBI0Pr3h-a3v"
      },
      "execution_count": null,
      "outputs": []
    },
    {
      "cell_type": "code",
      "source": [
        "indexValue = test[test['y'] == 'continue=to&amp'].index\n",
        "test.drop(indexValue , inplace=True)"
      ],
      "metadata": {
        "id": "AZHUsOgPDYyR"
      },
      "execution_count": null,
      "outputs": []
    },
    {
      "cell_type": "code",
      "source": [
        "x_t = test['x']\n",
        "y_t = test['y'].astype(int)\n",
        "\n",
        "\n",
        "x_t = vectorizer.transform(x_t)\n",
        "y_t = np.asarray(y_t)\n",
        "print(y_t)\n",
        "\n",
        "y_pred_t = logreg.predict(x_t)\n",
        "print(y_pred_t)"
      ],
      "metadata": {
        "id": "1gB8NAz89Rbj"
      },
      "execution_count": null,
      "outputs": []
    },
    {
      "cell_type": "code",
      "source": [
        "logreg.score(x_t, y_t)"
      ],
      "metadata": {
        "id": "6RGcN5dICNIb"
      },
      "execution_count": null,
      "outputs": []
    },
    {
      "cell_type": "code",
      "source": [
        "from sklearn.metrics import jaccard_score\n",
        "print(jaccard_score(y_t, y_pred_t,pos_label=0))"
      ],
      "metadata": {
        "id": "1OBAcQ81CS6o"
      },
      "execution_count": null,
      "outputs": []
    },
    {
      "cell_type": "code",
      "source": [
        "accuracy = accuracy_score(y_t, y_pred_t)\n",
        "f1 = f1_score(y_t, y_pred_t)\n",
        "\n",
        "print(f\"Accuracy: {accuracy:.2f}\")\n",
        "print(f\"F1 score: {f1:.2f}\")"
      ],
      "metadata": {
        "id": "gt2XXgouC_6_"
      },
      "execution_count": null,
      "outputs": []
    }
  ],
  "metadata": {
    "kernelspec": {
      "display_name": "base",
      "language": "python",
      "name": "python3"
    },
    "language_info": {
      "codemirror_mode": {
        "name": "ipython",
        "version": 3
      },
      "file_extension": ".py",
      "mimetype": "text/x-python",
      "name": "python",
      "nbconvert_exporter": "python",
      "pygments_lexer": "ipython3",
      "version": "3.10.10"
    },
    "orig_nbformat": 4,
    "colab": {
      "provenance": []
    }
  },
  "nbformat": 4,
  "nbformat_minor": 0
}