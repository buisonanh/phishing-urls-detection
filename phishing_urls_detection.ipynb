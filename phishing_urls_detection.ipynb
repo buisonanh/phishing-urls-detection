{
 "cells": [
  {
   "cell_type": "code",
   "execution_count": 6,
   "metadata": {},
   "outputs": [
    {
     "name": "stdout",
     "output_type": "stream",
     "text": [
      "Collecting numpy\n",
      "  Downloading numpy-1.24.2-cp39-cp39-win_amd64.whl (14.9 MB)\n",
      "Installing collected packages: numpy\n",
      "Successfully installed numpy-1.24.2\n",
      "Collecting pandas\n",
      "  Downloading pandas-2.0.0-cp39-cp39-win_amd64.whl (11.3 MB)\n",
      "Requirement already satisfied: numpy>=1.20.3 in c:\\users\\admin\\miniconda3\\lib\\site-packages (from pandas) (1.24.2)\n",
      "Collecting tzdata>=2022.1\n",
      "  Downloading tzdata-2023.3-py2.py3-none-any.whl (341 kB)\n",
      "Collecting pytz>=2020.1\n",
      "  Downloading pytz-2023.3-py2.py3-none-any.whl (502 kB)\n",
      "Requirement already satisfied: python-dateutil>=2.8.2 in c:\\users\\admin\\appdata\\roaming\\python\\python39\\site-packages (from pandas) (2.8.2)\n",
      "Requirement already satisfied: six>=1.5 in c:\\users\\admin\\appdata\\roaming\\python\\python39\\site-packages (from python-dateutil>=2.8.2->pandas) (1.15.0)\n",
      "Installing collected packages: tzdata, pytz, pandas\n",
      "Successfully installed pandas-2.0.0 pytz-2023.3 tzdata-2023.3\n"
     ]
    }
   ],
   "source": [
    "!pip install numpy\n",
    "!pip install pandas"
   ]
  },
  {
   "cell_type": "code",
   "execution_count": 7,
   "metadata": {},
   "outputs": [],
   "source": [
    "import numpy as np\n",
    "import pandas as pd"
   ]
  },
  {
   "cell_type": "code",
   "execution_count": 8,
   "metadata": {},
   "outputs": [
    {
     "data": {
      "text/html": [
       "<div>\n",
       "<style scoped>\n",
       "    .dataframe tbody tr th:only-of-type {\n",
       "        vertical-align: middle;\n",
       "    }\n",
       "\n",
       "    .dataframe tbody tr th {\n",
       "        vertical-align: top;\n",
       "    }\n",
       "\n",
       "    .dataframe thead th {\n",
       "        text-align: right;\n",
       "    }\n",
       "</style>\n",
       "<table border=\"1\" class=\"dataframe\">\n",
       "  <thead>\n",
       "    <tr style=\"text-align: right;\">\n",
       "      <th></th>\n",
       "      <th>phish_id</th>\n",
       "      <th>url</th>\n",
       "      <th>phish_detail_url</th>\n",
       "      <th>submission_time</th>\n",
       "      <th>verified</th>\n",
       "      <th>verification_time</th>\n",
       "      <th>online</th>\n",
       "      <th>target</th>\n",
       "    </tr>\n",
       "  </thead>\n",
       "  <tbody>\n",
       "    <tr>\n",
       "      <th>0</th>\n",
       "      <td>8121514</td>\n",
       "      <td>https://ipfs.io/ipfs/QmcW7EJ188qhHQEpdA9AwMK2t...</td>\n",
       "      <td>http://www.phishtank.com/phish_detail.php?phis...</td>\n",
       "      <td>2023-04-19T05:59:56+00:00</td>\n",
       "      <td>yes</td>\n",
       "      <td>2023-04-19T06:06:33+00:00</td>\n",
       "      <td>yes</td>\n",
       "      <td>Other</td>\n",
       "    </tr>\n",
       "    <tr>\n",
       "      <th>1</th>\n",
       "      <td>8121502</td>\n",
       "      <td>http://mvgsnktwxf.duckdns.org</td>\n",
       "      <td>http://www.phishtank.com/phish_detail.php?phis...</td>\n",
       "      <td>2023-04-19T05:40:25+00:00</td>\n",
       "      <td>yes</td>\n",
       "      <td>2023-04-19T05:45:28+00:00</td>\n",
       "      <td>yes</td>\n",
       "      <td>Apple</td>\n",
       "    </tr>\n",
       "    <tr>\n",
       "      <th>2</th>\n",
       "      <td>8121499</td>\n",
       "      <td>https://app-paylah.life</td>\n",
       "      <td>http://www.phishtank.com/phish_detail.php?phis...</td>\n",
       "      <td>2023-04-19T05:35:51+00:00</td>\n",
       "      <td>yes</td>\n",
       "      <td>2023-04-19T05:45:28+00:00</td>\n",
       "      <td>yes</td>\n",
       "      <td>Other</td>\n",
       "    </tr>\n",
       "    <tr>\n",
       "      <th>3</th>\n",
       "      <td>8121497</td>\n",
       "      <td>https://apppaylah.top</td>\n",
       "      <td>http://www.phishtank.com/phish_detail.php?phis...</td>\n",
       "      <td>2023-04-19T05:26:32+00:00</td>\n",
       "      <td>yes</td>\n",
       "      <td>2023-04-19T05:36:17+00:00</td>\n",
       "      <td>yes</td>\n",
       "      <td>Other</td>\n",
       "    </tr>\n",
       "    <tr>\n",
       "      <th>4</th>\n",
       "      <td>8121495</td>\n",
       "      <td>https://directhk.com/</td>\n",
       "      <td>http://www.phishtank.com/phish_detail.php?phis...</td>\n",
       "      <td>2023-04-19T05:25:12+00:00</td>\n",
       "      <td>yes</td>\n",
       "      <td>2023-04-19T05:36:17+00:00</td>\n",
       "      <td>yes</td>\n",
       "      <td>Other</td>\n",
       "    </tr>\n",
       "  </tbody>\n",
       "</table>\n",
       "</div>"
      ],
      "text/plain": [
       "   phish_id                                                url   \n",
       "0   8121514  https://ipfs.io/ipfs/QmcW7EJ188qhHQEpdA9AwMK2t...  \\\n",
       "1   8121502                      http://mvgsnktwxf.duckdns.org   \n",
       "2   8121499                            https://app-paylah.life   \n",
       "3   8121497                              https://apppaylah.top   \n",
       "4   8121495                              https://directhk.com/   \n",
       "\n",
       "                                    phish_detail_url   \n",
       "0  http://www.phishtank.com/phish_detail.php?phis...  \\\n",
       "1  http://www.phishtank.com/phish_detail.php?phis...   \n",
       "2  http://www.phishtank.com/phish_detail.php?phis...   \n",
       "3  http://www.phishtank.com/phish_detail.php?phis...   \n",
       "4  http://www.phishtank.com/phish_detail.php?phis...   \n",
       "\n",
       "             submission_time verified          verification_time online target  \n",
       "0  2023-04-19T05:59:56+00:00      yes  2023-04-19T06:06:33+00:00    yes  Other  \n",
       "1  2023-04-19T05:40:25+00:00      yes  2023-04-19T05:45:28+00:00    yes  Apple  \n",
       "2  2023-04-19T05:35:51+00:00      yes  2023-04-19T05:45:28+00:00    yes  Other  \n",
       "3  2023-04-19T05:26:32+00:00      yes  2023-04-19T05:36:17+00:00    yes  Other  \n",
       "4  2023-04-19T05:25:12+00:00      yes  2023-04-19T05:36:17+00:00    yes  Other  "
      ]
     },
     "execution_count": 8,
     "metadata": {},
     "output_type": "execute_result"
    }
   ],
   "source": [
    "df = pd.read_csv('phishing_urls.csv')\n",
    "df.head()"
   ]
  },
  {
   "cell_type": "code",
   "execution_count": 10,
   "metadata": {},
   "outputs": [
    {
     "name": "stdout",
     "output_type": "stream",
     "text": [
      "<class 'pandas.core.frame.DataFrame'>\n",
      "RangeIndex: 56591 entries, 0 to 56590\n",
      "Data columns (total 8 columns):\n",
      " #   Column             Non-Null Count  Dtype \n",
      "---  ------             --------------  ----- \n",
      " 0   phish_id           56591 non-null  int64 \n",
      " 1   url                56591 non-null  object\n",
      " 2   phish_detail_url   56591 non-null  object\n",
      " 3   submission_time    56591 non-null  object\n",
      " 4   verified           56591 non-null  object\n",
      " 5   verification_time  56591 non-null  object\n",
      " 6   online             56591 non-null  object\n",
      " 7   target             56591 non-null  object\n",
      "dtypes: int64(1), object(7)\n",
      "memory usage: 3.5+ MB\n"
     ]
    }
   ],
   "source": [
    "df.info()"
   ]
  },
  {
   "cell_type": "code",
   "execution_count": 13,
   "metadata": {},
   "outputs": [
    {
     "data": {
      "text/plain": [
       "phish_id             0\n",
       "url                  0\n",
       "phish_detail_url     0\n",
       "submission_time      0\n",
       "verified             0\n",
       "verification_time    0\n",
       "online               0\n",
       "target               0\n",
       "dtype: int64"
      ]
     },
     "execution_count": 13,
     "metadata": {},
     "output_type": "execute_result"
    }
   ],
   "source": [
    "df.isnull().sum()"
   ]
  },
  {
   "cell_type": "code",
   "execution_count": null,
   "metadata": {},
   "outputs": [],
   "source": []
  }
 ],
 "metadata": {
  "kernelspec": {
   "display_name": "base",
   "language": "python",
   "name": "python3"
  },
  "language_info": {
   "codemirror_mode": {
    "name": "ipython",
    "version": 3
   },
   "file_extension": ".py",
   "mimetype": "text/x-python",
   "name": "python",
   "nbconvert_exporter": "python",
   "pygments_lexer": "ipython3",
   "version": "3.9.12"
  },
  "orig_nbformat": 4
 },
 "nbformat": 4,
 "nbformat_minor": 2
}
