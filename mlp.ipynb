{
 "cells": [
  {
   "cell_type": "code",
   "execution_count": 1,
   "metadata": {},
   "outputs": [],
   "source": [
    "import pandas as pd\n",
    "import matplotlib.pyplot as plt"
   ]
  },
  {
   "cell_type": "code",
   "execution_count": 2,
   "metadata": {},
   "outputs": [
    {
     "name": "stdout",
     "output_type": "stream",
     "text": [
      "  http://1337x.to/torrent/1048648/American-Sniper-2014-MD-iTALiAN-DVDSCR-X264-BST-MT/\n",
      "0  http://1337x.to/torrent/1110018/Blackhat-2015-...                                 \n",
      "1  http://1337x.to/torrent/1122940/Blackhat-2015-...                                 \n",
      "  http://v2.email-marketing.adminsimple.com/track/link?s=a879370e133bf6f71b5cc7ce0c2043e1&amp;AdministratorID=20238&amp;MemberID=21410&amp;CampaignID=1&amp;CampaignStatisticsID=1&amp;URL=http%3A%2F%2Fwww.cadivi.pro%2Faprobados%2Faprobados2012.php%3Futm_source%3Dv2.email-marketing.adminsimple.com\n",
      "0  http://bid.openx.net/json?amp;amp;amp;amp;cid;...                                                                                                                                                                                                                                                    \n",
      "1  http://webmail2.centurytel.net/hwebmail/servic...                                                                                                                                                                                                                                                    \n"
     ]
    }
   ],
   "source": [
    "# Import data\n",
    "legit = pd.read_csv(\"datasets/unb-university/Benign_list_big_final.csv\")\n",
    "phishing = pd.read_csv(\"datasets/unb-university/phishing_dataset.csv\")\n",
    "\n",
    "print(legit.head(2))\n",
    "print(phishing.head(2))"
   ]
  },
  {
   "cell_type": "code",
   "execution_count": 3,
   "metadata": {},
   "outputs": [],
   "source": [
    "legit.columns = ['url']\n",
    "phishing.columns = ['url']"
   ]
  },
  {
   "cell_type": "markdown",
   "metadata": {},
   "source": [
    "# **Preparing Data**"
   ]
  },
  {
   "cell_type": "code",
   "execution_count": 4,
   "metadata": {},
   "outputs": [
    {
     "name": "stdout",
     "output_type": "stream",
     "text": [
      "Legit set null values: url    0\n",
      "dtype: int64\n",
      "\n",
      "Phishing set null values: url    0\n",
      "dtype: int64\n"
     ]
    }
   ],
   "source": [
    "# Check null values\n",
    "print(f\"Legit set null values: {legit.isnull().sum()}\")\n",
    "print()\n",
    "print(f\"Phishing set null values: {phishing.isnull().sum()}\")"
   ]
  },
  {
   "cell_type": "code",
   "execution_count": 5,
   "metadata": {},
   "outputs": [
    {
     "name": "stdout",
     "output_type": "stream",
     "text": [
      "Legit's duplicates num: 0\n",
      "Phishing duplicates num: 9\n",
      "\n",
      "After dropping duplicates\n",
      "Legit's duplicates num: 0\n",
      "Phishing duplicates num: 0\n"
     ]
    }
   ],
   "source": [
    "# Drop duplicates\n",
    "print(f\"Legit's duplicates num: {legit.duplicated().sum()}\")\n",
    "print(f\"Phishing duplicates num: {phishing.duplicated().sum()}\")\n",
    "\n",
    "legit = legit.drop_duplicates()\n",
    "phishing = phishing.drop_duplicates()\n",
    "print()\n",
    "print(\"After dropping duplicates\")\n",
    "\n",
    "print(f\"Legit's duplicates num: {legit.duplicated().sum()}\")\n",
    "print(f\"Phishing duplicates num: {phishing.duplicated().sum()}\")"
   ]
  },
  {
   "cell_type": "code",
   "execution_count": 6,
   "metadata": {},
   "outputs": [
    {
     "name": "stdout",
     "output_type": "stream",
     "text": [
      "(35377, 1)\n",
      "(9955, 1)\n"
     ]
    }
   ],
   "source": [
    "# Check if there is imbalance\n",
    "print(legit.shape)\n",
    "print(phishing.shape)"
   ]
  },
  {
   "cell_type": "code",
   "execution_count": 7,
   "metadata": {},
   "outputs": [
    {
     "data": {
      "text/plain": [
       "(25422, 1)"
      ]
     },
     "execution_count": 7,
     "metadata": {},
     "output_type": "execute_result"
    }
   ],
   "source": [
    "# Add the right amount of phishing urls data from phishtank\n",
    "phishtank = pd.read_csv('datasets/phishtank-phishing-urls.csv')\n",
    "\n",
    "# Get the missing amount\n",
    "legit_mal_diff = int(len(legit.index) - len(phishing.index))\n",
    "\n",
    "# Randomly select the urls from phishtank dataset\n",
    "phishtank = phishtank.sample(n=legit_mal_diff,random_state=42)\n",
    "phishtank.shape"
   ]
  },
  {
   "cell_type": "code",
   "execution_count": 8,
   "metadata": {},
   "outputs": [
    {
     "name": "stdout",
     "output_type": "stream",
     "text": [
      "(35377, 1)\n",
      "(35377, 1)\n"
     ]
    }
   ],
   "source": [
    "phishing_added = pd.concat([phishing, phishtank])\n",
    "\n",
    "print(legit.shape)\n",
    "print(phishing_added.shape)"
   ]
  },
  {
   "cell_type": "code",
   "execution_count": 9,
   "metadata": {},
   "outputs": [],
   "source": [
    "# add a 'label' column to the dataframes\n",
    "legit[\"label\"] = 0\n",
    "phishing_added[\"label\"] = 1"
   ]
  },
  {
   "cell_type": "code",
   "execution_count": 10,
   "metadata": {},
   "outputs": [
    {
     "name": "stdout",
     "output_type": "stream",
     "text": [
      "(70754, 2)\n"
     ]
    }
   ],
   "source": [
    "# combine the two dataframes\n",
    "df = pd.concat([legit, phishing_added], ignore_index=True)\n",
    "\n",
    "# shuffle the dataframe's rows randomly\n",
    "df = df.sample(frac=1, random_state=42) # Set random_state to an integer for reproducibility\n",
    "df.reset_index(drop=True, inplace=True)\n",
    "\n",
    "print(df.shape)"
   ]
  },
  {
   "cell_type": "code",
   "execution_count": 11,
   "metadata": {},
   "outputs": [
    {
     "name": "stdout",
     "output_type": "stream",
     "text": [
      "url      0\n",
      "label    0\n",
      "dtype: int64\n",
      "1\n"
     ]
    }
   ],
   "source": [
    "print(df.isnull().sum())\n",
    "print(df.duplicated().sum())"
   ]
  },
  {
   "cell_type": "markdown",
   "metadata": {},
   "source": [
    "# **Transform Data**"
   ]
  },
  {
   "cell_type": "code",
   "execution_count": 12,
   "metadata": {},
   "outputs": [],
   "source": [
    "import torch\n",
    "\n",
    "# Assuming 'df' is your DataFrame containing URL data\n",
    "\n",
    "# Tokenize URLs into characters\n",
    "all_characters = set(''.join(df['url']))  # Get all unique characters in URLs\n",
    "char_to_index = {char: idx for idx, char in enumerate(all_characters)}\n",
    "index_to_char = {idx: char for char, idx in char_to_index.items()}\n",
    "\n",
    "# Convert URLs to numerical sequences\n",
    "max_sequence_length = max(len(url) for url in df['url'])  # Max URL length\n",
    "num_sequences = len(df)\n",
    "url_sequences = torch.zeros(num_sequences, max_sequence_length, dtype=torch.long)\n",
    "\n",
    "for i, url in enumerate(df['url']):\n",
    "    for t, char in enumerate(url):\n",
    "        url_sequences[i][t] = char_to_index[char]\n",
    "\n",
    "# Convert labels to PyTorch tensor\n",
    "labels = torch.tensor(df['label'].values, dtype=torch.long)\n"
   ]
  },
  {
   "cell_type": "code",
   "execution_count": 13,
   "metadata": {},
   "outputs": [],
   "source": [
    "import torch.nn as nn\n",
    "\n",
    "class CharRNN(nn.Module):\n",
    "    def __init__(self, input_size, hidden_size, output_size, num_layers=1):\n",
    "        super(CharRNN, self).__init__()\n",
    "        self.hidden_size = hidden_size\n",
    "        self.num_layers = num_layers\n",
    "        self.embedding = nn.Embedding(input_size, hidden_size)\n",
    "        self.rnn = nn.RNN(hidden_size, hidden_size, num_layers, batch_first=True)\n",
    "        self.fc = nn.Linear(hidden_size, output_size)\n",
    "\n",
    "    def forward(self, x):\n",
    "        batch_size = x.size(0)\n",
    "        hidden = self.init_hidden(batch_size)\n",
    "        embedded = self.embedding(x)\n",
    "        output, hidden = self.rnn(embedded, hidden)\n",
    "        output = self.fc(output[:, -1, :])  # Get output from the last time step\n",
    "        return output\n",
    "\n",
    "    def init_hidden(self, batch_size):\n",
    "        return torch.zeros(self.num_layers, batch_size, self.hidden_size)\n"
   ]
  },
  {
   "cell_type": "code",
   "execution_count": 14,
   "metadata": {},
   "outputs": [
    {
     "name": "stdout",
     "output_type": "stream",
     "text": [
      "Epoch [1/10], Loss: 0.6865\n",
      "Epoch [2/10], Loss: 0.6907\n",
      "Epoch [3/10], Loss: 0.7028\n",
      "Epoch [4/10], Loss: 0.7212\n",
      "Epoch [5/10], Loss: 0.6932\n",
      "Epoch [6/10], Loss: 0.6922\n",
      "Epoch [7/10], Loss: 0.6933\n",
      "Epoch [8/10], Loss: 0.6939\n",
      "Epoch [9/10], Loss: 0.7008\n",
      "Epoch [10/10], Loss: 0.6930\n"
     ]
    }
   ],
   "source": [
    "# Define hyperparameters\n",
    "input_size = len(all_characters)\n",
    "hidden_size = 128  # Adjust as needed\n",
    "output_size = 2  # Assuming binary classification\n",
    "num_layers = 1\n",
    "learning_rate = 0.001\n",
    "num_epochs = 10\n",
    "batch_size = 64\n",
    "\n",
    "# Create model, loss function, and optimizer\n",
    "model = CharRNN(input_size, hidden_size, output_size, num_layers)\n",
    "criterion = nn.CrossEntropyLoss()\n",
    "optimizer = torch.optim.Adam(model.parameters(), lr=learning_rate)\n",
    "\n",
    "# Create DataLoader\n",
    "dataset = torch.utils.data.TensorDataset(url_sequences, labels)\n",
    "loader = torch.utils.data.DataLoader(dataset, batch_size=batch_size, shuffle=True)\n",
    "\n",
    "# Training loop\n",
    "for epoch in range(num_epochs):\n",
    "    for batch in loader:\n",
    "        inputs, targets = batch\n",
    "        optimizer.zero_grad()\n",
    "        outputs = model(inputs)\n",
    "        loss = criterion(outputs, targets)\n",
    "        loss.backward()\n",
    "        optimizer.step()\n",
    "\n",
    "    print(f'Epoch [{epoch+1}/{num_epochs}], Loss: {loss.item():.4f}')\n"
   ]
  },
  {
   "cell_type": "code",
   "execution_count": 15,
   "metadata": {},
   "outputs": [
    {
     "name": "stdout",
     "output_type": "stream",
     "text": [
      "Accuracy on test set: 0.5000\n"
     ]
    }
   ],
   "source": [
    "# Evaluate the trained model\n",
    "model.eval()\n",
    "total_correct = 0\n",
    "total_samples = 0\n",
    "\n",
    "with torch.no_grad():\n",
    "    for batch in loader:\n",
    "        inputs, targets = batch\n",
    "        outputs = model(inputs)\n",
    "        _, predicted = torch.max(outputs, 1)\n",
    "        total_correct += (predicted == targets).sum().item()\n",
    "        total_samples += targets.size(0)\n",
    "\n",
    "accuracy = total_correct / total_samples\n",
    "print(f'Accuracy on test set: {accuracy:.4f}')\n"
   ]
  },
  {
   "cell_type": "markdown",
   "metadata": {},
   "source": [
    "# **Train Test Split**"
   ]
  },
  {
   "cell_type": "markdown",
   "metadata": {},
   "source": [
    "# **Model**"
   ]
  },
  {
   "cell_type": "code",
   "execution_count": null,
   "metadata": {},
   "outputs": [],
   "source": []
  }
 ],
 "metadata": {
  "kernelspec": {
   "display_name": "Python 3",
   "language": "python",
   "name": "python3"
  },
  "language_info": {
   "codemirror_mode": {
    "name": "ipython",
    "version": 3
   },
   "file_extension": ".py",
   "mimetype": "text/x-python",
   "name": "python",
   "nbconvert_exporter": "python",
   "pygments_lexer": "ipython3",
   "version": "3.11.6"
  }
 },
 "nbformat": 4,
 "nbformat_minor": 2
}
